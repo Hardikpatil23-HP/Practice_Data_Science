{
 "cells": [
  {
   "cell_type": "markdown",
   "metadata": {},
   "source": [
    "---\n",
    "---\n",
    "# **Pandas**\n",
    "\n",
    "#### **1. input/output**\n",
    "\n",
    "1.1 read_csv  \n",
    "1.2 read_excel  \n",
    "1.3 Dataframe.to_csv  \n",
    "1.4 Dataframe.to_excel  \n",
    "\n",
    "#### **2. General Function**\n",
    "\n",
    "2.1 pivot    \n",
    "2.2 crosstab  \n",
    "2.3 merge  \n",
    "2.4 concat  \n",
    "2.5 get_dummies\n",
    "2.6 unique  \n",
    "2.7 isna  \n",
    "2.8 isnull  \n",
    "2.9 notna  \n",
    "2.10 to_datetime  \n",
    "\n",
    "#### **3. Series**\n",
    "\n",
    "3.1 index  \n",
    "3.2 array  \n",
    "3.3 values  \n",
    "3.4 dtype  \n",
    "3.5 shape  \n",
    "3.6 ndim  \n",
    "3.7 size  \n",
    "3.8 T  \n",
    "3.9 empty  \n",
    "3.10 dtypes  \n",
    "3.11 name  \n",
    "\n",
    "#### **4.Dataframe**\n",
    "\n",
    "4.1 index  \n",
    "4.2 dtypes  \n",
    "4.3 column  \n",
    "4.4 info  \n",
    "4.5 select_dtypes  \n",
    "4.6 values  \n",
    "4.7 axes  \n",
    "4.8 ndim  \n",
    "4.9 size  \n",
    "4.10 shape  \n",
    "4.11 empty  \n",
    "4.12 astype  \n",
    "4.13 bool  \n",
    "4.14 head  \n",
    "4.15 loc    \n",
    "4.16 iloc  \n",
    "4.17 items  \n",
    "4.18 keys  \n",
    "4.19 pop  \n",
    "4.20 tail  \n",
    "4.21 head  \n",
    "4.22 where  \n",
    "4.23 query  \n",
    "4.24 apply  \n",
    "4.25 agg  \n",
    "4.26 transform  \n",
    "4.27 groupby  \n",
    "4.28 rolling  \n",
    "4.29 corr  \n",
    "4.30 quantile  \n",
    "4.31 value_counts  \n",
    "4.32 drop  \n",
    "4.33 drop_duplicates  \n",
    "4.34 duplicated  \n",
    "4.35 filter  \n",
    "4.36 rename  \n",
    "4.37 dropna  "
   ]
  },
  {
   "cell_type": "code",
   "execution_count": 1,
   "metadata": {},
   "outputs": [],
   "source": [
    "import pandas as pd\n",
    "import numpy as np\n",
    "import warnings\n",
    "warnings.filterwarnings(\"ignore\")"
   ]
  },
  {
   "cell_type": "markdown",
   "metadata": {},
   "source": [
    "---\n",
    "\n",
    "--- \n",
    "\n",
    "#### **1. input/output**\n",
    "\n",
    "1.1 read_csv  \n",
    "1.2 read_excel  \n",
    "1.3 Dataframe.to_csv  \n",
    "1.4 Dataframe.to_excel  "
   ]
  },
  {
   "cell_type": "markdown",
   "metadata": {},
   "source": [
    "# 1.1 read_csv"
   ]
  },
  {
   "cell_type": "code",
   "execution_count": 2,
   "metadata": {},
   "outputs": [
    {
     "data": {
      "text/html": [
       "<div>\n",
       "<style scoped>\n",
       "    .dataframe tbody tr th:only-of-type {\n",
       "        vertical-align: middle;\n",
       "    }\n",
       "\n",
       "    .dataframe tbody tr th {\n",
       "        vertical-align: top;\n",
       "    }\n",
       "\n",
       "    .dataframe thead th {\n",
       "        text-align: right;\n",
       "    }\n",
       "</style>\n",
       "<table border=\"1\" class=\"dataframe\">\n",
       "  <thead>\n",
       "    <tr style=\"text-align: right;\">\n",
       "      <th></th>\n",
       "      <th>mpg</th>\n",
       "      <th>cylinders</th>\n",
       "      <th>cubicinches</th>\n",
       "      <th>hp</th>\n",
       "      <th>weightlbs</th>\n",
       "      <th>time-to-60</th>\n",
       "      <th>year</th>\n",
       "      <th>brand</th>\n",
       "    </tr>\n",
       "  </thead>\n",
       "  <tbody>\n",
       "    <tr>\n",
       "      <th>0</th>\n",
       "      <td>14.0</td>\n",
       "      <td>8</td>\n",
       "      <td>350</td>\n",
       "      <td>165</td>\n",
       "      <td>4209</td>\n",
       "      <td>12</td>\n",
       "      <td>1972</td>\n",
       "      <td>US.</td>\n",
       "    </tr>\n",
       "    <tr>\n",
       "      <th>1</th>\n",
       "      <td>31.9</td>\n",
       "      <td>4</td>\n",
       "      <td>89</td>\n",
       "      <td>71</td>\n",
       "      <td>1925</td>\n",
       "      <td>14</td>\n",
       "      <td>1980</td>\n",
       "      <td>Europe.</td>\n",
       "    </tr>\n",
       "    <tr>\n",
       "      <th>2</th>\n",
       "      <td>17.0</td>\n",
       "      <td>8</td>\n",
       "      <td>302</td>\n",
       "      <td>140</td>\n",
       "      <td>3449</td>\n",
       "      <td>11</td>\n",
       "      <td>1971</td>\n",
       "      <td>US.</td>\n",
       "    </tr>\n",
       "  </tbody>\n",
       "</table>\n",
       "</div>"
      ],
      "text/plain": [
       "    mpg  cylinders cubicinches   hp weightlbs  time-to-60  year     brand\n",
       "0  14.0          8         350  165      4209          12  1972       US.\n",
       "1  31.9          4          89   71      1925          14  1980   Europe.\n",
       "2  17.0          8         302  140      3449          11  1971       US."
      ]
     },
     "execution_count": 2,
     "metadata": {},
     "output_type": "execute_result"
    }
   ],
   "source": [
    "data_csv = pd.read_csv('S:\\\\Python_and_sql\\\\cars.csv')\n",
    "data_csv.head(3)"
   ]
  },
  {
   "cell_type": "markdown",
   "metadata": {},
   "source": [
    "# 1.2 read_excel"
   ]
  },
  {
   "cell_type": "code",
   "execution_count": 3,
   "metadata": {},
   "outputs": [
    {
     "data": {
      "text/html": [
       "<div>\n",
       "<style scoped>\n",
       "    .dataframe tbody tr th:only-of-type {\n",
       "        vertical-align: middle;\n",
       "    }\n",
       "\n",
       "    .dataframe tbody tr th {\n",
       "        vertical-align: top;\n",
       "    }\n",
       "\n",
       "    .dataframe thead th {\n",
       "        text-align: right;\n",
       "    }\n",
       "</style>\n",
       "<table border=\"1\" class=\"dataframe\">\n",
       "  <thead>\n",
       "    <tr style=\"text-align: right;\">\n",
       "      <th></th>\n",
       "      <th>satisfactoryLevel</th>\n",
       "      <th>lastEvaluation</th>\n",
       "      <th>numberOfProjects</th>\n",
       "      <th>avgMonthlyHours</th>\n",
       "      <th>timeSpent.company</th>\n",
       "      <th>workAccident</th>\n",
       "      <th>left</th>\n",
       "      <th>promotionInLast5years</th>\n",
       "      <th>dept</th>\n",
       "      <th>salary</th>\n",
       "    </tr>\n",
       "  </thead>\n",
       "  <tbody>\n",
       "    <tr>\n",
       "      <th>0</th>\n",
       "      <td>0.38</td>\n",
       "      <td>0.53</td>\n",
       "      <td>2</td>\n",
       "      <td>157</td>\n",
       "      <td>3</td>\n",
       "      <td>0</td>\n",
       "      <td>1</td>\n",
       "      <td>0</td>\n",
       "      <td>sales</td>\n",
       "      <td>low</td>\n",
       "    </tr>\n",
       "    <tr>\n",
       "      <th>1</th>\n",
       "      <td>0.80</td>\n",
       "      <td>0.86</td>\n",
       "      <td>5</td>\n",
       "      <td>262</td>\n",
       "      <td>6</td>\n",
       "      <td>0</td>\n",
       "      <td>1</td>\n",
       "      <td>0</td>\n",
       "      <td>sales</td>\n",
       "      <td>medium</td>\n",
       "    </tr>\n",
       "    <tr>\n",
       "      <th>2</th>\n",
       "      <td>0.11</td>\n",
       "      <td>0.88</td>\n",
       "      <td>7</td>\n",
       "      <td>272</td>\n",
       "      <td>4</td>\n",
       "      <td>0</td>\n",
       "      <td>1</td>\n",
       "      <td>0</td>\n",
       "      <td>sales</td>\n",
       "      <td>medium</td>\n",
       "    </tr>\n",
       "  </tbody>\n",
       "</table>\n",
       "</div>"
      ],
      "text/plain": [
       "   satisfactoryLevel  lastEvaluation  numberOfProjects  avgMonthlyHours  \\\n",
       "0               0.38            0.53                 2              157   \n",
       "1               0.80            0.86                 5              262   \n",
       "2               0.11            0.88                 7              272   \n",
       "\n",
       "   timeSpent.company  workAccident  left  promotionInLast5years   dept  salary  \n",
       "0                  3             0     1                      0  sales     low  \n",
       "1                  6             0     1                      0  sales  medium  \n",
       "2                  4             0     1                      0  sales  medium  "
      ]
     },
     "execution_count": 3,
     "metadata": {},
     "output_type": "execute_result"
    }
   ],
   "source": [
    "data_excel = pd.read_excel('S:\\\\Python_and_sql\\\\people.xlsx')\n",
    "data_excel.head(3)"
   ]
  },
  {
   "cell_type": "markdown",
   "metadata": {},
   "source": [
    "# 1.3 Dataframe.to_csv"
   ]
  },
  {
   "cell_type": "code",
   "execution_count": 4,
   "metadata": {},
   "outputs": [],
   "source": [
    "df1 = pd.DataFrame([['a', 'b'], ['c', 'd']],\n",
    "                   index=['row 1', 'row 2'],\n",
    "                   columns=['col 1', 'col 2'])\n",
    "df1.to_csv(\"df_csv.csv\")  "
   ]
  },
  {
   "cell_type": "markdown",
   "metadata": {},
   "source": [
    "# 1.4 Dataframe.to_excel"
   ]
  },
  {
   "cell_type": "code",
   "execution_count": 5,
   "metadata": {},
   "outputs": [],
   "source": [
    "df1 = pd.DataFrame([['a', 'b'], ['c', 'd']],\n",
    "                   index=['row 1', 'row 2'],\n",
    "                   columns=['col 1', 'col 2'])\n",
    "df1.to_excel(\"df_excel.xlsx\")  "
   ]
  },
  {
   "cell_type": "markdown",
   "metadata": {},
   "source": [
    "--- \n",
    "---\n",
    "\n",
    "#### **2. General Function**\n",
    "\n",
    "2.1 pivot  \n",
    "2.2 pivot_table  \n",
    "2.3 crosstab  \n",
    "2.4 merge  \n",
    "2.5 concat  \n",
    "2.6 get_dummies\n",
    "2.7 unique  \n",
    "2.8 isna  \n",
    "2.9 isnull  \n",
    "2.10 notna  \n",
    "2.11 to_datetime  "
   ]
  },
  {
   "cell_type": "code",
   "execution_count": 6,
   "metadata": {},
   "outputs": [
    {
     "name": "stdout",
     "output_type": "stream",
     "text": [
      "  numbers alphabets\n",
      "0       1         a\n",
      "1       2         b\n",
      "2       3         c\n",
      "3       4         a\n",
      "4       5         b\n",
      "5       6         c\n",
      "6       7         a\n",
      "7       8         b\n",
      "8       9         c\n",
      "9      10         a\n"
     ]
    }
   ],
   "source": [
    "# main dataframe for practice\n",
    "\n",
    "data = np.array([[1, 2, 3, 4, 5, 6, 7, 8, 9, 10],\n",
    "                  ['a', 'b', 'c', 'a', 'b', 'c', 'a', 'b', 'c','a']]).T\n",
    "\n",
    "df2 = pd.DataFrame(data, columns=['numbers', 'alphabets'])\n",
    "\n",
    "print(df2)"
   ]
  },
  {
   "cell_type": "markdown",
   "metadata": {},
   "source": [
    "# 2.1 pivot"
   ]
  },
  {
   "cell_type": "code",
   "execution_count": 7,
   "metadata": {},
   "outputs": [
    {
     "name": "stdout",
     "output_type": "stream",
     "text": [
      "\n",
      "   dataset   \n",
      "\n",
      "         Date         City  Temperature\n",
      "0  2023-01-01     New York           32\n",
      "1  2023-01-01  Los Angeles           75\n",
      "2  2023-01-02     New York           30\n",
      "3  2023-01-02  Los Angeles           72\n",
      "\n",
      "   pivoted table   \n",
      "\n",
      "City        Los Angeles  New York\n",
      "Date                             \n",
      "2023-01-01           75        32\n",
      "2023-01-02           72        30\n"
     ]
    }
   ],
   "source": [
    "data = {\n",
    "    'Date': ['2023-01-01', '2023-01-01', '2023-01-02', '2023-01-02'],\n",
    "    'City': ['New York', 'Los Angeles', 'New York', 'Los Angeles'],\n",
    "    'Temperature': [32, 75, 30, 72]\n",
    "}\n",
    "\n",
    "df = pd.DataFrame(data)\n",
    "\n",
    "pivot_df = df.pivot(index='Date', columns='City', values='Temperature')\n",
    "\n",
    "\n",
    "#########################################################################################################\n",
    "print('\\n   dataset   \\n')\n",
    "print(df)\n",
    "print('\\n   pivoted table   \\n')\n",
    "print(pivot_df)"
   ]
  },
  {
   "cell_type": "markdown",
   "metadata": {},
   "source": [
    "# 2.2 crosstab "
   ]
  },
  {
   "cell_type": "code",
   "execution_count": 8,
   "metadata": {},
   "outputs": [
    {
     "name": "stdout",
     "output_type": "stream",
     "text": [
      "City        Los Angeles  New York\n",
      "Date                             \n",
      "2023-01-01            1         1\n",
      "2023-01-02            1         1\n"
     ]
    }
   ],
   "source": [
    "# crosstab normal\n",
    "\n",
    "crosstab = pd.crosstab(df['Date'], df['City'])\n",
    "print(crosstab)"
   ]
  },
  {
   "cell_type": "code",
   "execution_count": 9,
   "metadata": {},
   "outputs": [
    {
     "name": "stdout",
     "output_type": "stream",
     "text": [
      "City        Los Angeles  New York\n",
      "Date                             \n",
      "2023-01-01           75        32\n",
      "2023-01-02           72        30\n"
     ]
    }
   ],
   "source": [
    "# crosstab with aggregate function (sum)\n",
    "\n",
    "crosstab_mean = pd.crosstab(df['Date'], df['City'], values=df['Temperature'], aggfunc='sum')\n",
    "print(crosstab_mean)"
   ]
  },
  {
   "cell_type": "markdown",
   "metadata": {},
   "source": [
    "# 2.3 merge  "
   ]
  },
  {
   "cell_type": "code",
   "execution_count": 10,
   "metadata": {},
   "outputs": [
    {
     "name": "stdout",
     "output_type": "stream",
     "text": [
      "df1 \n",
      "    ID     Name\n",
      "0   1    Alice\n",
      "1   2      Bob\n",
      "2   3  Charlie \n",
      "\n",
      "\n",
      "df2 \n",
      "    ID  Score\n",
      "0   2     85\n",
      "1   3     90\n",
      "2   4     95 \n",
      "\n",
      "\n"
     ]
    }
   ],
   "source": [
    "# creating two dataframes \n",
    "\n",
    "df1 = pd.DataFrame({                        # df1\n",
    "    'ID': [1, 2, 3],\n",
    "    'Name': ['Alice', 'Bob', 'Charlie']\n",
    "})                                  \n",
    "print('df1 \\n', df1,'\\n\\n')\n",
    "\n",
    "df2 = pd.DataFrame({                        # df2\n",
    "    'ID': [2, 3, 4],\n",
    "    'Score': [85, 90, 95]\n",
    "})\n",
    "print('df2 \\n', df2 ,'\\n\\n')\n"
   ]
  },
  {
   "cell_type": "code",
   "execution_count": 11,
   "metadata": {},
   "outputs": [
    {
     "name": "stdout",
     "output_type": "stream",
     "text": [
      "inner join\n",
      "   ID     Name  Score\n",
      "0   2      Bob     85\n",
      "1   3  Charlie     90\n",
      "\n",
      "\n",
      "left join\n",
      "   ID     Name  Score\n",
      "0   1    Alice    NaN\n",
      "1   2      Bob   85.0\n",
      "2   3  Charlie   90.0\n",
      "\n",
      "\n",
      "right join\n",
      "   ID     Name  Score\n",
      "0   2      Bob     85\n",
      "1   3  Charlie     90\n",
      "2   4      NaN     95\n",
      "\n",
      "\n",
      "outer join\n",
      "   ID     Name  Score\n",
      "0   1    Alice    NaN\n",
      "1   2      Bob   85.0\n",
      "2   3  Charlie   90.0\n",
      "3   4      NaN   95.0\n",
      "\n",
      "\n"
     ]
    }
   ],
   "source": [
    "# merge function works as joins in sql\n",
    "\n",
    "# merging df1 and df2 on ID column \n",
    "\n",
    "inner_merged_df = df1.merge(df2, on='ID')  # inner join\n",
    "\n",
    "# left table merge   here df1 is taken as left\n",
    "\n",
    "left_merged_df = df1.merge(df2, on='ID', how='left')  # left join \n",
    "\n",
    "# right table merge   here df2 is taken as right\n",
    "\n",
    "right_merged_df = df1.merge(df2, on='ID', how='right') # right join\n",
    "\n",
    "\n",
    "# right table merge   here df2 is taken as right\n",
    "\n",
    "outer_merged_df = df1.merge(df2, on='ID', how='outer') # right join\n",
    "\n",
    "\n",
    "# for not getting confused creating a print ladder\n",
    "\n",
    "print('inner join')\n",
    "print(inner_merged_df)\n",
    "print('\\n')\n",
    "print('left join')\n",
    "print(left_merged_df)\n",
    "print('\\n')\n",
    "print('right join')\n",
    "print(right_merged_df)\n",
    "print('\\n')\n",
    "print('outer join')\n",
    "print(outer_merged_df)\n",
    "print('\\n')\n"
   ]
  },
  {
   "cell_type": "code",
   "execution_count": 12,
   "metadata": {},
   "outputs": [
    {
     "name": "stdout",
     "output_type": "stream",
     "text": [
      "diffcol_merge_df \n",
      "\n",
      "   EmployeeID     Name  ID  Score\n",
      "0           2      Bob   2     85\n",
      "1           3  Charlie   3     90\n",
      "\n",
      "\n",
      "index_merge_df \n",
      "\n",
      "      Name  Score Department\n",
      "1    Alice   85.0         HR\n",
      "2      Bob   90.0         IT\n",
      "3  Charlie   95.0        NaN\n",
      "4      NaN    NaN    Finance\n"
     ]
    }
   ],
   "source": [
    "# Merge on Different Column Names\n",
    "\n",
    "emp = pd.DataFrame({\n",
    "    'EmployeeID': [1, 2, 3],\n",
    "    'Name': ['Alice', 'Bob', 'Charlie']\n",
    "})\n",
    "\n",
    "score = pd.DataFrame({\n",
    "    'ID': [2, 3, 4],\n",
    "    'Score': [85, 90, 95]\n",
    "})\n",
    "\n",
    "diffcol_merge_df = emp.merge(score, left_on='EmployeeID', right_on='ID', how='inner')\n",
    "\n",
    "\n",
    "#########################################################################################################\n",
    "# merging on index\n",
    "\n",
    "emp1 = pd.DataFrame({\n",
    "    'Name': ['Alice', 'Bob', 'Charlie'],\n",
    "    'Score': [85, 90, 95]\n",
    "}, index=[1, 2, 3])\n",
    "\n",
    "dep = pd.DataFrame({\n",
    "    'Department': ['HR', 'IT', 'Finance']\n",
    "}, index=[1, 2, 4])\n",
    "\n",
    "index_merge_df = emp1.merge(dep, left_index=True, right_index=True, how='outer')\n",
    "\n",
    "#########################################################################################################\n",
    "\n",
    "print('diffcol_merge_df \\n')\n",
    "print(diffcol_merge_df)\n",
    "print('\\n')\n",
    "print('index_merge_df \\n')\n",
    "print(index_merge_df)\n"
   ]
  },
  {
   "cell_type": "markdown",
   "metadata": {},
   "source": [
    "# 2.4 concat "
   ]
  },
  {
   "cell_type": "code",
   "execution_count": 13,
   "metadata": {},
   "outputs": [
    {
     "name": "stdout",
     "output_type": "stream",
     "text": [
      "df1\n",
      "   A  B\n",
      "0  1  3\n",
      "1  2  4\n",
      "\n",
      "\n",
      "df2\n",
      "   A  B\n",
      "0  5  7\n",
      "1  6  8\n",
      "\n",
      "\n",
      "concat_row\n",
      "   A  B\n",
      "0  1  3\n",
      "1  2  4\n",
      "0  5  7\n",
      "1  6  8\n",
      "\n",
      "\n",
      "concat_col\n",
      "   A  B  A  B\n",
      "0  1  3  5  7\n",
      "1  2  4  6  8\n",
      "\n",
      "\n"
     ]
    }
   ],
   "source": [
    "df1 = pd.DataFrame({'A': [1, 2], 'B': [3, 4]})\n",
    "df2 = pd.DataFrame({'A': [5, 6], 'B': [7, 8]})\n",
    "\n",
    "# Concatenating Along Rows\n",
    "concat_row = pd.concat([df1, df2])\n",
    "\n",
    "#########################################################################################################\n",
    "# Concatenating Along Columns\n",
    "concat_col = pd.concat([df1, df2], axis=1)\n",
    "\n",
    "#########################################################################################################\n",
    "\n",
    "print('df1')\n",
    "print(df1)\n",
    "print('\\n')\n",
    "print('df2')\n",
    "print(df2)\n",
    "print('\\n')\n",
    "print('concat_row')\n",
    "print(concat_row)\n",
    "print('\\n')\n",
    "print('concat_col')\n",
    "print(concat_col)\n",
    "print('\\n')"
   ]
  },
  {
   "cell_type": "markdown",
   "metadata": {},
   "source": [
    "# 2.5 get_dummies"
   ]
  },
  {
   "cell_type": "code",
   "execution_count": 14,
   "metadata": {},
   "outputs": [
    {
     "name": "stdout",
     "output_type": "stream",
     "text": [
      "  Animal  Color\n",
      "0    cat  black\n",
      "1    dog  white\n",
      "2   bird  black\n",
      "3    dog  white\n",
      "Series\n",
      "    bird    cat    dog\n",
      "0  False   True  False\n",
      "1  False  False   True\n",
      "2   True  False  False\n",
      "3  False  False   True\n",
      "One-Hot\n",
      "   Animal_bird  Animal_cat  Animal_dog  Color_black  Color_white\n",
      "0        False        True       False         True        False\n",
      "1        False       False        True        False         True\n",
      "2         True       False       False         True        False\n",
      "3        False       False        True        False         True\n",
      "Prefix\n",
      "   Type_bird  Type_cat  Type_dog  Shade_black  Shade_white\n",
      "0      False      True     False         True        False\n",
      "1      False     False      True        False         True\n",
      "2       True     False     False         True        False\n",
      "3      False     False      True        False         True\n",
      "Specific\n",
      "   Color  Animal_bird  Animal_cat  Animal_dog\n",
      "0  black        False        True       False\n",
      "1  white        False       False        True\n",
      "2  black         True       False       False\n",
      "3  white        False       False        True\n"
     ]
    }
   ],
   "source": [
    "df = pd.DataFrame({\n",
    "    'Animal': ['cat', 'dog', 'bird', 'dog'],\n",
    "    'Color': ['black', 'white', 'black', 'white']\n",
    "})\n",
    "\n",
    "# Basic Usage with a Series\n",
    "seriesdum = pd.get_dummies(df['Animal'])\n",
    "\n",
    "#####################################################################################################################\n",
    "# One-Hot Encoding with a DataFrame\n",
    "one_hotdum = pd.get_dummies(df)\n",
    "\n",
    "#####################################################################################################################\n",
    "# Adding a Prefix\n",
    "prefixdum = pd.get_dummies(df, prefix=['Type', 'Shade'])\n",
    "\n",
    "#####################################################################################################################\n",
    "# Encoding Specific Columns\n",
    "specificdum = pd.get_dummies(df, columns=['Animal'])\n",
    "\n",
    "print(df)\n",
    "print('Series')\n",
    "print(seriesdum)\n",
    "print('One-Hot')\n",
    "print(one_hotdum)\n",
    "print('Prefix')\n",
    "print(prefixdum)\n",
    "print('Specific')\n",
    "print(specificdum)"
   ]
  },
  {
   "cell_type": "markdown",
   "metadata": {},
   "source": [
    "# 2.6 unique"
   ]
  },
  {
   "cell_type": "code",
   "execution_count": 15,
   "metadata": {},
   "outputs": [
    {
     "name": "stdout",
     "output_type": "stream",
     "text": [
      "['x' 'y' 'z']\n"
     ]
    }
   ],
   "source": [
    "df = pd.DataFrame({\n",
    "    'A': [1, 2, 2, 3],\n",
    "    'B': ['x', 'y', 'x', 'z']\n",
    "})\n",
    "\n",
    "unique_values = df['B'].unique()\n",
    "print(unique_values)"
   ]
  },
  {
   "cell_type": "markdown",
   "metadata": {},
   "source": [
    "# 2.7 isna"
   ]
  },
  {
   "cell_type": "code",
   "execution_count": 16,
   "metadata": {},
   "outputs": [
    {
     "name": "stdout",
     "output_type": "stream",
     "text": [
      "       A      B     C\n",
      "0  False  False  True\n",
      "1   True  False  True\n",
      "2  False   True  True\n"
     ]
    }
   ],
   "source": [
    "df = pd.DataFrame({\n",
    "    'A': [1, None, 3],\n",
    "    'B': [4, 5, None],\n",
    "    'C': [None, None, None]\n",
    "})\n",
    "\n",
    "# isna\n",
    "\n",
    "missing = df.isna()\n",
    "print(missing)\n"
   ]
  },
  {
   "cell_type": "markdown",
   "metadata": {},
   "source": [
    "# 2.8 isnull"
   ]
  },
  {
   "cell_type": "code",
   "execution_count": 17,
   "metadata": {},
   "outputs": [
    {
     "name": "stdout",
     "output_type": "stream",
     "text": [
      "       A      B     C\n",
      "0  False  False  True\n",
      "1   True  False  True\n",
      "2  False   True  True\n"
     ]
    }
   ],
   "source": [
    "# isnull\n",
    "missing = df.isnull()\n",
    "print(missing)"
   ]
  },
  {
   "cell_type": "markdown",
   "metadata": {},
   "source": [
    "# 2.9 notna"
   ]
  },
  {
   "cell_type": "code",
   "execution_count": 18,
   "metadata": {},
   "outputs": [
    {
     "name": "stdout",
     "output_type": "stream",
     "text": [
      "       A      B      C\n",
      "0   True   True  False\n",
      "1  False   True  False\n",
      "2   True  False  False\n"
     ]
    }
   ],
   "source": [
    "# notna\n",
    "non_missing = df.notna()\n",
    "print(non_missing)\n"
   ]
  },
  {
   "cell_type": "markdown",
   "metadata": {},
   "source": [
    "# 2.10 to_datetime"
   ]
  },
  {
   "cell_type": "code",
   "execution_count": 19,
   "metadata": {},
   "outputs": [
    {
     "name": "stdout",
     "output_type": "stream",
     "text": [
      "   year  month  day\n",
      "0  2015      2    4\n",
      "1  2016      3    5\n"
     ]
    },
    {
     "data": {
      "text/plain": [
       "0   2015-02-04\n",
       "1   2016-03-05\n",
       "dtype: datetime64[ns]"
      ]
     },
     "execution_count": 19,
     "metadata": {},
     "output_type": "execute_result"
    }
   ],
   "source": [
    "df = pd.DataFrame({'year': [2015, 2016],\n",
    "                   'month': [2, 3],\n",
    "                   'day': [4, 5]})\n",
    "print(df)\n",
    "\n",
    "pd.to_datetime(df)"
   ]
  },
  {
   "cell_type": "markdown",
   "metadata": {},
   "source": [
    "---\n",
    "---\n",
    "\n",
    "#### **3. Series**\n",
    "\n",
    "3.1 index  \n",
    "3.2 array  \n",
    "3.3 values  \n",
    "3.4 dtype  \n",
    "3.5 shape  \n",
    "3.6 ndim  \n",
    "3.7 size  \n",
    "3.8 T  \n",
    "3.9 empty  \n",
    "3.10 dtypes  \n",
    "3.11 name  "
   ]
  },
  {
   "cell_type": "markdown",
   "metadata": {},
   "source": [
    "# 3.1 index  "
   ]
  },
  {
   "cell_type": "code",
   "execution_count": 20,
   "metadata": {},
   "outputs": [
    {
     "name": "stdout",
     "output_type": "stream",
     "text": [
      "Index(['x', 'y', 'z'], dtype='object')\n"
     ]
    }
   ],
   "source": [
    "series = pd.Series([10, 20, 30],index=['x', 'y', 'z'])\n",
    "print(series.index)"
   ]
  },
  {
   "cell_type": "markdown",
   "metadata": {},
   "source": [
    "# 3.2 array "
   ]
  },
  {
   "cell_type": "code",
   "execution_count": 21,
   "metadata": {},
   "outputs": [
    {
     "name": "stdout",
     "output_type": "stream",
     "text": [
      "<NumpyExtensionArray>\n",
      "[10, 20, 30]\n",
      "Length: 3, dtype: int64\n",
      "\n",
      "\n",
      "series\n",
      " x    10\n",
      "y    20\n",
      "z    30\n",
      "dtype: int64\n"
     ]
    }
   ],
   "source": [
    "print(series.array)\n",
    "\n",
    "###################################################################################\n",
    "print( '\\n\\nseries\\n' , series )"
   ]
  },
  {
   "cell_type": "markdown",
   "metadata": {},
   "source": [
    "# 3.3 values  "
   ]
  },
  {
   "cell_type": "code",
   "execution_count": 22,
   "metadata": {},
   "outputs": [
    {
     "name": "stdout",
     "output_type": "stream",
     "text": [
      "[10 20 30]\n",
      "\n",
      "\n",
      "series\n",
      " x    10\n",
      "y    20\n",
      "z    30\n",
      "dtype: int64\n"
     ]
    }
   ],
   "source": [
    "print(series.values)\n",
    "\n",
    "###################################################################################\n",
    "print( '\\n\\nseries\\n' , series )"
   ]
  },
  {
   "cell_type": "markdown",
   "metadata": {},
   "source": [
    "# 3.4 dtype  "
   ]
  },
  {
   "cell_type": "code",
   "execution_count": 23,
   "metadata": {},
   "outputs": [
    {
     "name": "stdout",
     "output_type": "stream",
     "text": [
      "int64\n",
      "\n",
      "\n",
      "series\n",
      " x    10\n",
      "y    20\n",
      "z    30\n",
      "dtype: int64\n"
     ]
    }
   ],
   "source": [
    "print(series.dtype)  # For Series\n",
    "\n",
    "###################################################################################\n",
    "print( '\\n\\nseries\\n' , series )"
   ]
  },
  {
   "cell_type": "markdown",
   "metadata": {},
   "source": [
    "# 3.5 shape  "
   ]
  },
  {
   "cell_type": "code",
   "execution_count": 24,
   "metadata": {},
   "outputs": [
    {
     "name": "stdout",
     "output_type": "stream",
     "text": [
      "(3,)\n",
      "\n",
      "\n",
      "series\n",
      " x    10\n",
      "y    20\n",
      "z    30\n",
      "dtype: int64\n"
     ]
    }
   ],
   "source": [
    "print(series.shape) \n",
    "\n",
    "###################################################################################\n",
    "print( '\\n\\nseries\\n' , series )"
   ]
  },
  {
   "cell_type": "markdown",
   "metadata": {},
   "source": [
    "# 3.6 ndim  "
   ]
  },
  {
   "cell_type": "code",
   "execution_count": 25,
   "metadata": {},
   "outputs": [
    {
     "name": "stdout",
     "output_type": "stream",
     "text": [
      "1\n",
      "\n",
      "\n",
      "series\n",
      " x    10\n",
      "y    20\n",
      "z    30\n",
      "dtype: int64\n"
     ]
    }
   ],
   "source": [
    "print(series.ndim)  \n",
    "\n",
    "###################################################################################\n",
    "print( '\\n\\nseries\\n' , series )"
   ]
  },
  {
   "cell_type": "markdown",
   "metadata": {},
   "source": [
    "# 3.7 size  "
   ]
  },
  {
   "cell_type": "code",
   "execution_count": 26,
   "metadata": {},
   "outputs": [
    {
     "name": "stdout",
     "output_type": "stream",
     "text": [
      "3\n",
      "\n",
      "\n",
      "series\n",
      " x    10\n",
      "y    20\n",
      "z    30\n",
      "dtype: int64\n"
     ]
    }
   ],
   "source": [
    "print(series.size) \n",
    "\n",
    "###################################################################################\n",
    "print( '\\n\\nseries\\n' , series )"
   ]
  },
  {
   "cell_type": "markdown",
   "metadata": {},
   "source": [
    "# 3.8 T  "
   ]
  },
  {
   "cell_type": "code",
   "execution_count": 27,
   "metadata": {},
   "outputs": [
    {
     "name": "stdout",
     "output_type": "stream",
     "text": [
      "x    10\n",
      "y    20\n",
      "z    30\n",
      "dtype: int64\n",
      "\n",
      "\n",
      "series\n",
      " x    10\n",
      "y    20\n",
      "z    30\n",
      "dtype: int64\n"
     ]
    }
   ],
   "source": [
    "print(series.T) #transpose\n",
    "\n",
    "###################################################################################\n",
    "print( '\\n\\nseries\\n' , series )"
   ]
  },
  {
   "cell_type": "markdown",
   "metadata": {},
   "source": [
    "# 3.9 empty  "
   ]
  },
  {
   "cell_type": "code",
   "execution_count": 28,
   "metadata": {},
   "outputs": [
    {
     "name": "stdout",
     "output_type": "stream",
     "text": [
      "True\n",
      "False\n"
     ]
    }
   ],
   "source": [
    "empty_ser = pd.Series()         \n",
    "print(empty_ser.empty)  # True , empty_ser is empty\n",
    "print(series.empty)     # False ,series is not empty"
   ]
  },
  {
   "cell_type": "markdown",
   "metadata": {},
   "source": [
    "# 3.10 dtypes  "
   ]
  },
  {
   "cell_type": "code",
   "execution_count": 29,
   "metadata": {},
   "outputs": [
    {
     "name": "stdout",
     "output_type": "stream",
     "text": [
      "int64\n",
      "\n",
      "\n",
      "series\n",
      " x    10\n",
      "y    20\n",
      "z    30\n",
      "dtype: int64\n"
     ]
    }
   ],
   "source": [
    "print(series.dtypes)\n",
    "\n",
    "###################################################################################\n",
    "print( '\\n\\nseries\\n' , series )"
   ]
  },
  {
   "cell_type": "markdown",
   "metadata": {},
   "source": [
    "# 3.11 name  "
   ]
  },
  {
   "cell_type": "code",
   "execution_count": 30,
   "metadata": {},
   "outputs": [
    {
     "name": "stdout",
     "output_type": "stream",
     "text": [
      "Numbers\n",
      "\n",
      "\n",
      "series\n",
      " x    10\n",
      "y    20\n",
      "z    30\n",
      "Name: Numbers, dtype: int64\n"
     ]
    }
   ],
   "source": [
    "series.name = 'Numbers' # series can also be named\n",
    "print(series.name)\n",
    "\n",
    "###################################################################################\n",
    "print( '\\n\\nseries\\n' , series )"
   ]
  },
  {
   "cell_type": "markdown",
   "metadata": {},
   "source": [
    "---\n",
    "---\n",
    "#### **4.Dataframe**\n",
    "\n",
    "4.1 index  \n",
    "4.2 dtypes  \n",
    "4.3 column  \n",
    "4.4 info  \n",
    "4.5 select_dtypes  \n",
    "4.6 values  \n",
    "4.7 axes  \n",
    "4.8 ndim  \n",
    "4.9 size  \n",
    "4.10 shape  \n",
    "4.11 empty  \n",
    "4.12 astype  \n",
    "4.13 bool  \n",
    "4.14 head  \n",
    "4.15 loc    \n",
    "4.16 iloc  \n",
    "4.17 items  \n",
    "4.18 keys  \n",
    "4.19 pop  \n",
    "4.20 tail  \n",
    "4.21 head  \n",
    "4.22 where  \n",
    "4.23 query  \n",
    "4.24 apply  \n",
    "4.25 agg  \n",
    "4.26 transform  \n",
    "4.27 groupby  \n",
    "4.28 rolling  \n",
    "4.29 corr  \n",
    "4.30 quantile  \n",
    "4.31 value_counts  \n",
    "4.32 drop  \n",
    "4.33 drop_duplicates  \n",
    "4.34 duplicated  \n",
    "4.35 filter  \n",
    "4.36 rename  \n",
    "4.37 dropna  "
   ]
  },
  {
   "cell_type": "markdown",
   "metadata": {},
   "source": [
    "# 4.1 index  "
   ]
  },
  {
   "cell_type": "code",
   "execution_count": 31,
   "metadata": {},
   "outputs": [
    {
     "name": "stdout",
     "output_type": "stream",
     "text": [
      "Index(['a', 'b', 'c', 'd'], dtype='object')\n"
     ]
    }
   ],
   "source": [
    "df = pd.DataFrame({'A': [1, 2, 3, 4], 'B': [5 ,6 ,7 ,8], 'C': [9, 10, 11, 12]}, index=['a','b','c','d'])\n",
    "print(df.index)"
   ]
  },
  {
   "cell_type": "markdown",
   "metadata": {},
   "source": [
    "# 4.2 dtypes   "
   ]
  },
  {
   "cell_type": "code",
   "execution_count": 32,
   "metadata": {},
   "outputs": [
    {
     "name": "stdout",
     "output_type": "stream",
     "text": [
      "A    int64\n",
      "B    int64\n",
      "C    int64\n",
      "dtype: object\n",
      "\n",
      "df\n",
      "    A  B   C\n",
      "a  1  5   9\n",
      "b  2  6  10\n",
      "c  3  7  11\n",
      "d  4  8  12 \n",
      "\n"
     ]
    }
   ],
   "source": [
    "print(df.dtypes)\n",
    "\n",
    "##########################################################################\n",
    "print('\\ndf\\n', df ,'\\n')"
   ]
  },
  {
   "cell_type": "markdown",
   "metadata": {},
   "source": [
    "# 4.3 column  \n"
   ]
  },
  {
   "cell_type": "code",
   "execution_count": 33,
   "metadata": {},
   "outputs": [
    {
     "name": "stdout",
     "output_type": "stream",
     "text": [
      "Index(['A', 'B', 'C'], dtype='object')\n",
      "\n",
      "df\n",
      "    A  B   C\n",
      "a  1  5   9\n",
      "b  2  6  10\n",
      "c  3  7  11\n",
      "d  4  8  12 \n",
      "\n"
     ]
    }
   ],
   "source": [
    "print(df.columns)\n",
    "\n",
    "##########################################################################\n",
    "print('\\ndf\\n', df ,'\\n')"
   ]
  },
  {
   "cell_type": "markdown",
   "metadata": {},
   "source": [
    "# 4.4 info  "
   ]
  },
  {
   "cell_type": "code",
   "execution_count": 34,
   "metadata": {},
   "outputs": [
    {
     "name": "stdout",
     "output_type": "stream",
     "text": [
      "<class 'pandas.core.frame.DataFrame'>\n",
      "Index: 4 entries, a to d\n",
      "Data columns (total 3 columns):\n",
      " #   Column  Non-Null Count  Dtype\n",
      "---  ------  --------------  -----\n",
      " 0   A       4 non-null      int64\n",
      " 1   B       4 non-null      int64\n",
      " 2   C       4 non-null      int64\n",
      "dtypes: int64(3)\n",
      "memory usage: 128.0+ bytes\n",
      "None\n",
      "\n",
      "df\n",
      "    A  B   C\n",
      "a  1  5   9\n",
      "b  2  6  10\n",
      "c  3  7  11\n",
      "d  4  8  12 \n",
      "\n"
     ]
    }
   ],
   "source": [
    "print(df.info())\n",
    "\n",
    "##########################################################################\n",
    "print('\\ndf\\n', df ,'\\n')"
   ]
  },
  {
   "cell_type": "markdown",
   "metadata": {},
   "source": [
    "# 4.5 select_dtypes  \n"
   ]
  },
  {
   "cell_type": "code",
   "execution_count": 35,
   "metadata": {},
   "outputs": [
    {
     "name": "stdout",
     "output_type": "stream",
     "text": [
      "   A  B   C\n",
      "a  1  5   9\n",
      "b  2  6  10\n",
      "c  3  7  11\n",
      "d  4  8  12\n",
      "\n",
      "df\n",
      "    A  B   C\n",
      "a  1  5   9\n",
      "b  2  6  10\n",
      "c  3  7  11\n",
      "d  4  8  12 \n",
      "\n"
     ]
    }
   ],
   "source": [
    "print(df.select_dtypes(include='int64'))\n",
    "\n",
    "##########################################################################\n",
    "print('\\ndf\\n', df ,'\\n')"
   ]
  },
  {
   "cell_type": "markdown",
   "metadata": {},
   "source": [
    "# 4.6 values  \n"
   ]
  },
  {
   "cell_type": "code",
   "execution_count": 36,
   "metadata": {},
   "outputs": [
    {
     "name": "stdout",
     "output_type": "stream",
     "text": [
      "[[ 1  5  9]\n",
      " [ 2  6 10]\n",
      " [ 3  7 11]\n",
      " [ 4  8 12]]\n",
      "\n",
      "df\n",
      "    A  B   C\n",
      "a  1  5   9\n",
      "b  2  6  10\n",
      "c  3  7  11\n",
      "d  4  8  12 \n",
      "\n"
     ]
    }
   ],
   "source": [
    "print(df.values)\n",
    "\n",
    "##########################################################################\n",
    "print('\\ndf\\n', df ,'\\n')"
   ]
  },
  {
   "cell_type": "markdown",
   "metadata": {},
   "source": [
    "# 4.7 axes  "
   ]
  },
  {
   "cell_type": "code",
   "execution_count": 37,
   "metadata": {},
   "outputs": [
    {
     "name": "stdout",
     "output_type": "stream",
     "text": [
      "[Index(['a', 'b', 'c', 'd'], dtype='object'), Index(['A', 'B', 'C'], dtype='object')]\n",
      "\n",
      "df\n",
      "    A  B   C\n",
      "a  1  5   9\n",
      "b  2  6  10\n",
      "c  3  7  11\n",
      "d  4  8  12 \n",
      "\n"
     ]
    }
   ],
   "source": [
    "print(df.axes)\n",
    "\n",
    "##########################################################################\n",
    "print('\\ndf\\n', df ,'\\n')"
   ]
  },
  {
   "cell_type": "markdown",
   "metadata": {},
   "source": [
    "# 4.8 ndim  "
   ]
  },
  {
   "cell_type": "code",
   "execution_count": 38,
   "metadata": {},
   "outputs": [
    {
     "name": "stdout",
     "output_type": "stream",
     "text": [
      "2\n",
      "\n",
      "df\n",
      "    A  B   C\n",
      "a  1  5   9\n",
      "b  2  6  10\n",
      "c  3  7  11\n",
      "d  4  8  12 \n",
      "\n"
     ]
    }
   ],
   "source": [
    "print(df.ndim)\n",
    "\n",
    "##########################################################################\n",
    "print('\\ndf\\n', df ,'\\n')"
   ]
  },
  {
   "cell_type": "markdown",
   "metadata": {},
   "source": [
    "# 4.9 size  "
   ]
  },
  {
   "cell_type": "code",
   "execution_count": 39,
   "metadata": {},
   "outputs": [
    {
     "name": "stdout",
     "output_type": "stream",
     "text": [
      "12\n",
      "\n",
      "df\n",
      "    A  B   C\n",
      "a  1  5   9\n",
      "b  2  6  10\n",
      "c  3  7  11\n",
      "d  4  8  12 \n",
      "\n"
     ]
    }
   ],
   "source": [
    "print(df.size)\n",
    "\n",
    "##########################################################################\n",
    "print('\\ndf\\n', df ,'\\n')"
   ]
  },
  {
   "cell_type": "markdown",
   "metadata": {},
   "source": [
    "# 4.10 shape  "
   ]
  },
  {
   "cell_type": "code",
   "execution_count": 40,
   "metadata": {},
   "outputs": [
    {
     "name": "stdout",
     "output_type": "stream",
     "text": [
      "(4, 3)\n",
      "\n",
      "df\n",
      "    A  B   C\n",
      "a  1  5   9\n",
      "b  2  6  10\n",
      "c  3  7  11\n",
      "d  4  8  12 \n",
      "\n"
     ]
    }
   ],
   "source": [
    "print(df.shape)\n",
    "\n",
    "##########################################################################\n",
    "print('\\ndf\\n', df ,'\\n')"
   ]
  },
  {
   "cell_type": "markdown",
   "metadata": {},
   "source": [
    "# 4.11 empty  "
   ]
  },
  {
   "cell_type": "code",
   "execution_count": 41,
   "metadata": {},
   "outputs": [
    {
     "name": "stdout",
     "output_type": "stream",
     "text": [
      "False\n",
      "\n",
      "df\n",
      "    A  B   C\n",
      "a  1  5   9\n",
      "b  2  6  10\n",
      "c  3  7  11\n",
      "d  4  8  12 \n",
      "\n"
     ]
    }
   ],
   "source": [
    "print(df.empty)\n",
    "\n",
    "##########################################################################\n",
    "print('\\ndf\\n', df ,'\\n')"
   ]
  },
  {
   "cell_type": "markdown",
   "metadata": {},
   "source": [
    "# 4.12 astype  "
   ]
  },
  {
   "cell_type": "code",
   "execution_count": 42,
   "metadata": {},
   "outputs": [
    {
     "name": "stdout",
     "output_type": "stream",
     "text": [
      "A    float64\n",
      "B      int64\n",
      "C      int64\n",
      "dtype: object\n",
      "\n",
      "df\n",
      "      A  B   C\n",
      "a  1.0  5   9\n",
      "b  2.0  6  10\n",
      "c  3.0  7  11\n",
      "d  4.0  8  12 \n",
      "\n"
     ]
    }
   ],
   "source": [
    "df['A'] = df['A'].astype(float)\n",
    "print(df.dtypes)\n",
    "\n",
    "##########################################################################\n",
    "print('\\ndf\\n', df ,'\\n')"
   ]
  },
  {
   "cell_type": "markdown",
   "metadata": {},
   "source": [
    "# 4.13 bool  \n"
   ]
  },
  {
   "cell_type": "code",
   "execution_count": 43,
   "metadata": {},
   "outputs": [
    {
     "name": "stdout",
     "output_type": "stream",
     "text": [
      "True\n",
      "\n",
      "df\n",
      "      A  B   C\n",
      "a  1.0  5   9\n",
      "b  2.0  6  10\n",
      "c  3.0  7  11\n",
      "d  4.0  8  12 \n",
      "\n"
     ]
    }
   ],
   "source": [
    "print(bool(df[\"A\"][1]))\n",
    "\n",
    "##########################################################################\n",
    "print('\\ndf\\n', df ,'\\n')"
   ]
  },
  {
   "cell_type": "markdown",
   "metadata": {},
   "source": [
    "# 4.14 head  \n"
   ]
  },
  {
   "cell_type": "code",
   "execution_count": 44,
   "metadata": {},
   "outputs": [
    {
     "name": "stdout",
     "output_type": "stream",
     "text": [
      "     A  B   C\n",
      "a  1.0  5   9\n",
      "b  2.0  6  10\n",
      "c  3.0  7  11\n",
      "d  4.0  8  12\n",
      "\n",
      "df\n",
      "      A  B   C\n",
      "a  1.0  5   9\n",
      "b  2.0  6  10\n",
      "c  3.0  7  11\n",
      "d  4.0  8  12 \n",
      "\n"
     ]
    }
   ],
   "source": [
    "print(df.head())\n",
    "\n",
    "##########################################################################\n",
    "print('\\ndf\\n', df ,'\\n')"
   ]
  },
  {
   "cell_type": "markdown",
   "metadata": {},
   "source": [
    "# 4.15 loc    \n"
   ]
  },
  {
   "cell_type": "code",
   "execution_count": 45,
   "metadata": {},
   "outputs": [
    {
     "name": "stdout",
     "output_type": "stream",
     "text": [
      "A    1.0\n",
      "B    5.0\n",
      "C    9.0\n",
      "Name: a, dtype: float64\n",
      "\n",
      "df\n",
      "      A  B   C\n",
      "a  1.0  5   9\n",
      "b  2.0  6  10\n",
      "c  3.0  7  11\n",
      "d  4.0  8  12 \n",
      "\n"
     ]
    }
   ],
   "source": [
    "print(df.loc['a'])\n",
    "\n",
    "##########################################################################\n",
    "print('\\ndf\\n', df ,'\\n')"
   ]
  },
  {
   "cell_type": "markdown",
   "metadata": {},
   "source": [
    "# 4.16 iloc  \n"
   ]
  },
  {
   "cell_type": "code",
   "execution_count": 46,
   "metadata": {},
   "outputs": [
    {
     "name": "stdout",
     "output_type": "stream",
     "text": [
      "\n",
      "df.iloc[2]\n",
      "A     3.0\n",
      "B     7.0\n",
      "C    11.0\n",
      "Name: c, dtype: float64\n",
      "\n",
      "df.iloc[2,2]\n",
      "11\n",
      "\n",
      "df\n",
      "      A  B   C\n",
      "a  1.0  5   9\n",
      "b  2.0  6  10\n",
      "c  3.0  7  11\n",
      "d  4.0  8  12 \n",
      "\n"
     ]
    }
   ],
   "source": [
    "print('\\ndf.iloc[2]')\n",
    "\n",
    "print(df.iloc[2]) # returns value at that index row (0,1,2 so third row)\n",
    "\n",
    "print('\\ndf.iloc[2,2]')\n",
    "\n",
    "print(df.iloc[2,2]) # returns value at [row and col] index\n",
    "\n",
    "##########################################################################\n",
    "print('\\ndf\\n', df ,'\\n')"
   ]
  },
  {
   "cell_type": "markdown",
   "metadata": {},
   "source": [
    "# 4.17 items  \n"
   ]
  },
  {
   "cell_type": "code",
   "execution_count": 47,
   "metadata": {},
   "outputs": [
    {
     "name": "stdout",
     "output_type": "stream",
     "text": [
      "A [1. 2. 3. 4.]\n",
      "B [5 6 7 8]\n",
      "C [ 9 10 11 12]\n",
      "\n",
      "df\n",
      "      A  B   C\n",
      "a  1.0  5   9\n",
      "b  2.0  6  10\n",
      "c  3.0  7  11\n",
      "d  4.0  8  12 \n",
      "\n"
     ]
    }
   ],
   "source": [
    "for col, data in df.items():\n",
    "    print(col, data.values)\n",
    "\n",
    "##########################################################################\n",
    "print('\\ndf\\n', df ,'\\n')"
   ]
  },
  {
   "cell_type": "markdown",
   "metadata": {},
   "source": [
    "# 4.18 keys  \n"
   ]
  },
  {
   "cell_type": "code",
   "execution_count": 48,
   "metadata": {},
   "outputs": [
    {
     "name": "stdout",
     "output_type": "stream",
     "text": [
      "Index(['A', 'B', 'C'], dtype='object')\n",
      "\n",
      "df\n",
      "      A  B   C\n",
      "a  1.0  5   9\n",
      "b  2.0  6  10\n",
      "c  3.0  7  11\n",
      "d  4.0  8  12 \n",
      "\n"
     ]
    }
   ],
   "source": [
    "print(df.keys())\n",
    "\n",
    "##########################################################################\n",
    "print('\\ndf\\n', df ,'\\n')"
   ]
  },
  {
   "cell_type": "markdown",
   "metadata": {},
   "source": [
    "# 4.19 pop  \n"
   ]
  },
  {
   "cell_type": "code",
   "execution_count": 49,
   "metadata": {},
   "outputs": [
    {
     "name": "stdout",
     "output_type": "stream",
     "text": [
      "a    1.0\n",
      "b    2.0\n",
      "c    3.0\n",
      "d    4.0\n",
      "Name: A, dtype: float64\n",
      "\n",
      "df\n",
      "    B   C\n",
      "a  5   9\n",
      "b  6  10\n",
      "c  7  11\n",
      "d  8  12 \n",
      "\n"
     ]
    }
   ],
   "source": [
    "popped_col = df.pop('A')\n",
    "print(popped_col)\n",
    "\n",
    "##########################################################################\n",
    "print('\\ndf\\n', df ,'\\n')"
   ]
  },
  {
   "cell_type": "markdown",
   "metadata": {},
   "source": [
    "# 4.20 tail  \n"
   ]
  },
  {
   "cell_type": "code",
   "execution_count": 50,
   "metadata": {},
   "outputs": [
    {
     "name": "stdout",
     "output_type": "stream",
     "text": [
      "   B   C\n",
      "d  8  12\n",
      "\n",
      "df\n",
      "    B   C\n",
      "a  5   9\n",
      "b  6  10\n",
      "c  7  11\n",
      "d  8  12 \n",
      "\n"
     ]
    }
   ],
   "source": [
    "print(df.tail(1))    # usually returns last 5 column but u can give number of column\n",
    "\n",
    "##########################################################################\n",
    "print('\\ndf\\n', df ,'\\n')"
   ]
  },
  {
   "cell_type": "markdown",
   "metadata": {},
   "source": [
    "# 4.21 head  \n"
   ]
  },
  {
   "cell_type": "code",
   "execution_count": 51,
   "metadata": {},
   "outputs": [
    {
     "name": "stdout",
     "output_type": "stream",
     "text": [
      "   B   C\n",
      "a  5   9\n",
      "b  6  10\n",
      "\n",
      "df\n",
      "    B   C\n",
      "a  5   9\n",
      "b  6  10\n",
      "c  7  11\n",
      "d  8  12 \n",
      "\n"
     ]
    }
   ],
   "source": [
    "print(df.head(2)) # usually returns first 5 column but u can give number of column\n",
    "\n",
    "##########################################################################\n",
    "print('\\ndf\\n', df ,'\\n')"
   ]
  },
  {
   "cell_type": "markdown",
   "metadata": {},
   "source": [
    "# 4.22 where  \n"
   ]
  },
  {
   "cell_type": "code",
   "execution_count": 52,
   "metadata": {},
   "outputs": [
    {
     "name": "stdout",
     "output_type": "stream",
     "text": [
      "    B     C\n",
      "a NaN   NaN\n",
      "b NaN  10.0\n",
      "c NaN  11.0\n",
      "d NaN  12.0\n",
      "\n",
      "df\n",
      "    B   C\n",
      "a  5   9\n",
      "b  6  10\n",
      "c  7  11\n",
      "d  8  12 \n",
      "\n"
     ]
    }
   ],
   "source": [
    "print(df.where(df > 9))\n",
    "\n",
    "##########################################################################\n",
    "print('\\ndf\\n', df ,'\\n')"
   ]
  },
  {
   "cell_type": "markdown",
   "metadata": {},
   "source": [
    "# 4.23 query  \n"
   ]
  },
  {
   "cell_type": "code",
   "execution_count": 53,
   "metadata": {},
   "outputs": [
    {
     "name": "stdout",
     "output_type": "stream",
     "text": [
      "   B   C\n",
      "c  7  11\n",
      "d  8  12\n",
      "\n",
      "df\n",
      "    B   C\n",
      "a  5   9\n",
      "b  6  10\n",
      "c  7  11\n",
      "d  8  12 \n",
      "\n"
     ]
    }
   ],
   "source": [
    "filtered = df.query('B > 6')\n",
    "print(filtered)\n",
    "\n",
    "##########################################################################\n",
    "print('\\ndf\\n', df ,'\\n')"
   ]
  },
  {
   "cell_type": "markdown",
   "metadata": {},
   "source": [
    "# 4.24 apply  \n"
   ]
  },
  {
   "cell_type": "code",
   "execution_count": 54,
   "metadata": {},
   "outputs": [
    {
     "name": "stdout",
     "output_type": "stream",
     "text": [
      "B    26\n",
      "C    42\n",
      "dtype: int64\n",
      "\n",
      "df\n",
      "    B   C\n",
      "a  5   9\n",
      "b  6  10\n",
      "c  7  11\n",
      "d  8  12 \n",
      "\n"
     ]
    }
   ],
   "source": [
    "print(df.apply(sum, axis=0))  # Sum of columns\n",
    "\n",
    "##########################################################################\n",
    "print('\\ndf\\n', df ,'\\n')"
   ]
  },
  {
   "cell_type": "markdown",
   "metadata": {},
   "source": [
    "# 4.25 agg  \n"
   ]
  },
  {
   "cell_type": "code",
   "execution_count": 55,
   "metadata": {},
   "outputs": [
    {
     "name": "stdout",
     "output_type": "stream",
     "text": [
      "         B     C\n",
      "sum   26.0  42.0\n",
      "mean   6.5  10.5\n",
      "\n",
      "df\n",
      "    B   C\n",
      "a  5   9\n",
      "b  6  10\n",
      "c  7  11\n",
      "d  8  12 \n",
      "\n"
     ]
    }
   ],
   "source": [
    "print(df.agg(['sum', 'mean']))\n",
    "\n",
    "##########################################################################\n",
    "print('\\ndf\\n', df ,'\\n')"
   ]
  },
  {
   "cell_type": "markdown",
   "metadata": {},
   "source": [
    "# 4.26 transform  \n"
   ]
  },
  {
   "cell_type": "code",
   "execution_count": 56,
   "metadata": {},
   "outputs": [
    {
     "name": "stdout",
     "output_type": "stream",
     "text": [
      "    B   C\n",
      "a  10  18\n",
      "b  12  20\n",
      "c  14  22\n",
      "d  16  24\n",
      "\n",
      "df\n",
      "    B   C\n",
      "a  5   9\n",
      "b  6  10\n",
      "c  7  11\n",
      "d  8  12 \n",
      "\n"
     ]
    }
   ],
   "source": [
    "print(df.transform(lambda x: x * 2))\n",
    "\n",
    "##########################################################################\n",
    "print('\\ndf\\n', df ,'\\n')"
   ]
  },
  {
   "cell_type": "markdown",
   "metadata": {},
   "source": [
    "# 4.27 groupby  \n"
   ]
  },
  {
   "cell_type": "code",
   "execution_count": 57,
   "metadata": {},
   "outputs": [
    {
     "data": {
      "text/html": [
       "<div>\n",
       "<style scoped>\n",
       "    .dataframe tbody tr th:only-of-type {\n",
       "        vertical-align: middle;\n",
       "    }\n",
       "\n",
       "    .dataframe tbody tr th {\n",
       "        vertical-align: top;\n",
       "    }\n",
       "\n",
       "    .dataframe thead th {\n",
       "        text-align: right;\n",
       "    }\n",
       "</style>\n",
       "<table border=\"1\" class=\"dataframe\">\n",
       "  <thead>\n",
       "    <tr style=\"text-align: right;\">\n",
       "      <th></th>\n",
       "      <th>C</th>\n",
       "    </tr>\n",
       "    <tr>\n",
       "      <th>B</th>\n",
       "      <th></th>\n",
       "    </tr>\n",
       "  </thead>\n",
       "  <tbody>\n",
       "    <tr>\n",
       "      <th>5</th>\n",
       "      <td>9</td>\n",
       "    </tr>\n",
       "    <tr>\n",
       "      <th>6</th>\n",
       "      <td>10</td>\n",
       "    </tr>\n",
       "    <tr>\n",
       "      <th>7</th>\n",
       "      <td>11</td>\n",
       "    </tr>\n",
       "    <tr>\n",
       "      <th>8</th>\n",
       "      <td>12</td>\n",
       "    </tr>\n",
       "  </tbody>\n",
       "</table>\n",
       "</div>"
      ],
      "text/plain": [
       "    C\n",
       "B    \n",
       "5   9\n",
       "6  10\n",
       "7  11\n",
       "8  12"
      ]
     },
     "execution_count": 57,
     "metadata": {},
     "output_type": "execute_result"
    }
   ],
   "source": [
    "grouped = df.groupby('B').sum()\n",
    "grouped"
   ]
  },
  {
   "cell_type": "markdown",
   "metadata": {},
   "source": [
    "# 4.28 rolling  \n"
   ]
  },
  {
   "cell_type": "code",
   "execution_count": 58,
   "metadata": {},
   "outputs": [
    {
     "name": "stdout",
     "output_type": "stream",
     "text": [
      "a    NaN\n",
      "b    5.5\n",
      "c    6.5\n",
      "d    7.5\n",
      "Name: B, dtype: float64\n",
      "\n",
      "df\n",
      "    B   C\n",
      "a  5   9\n",
      "b  6  10\n",
      "c  7  11\n",
      "d  8  12 \n",
      "\n"
     ]
    }
   ],
   "source": [
    "print(df['B'].rolling(2).mean())\n",
    "\n",
    "##########################################################################\n",
    "print('\\ndf\\n', df ,'\\n')"
   ]
  },
  {
   "cell_type": "markdown",
   "metadata": {},
   "source": [
    "# 4.29 corr  \n"
   ]
  },
  {
   "cell_type": "code",
   "execution_count": 59,
   "metadata": {},
   "outputs": [
    {
     "name": "stdout",
     "output_type": "stream",
     "text": [
      "     B    C\n",
      "B  1.0  1.0\n",
      "C  1.0  1.0\n",
      "\n",
      "df\n",
      "    B   C\n",
      "a  5   9\n",
      "b  6  10\n",
      "c  7  11\n",
      "d  8  12 \n",
      "\n"
     ]
    }
   ],
   "source": [
    "print(df.corr())\n",
    "\n",
    "##########################################################################\n",
    "print('\\ndf\\n', df ,'\\n')"
   ]
  },
  {
   "cell_type": "markdown",
   "metadata": {},
   "source": [
    "# 4.30 quantile  \n"
   ]
  },
  {
   "cell_type": "code",
   "execution_count": 60,
   "metadata": {},
   "outputs": [
    {
     "name": "stdout",
     "output_type": "stream",
     "text": [
      "B     6.5\n",
      "C    10.5\n",
      "Name: 0.5, dtype: float64\n",
      "\n",
      "df\n",
      "    B   C\n",
      "a  5   9\n",
      "b  6  10\n",
      "c  7  11\n",
      "d  8  12 \n",
      "\n"
     ]
    }
   ],
   "source": [
    "print(df.quantile(0.5))\n",
    "\n",
    "##########################################################################\n",
    "print('\\ndf\\n', df ,'\\n')"
   ]
  },
  {
   "cell_type": "markdown",
   "metadata": {},
   "source": [
    "# 4.31 value_counts  \n"
   ]
  },
  {
   "cell_type": "code",
   "execution_count": 61,
   "metadata": {},
   "outputs": [
    {
     "name": "stdout",
     "output_type": "stream",
     "text": [
      "B\n",
      "5    1\n",
      "6    1\n",
      "7    1\n",
      "8    1\n",
      "Name: count, dtype: int64\n",
      "\n",
      "df\n",
      "    B   C\n",
      "a  5   9\n",
      "b  6  10\n",
      "c  7  11\n",
      "d  8  12 \n",
      "\n"
     ]
    }
   ],
   "source": [
    "print(df['B'].value_counts())\n",
    "\n",
    "##########################################################################\n",
    "print('\\ndf\\n', df ,'\\n')"
   ]
  },
  {
   "cell_type": "markdown",
   "metadata": {},
   "source": [
    "# 4.32 drop  \n"
   ]
  },
  {
   "cell_type": "code",
   "execution_count": 62,
   "metadata": {},
   "outputs": [
    {
     "name": "stdout",
     "output_type": "stream",
     "text": [
      "   A  B\n",
      "0  1  4\n",
      "2  3  6\n",
      "\n",
      "df\n",
      "    A  B\n",
      "0  1  4\n",
      "1  2  2\n",
      "2  3  6 \n",
      "\n"
     ]
    }
   ],
   "source": [
    "df = pd.DataFrame({\n",
    "    'A': [1, 2, 3],\n",
    "    'B': [4, 2, 6]\n",
    "}, index=[0, 1, 2])\n",
    "\n",
    "# Dropping the row with index 1\n",
    "df_dropped = df.drop(index=1)\n",
    "print(df_dropped)\n",
    "\n",
    "##########################################################################\n",
    "print('\\ndf\\n', df ,'\\n')"
   ]
  },
  {
   "cell_type": "markdown",
   "metadata": {},
   "source": [
    "# 4.33 drop_duplicates  \n"
   ]
  },
  {
   "cell_type": "code",
   "execution_count": 63,
   "metadata": {},
   "outputs": [
    {
     "name": "stdout",
     "output_type": "stream",
     "text": [
      "   A  B\n",
      "0  1  4\n",
      "1  2  2\n",
      "2  3  6\n",
      "\n",
      "df\n",
      "    A  B\n",
      "0  1  4\n",
      "1  2  2\n",
      "2  3  6 \n",
      "\n"
     ]
    }
   ],
   "source": [
    "print(df.drop_duplicates())\n",
    "\n",
    "##########################################################################\n",
    "print('\\ndf\\n', df ,'\\n')"
   ]
  },
  {
   "cell_type": "markdown",
   "metadata": {},
   "source": [
    "# 4.34 duplicated  \n"
   ]
  },
  {
   "cell_type": "code",
   "execution_count": 64,
   "metadata": {},
   "outputs": [
    {
     "name": "stdout",
     "output_type": "stream",
     "text": [
      "0    False\n",
      "1    False\n",
      "2    False\n",
      "dtype: bool\n",
      "\n",
      "df\n",
      "    A  B\n",
      "0  1  4\n",
      "1  2  2\n",
      "2  3  6 \n",
      "\n"
     ]
    }
   ],
   "source": [
    "print(df.duplicated())\n",
    "\n",
    "##########################################################################\n",
    "print('\\ndf\\n', df ,'\\n')"
   ]
  },
  {
   "cell_type": "markdown",
   "metadata": {},
   "source": [
    "# 4.35 filter  \n"
   ]
  },
  {
   "cell_type": "code",
   "execution_count": 65,
   "metadata": {},
   "outputs": [
    {
     "name": "stdout",
     "output_type": "stream",
     "text": [
      "   B\n",
      "0  4\n",
      "1  2\n",
      "2  6\n",
      "\n",
      "df\n",
      "    A  B\n",
      "0  1  4\n",
      "1  2  2\n",
      "2  3  6 \n",
      "\n"
     ]
    }
   ],
   "source": [
    "print(df.filter(items=['B']))\n",
    "\n",
    "##########################################################################\n",
    "print('\\ndf\\n', df ,'\\n')"
   ]
  },
  {
   "cell_type": "markdown",
   "metadata": {},
   "source": [
    "# 4.36 rename  \n",
    "  "
   ]
  },
  {
   "cell_type": "code",
   "execution_count": 66,
   "metadata": {},
   "outputs": [
    {
     "name": "stdout",
     "output_type": "stream",
     "text": [
      "   Alpha  B\n",
      "0      1  4\n",
      "1      2  2\n",
      "2      3  6\n",
      "\n",
      "df\n",
      "    A  B\n",
      "0  1  4\n",
      "1  2  2\n",
      "2  3  6 \n",
      "\n"
     ]
    }
   ],
   "source": [
    "print(df.rename(columns={'A': 'Alpha'}))\n",
    "\n",
    "##########################################################################\n",
    "print('\\ndf\\n', df ,'\\n')"
   ]
  },
  {
   "cell_type": "markdown",
   "metadata": {},
   "source": [
    "# 4.37 dropna"
   ]
  },
  {
   "cell_type": "code",
   "execution_count": 67,
   "metadata": {},
   "outputs": [
    {
     "name": "stdout",
     "output_type": "stream",
     "text": [
      "     A  B\n",
      "0  1.0  4\n",
      "2  3.0  6\n",
      "\n",
      "df\n",
      "      A  B\n",
      "0  1.0  4\n",
      "1  NaN  2\n",
      "2  3.0  6 \n",
      "\n"
     ]
    }
   ],
   "source": [
    "df = pd.DataFrame({\n",
    "    'A': [1, None, 3],\n",
    "    'B': [4, 2, 6]\n",
    "}, index=[0, 1, 2])\n",
    "\n",
    "print(df.dropna(inplace=False)) # inplace = true means it will drop prementally \n",
    "\n",
    "##########################################################################\n",
    "print('\\ndf\\n', df ,'\\n')"
   ]
  },
  {
   "cell_type": "markdown",
   "metadata": {},
   "source": [
    "# Group by examples"
   ]
  },
  {
   "cell_type": "markdown",
   "metadata": {},
   "source": [
    "**df.groupby( [ categorical_name ] ) [ numerical_name ].agg( agregate_functions)**"
   ]
  },
  {
   "cell_type": "markdown",
   "metadata": {},
   "source": [
    "![alt text](<WhatsApp Image 2024-12-20 at 15.04.26_c6034da7.jpg>)"
   ]
  },
  {
   "cell_type": "markdown",
   "metadata": {},
   "source": [
    "**df.groupby( [ categoricalcolumns ] ) [ [ numerical_columns ] ].agg ( [ aggregate_functions ] )**"
   ]
  },
  {
   "cell_type": "markdown",
   "metadata": {},
   "source": [
    "![Group by example 1](<WhatsApp Image 2024-12-20 at 15.03.53_dd3b76e7.jpg>)"
   ]
  },
  {
   "cell_type": "markdown",
   "metadata": {},
   "source": [
    "**df.groupby( [ categorical_columns ]  ).agg( { numericalcol: ( aggregatefunctions ), numericalcol2 : aggregatefunction } )**"
   ]
  },
  {
   "attachments": {
    "WhatsApp Image 2024-12-20 at 15.06.23_8a96b71e.jpg": {
     "image/jpeg": "[encoded data removed]"
    }
   },
   "cell_type": "markdown",
   "metadata": {},
   "source": [
    "![WhatsApp Image 2024-12-20 at 15.06.23_8a96b71e.jpg](<attachment:WhatsApp Image 2024-12-20 at 15.06.23_8a96b71e.jpg>)"
   ]
  },
  {
   "cell_type": "code",
   "execution_count": null,
   "metadata": {},
   "outputs": [],
   "source": []
  },
  {
   "cell_type": "markdown",
   "metadata": {},
   "source": []
  }
 ],
 "metadata": {
  "kernelspec": {
   "display_name": "base",
   "language": "python",
   "name": "python3"
  },
  "language_info": {
   "codemirror_mode": {
    "name": "ipython",
    "version": 3
   },
   "file_extension": ".py",
   "mimetype": "text/x-python",
   "name": "python",
   "nbconvert_exporter": "python",
   "pygments_lexer": "ipython3",
   "version": "3.12.3"
  }
 },
 "nbformat": 4,
 "nbformat_minor": 2
}
