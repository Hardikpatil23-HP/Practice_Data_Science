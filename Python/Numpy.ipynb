{
 "cells": [
  {
   "cell_type": "markdown",
   "metadata": {},
   "source": [
    "# **Numpy**\n",
    "\n",
    "### **Index for NumPy Guide**\n",
    "\n",
    "#### **1. Basics of NumPy**\n",
    "1.1 Importing NumPy  \n",
    "1.2 Creating Arrays  \n",
    "1.3 Predefined Arrays  \n",
    "- Zeros  \n",
    "- Ones  \n",
    "- Identity  \n",
    "- Random  \n",
    "\n",
    "\n",
    "#### **2. Array Operations**\n",
    "2.1 Arithmetic Operations  \n",
    "2.2 Broadcasting  \n",
    "2.3 Aggregations  \n",
    "- Sum  \n",
    "- Mean  \n",
    "- Median  \n",
    "- Standard Deviation  \n",
    "- Max/Min  \n",
    "\n",
    "\n",
    "#### **3. Indexing and Slicing**\n",
    "3.1 Accessing Elements  \n",
    "3.2 Slicing Arrays  \n",
    "3.3 Boolean Indexing  \n",
    "\n",
    "\n",
    "#### **4. Reshaping and Manipulating Arrays**\n",
    "4.1 Reshape  \n",
    "4.2 Transpose  \n",
    "4.3 Flatten  \n",
    "4.4 Concatenation  \n",
    "4.5 Splitting  \n",
    "\n",
    "\n",
    "#### **5. Linear Algebra**\n",
    "5.1 Dot Product  \n",
    "5.2 Matrix Multiplication  \n",
    "5.3 Determinant  \n",
    "5.4 Eigenvalues and Eigenvectors  \n",
    "5.5 Matrix Inversion  \n",
    "\n",
    "\n",
    "#### **6. Random Number Generation**\n",
    "6.1 Random Floats  \n",
    "6.2 Random Integers  \n",
    "6.3 Normal Distribution  \n",
    "\n",
    "\n",
    "#### **7. Sorting ,Searching, stats **\n",
    "7.1 Exponential  \n",
    "7.2 Logarithm  \n",
    "7.3 Power  \n",
    "7.4 Argmax  \n",
    "7.5 Argmin  \n",
    "7.6 Argwhere  \n",
    "7.7 Argsort and Sort  \n",
    "\n",
    "\n",
    "\n",
    "#### **8. Handling Missing Values**\n",
    "8.1 Replacing NaN  \n",
    "8.2 Checking for NaN  \n",
    "8.3 Filtering Out NaN \n"
   ]
  },
  {
   "cell_type": "markdown",
   "metadata": {},
   "source": [
    "---\n",
    "#### **1. Basics of NumPy**\n",
    "1.1 Importing NumPy  \n",
    "1.2 Creating Arrays  \n",
    "1.3 Predefined Arrays  \n",
    "- Zeros  \n",
    "- Ones  \n",
    "- Identity  \n",
    "- Random  "
   ]
  },
  {
   "cell_type": "markdown",
   "metadata": {},
   "source": [
    "# 1.1 Importing NumPy  "
   ]
  },
  {
   "cell_type": "code",
   "execution_count": 1,
   "metadata": {},
   "outputs": [],
   "source": [
    "import numpy as np"
   ]
  },
  {
   "cell_type": "markdown",
   "metadata": {},
   "source": [
    "# 1.2 Creating Arrays"
   ]
  },
  {
   "cell_type": "code",
   "execution_count": 2,
   "metadata": {},
   "outputs": [
    {
     "name": "stdout",
     "output_type": "stream",
     "text": [
      "np.array([1, 2, 3, 4]) \n",
      "\n",
      " [1 2 3 4]\n"
     ]
    }
   ],
   "source": [
    "# 1d array\n",
    "\n",
    "print(f'np.array([1, 2, 3, 4]) \\n\\n {np.array([1, 2, 3, 4])}')     "
   ]
  },
  {
   "cell_type": "code",
   "execution_count": 3,
   "metadata": {},
   "outputs": [
    {
     "name": "stdout",
     "output_type": "stream",
     "text": [
      "np.array([[1, 2], [3, 4]]) \n",
      "\n",
      " [[1 2]\n",
      " [3 4]]\n",
      "\n",
      "np.ndim(arr) = 2\n"
     ]
    }
   ],
   "source": [
    "# 2d array\n",
    "arr = np.array([[1, 2], [3, 4]])\n",
    "print(f'np.array([[1, 2], [3, 4]]) \\n\\n {np.array([[1, 2], [3, 4]])}\\n')     \n",
    "print(f'np.ndim(arr) = {np.ndim(arr)}')"
   ]
  },
  {
   "cell_type": "code",
   "execution_count": 4,
   "metadata": {},
   "outputs": [
    {
     "name": "stdout",
     "output_type": "stream",
     "text": [
      "np.array([[[1, 2], [3, 4]], [[5, 6], [7, 8]]]) \n",
      "\n",
      " [[[1 2]\n",
      "  [3 4]]\n",
      "\n",
      " [[5 6]\n",
      "  [7 8]]]\n",
      "\n",
      "np.ndim(arr) = 3\n"
     ]
    }
   ],
   "source": [
    "# 3d array\n",
    "arr = np.array([[[1, 2], [3, 4]], [[5, 6], [7, 8]]])\n",
    "\n",
    "print(f'np.array([[[1, 2], [3, 4]], [[5, 6], [7, 8]]]) \\n\\n {arr}\\n')  \n",
    "print(f'np.ndim(arr) = {np.ndim(arr)}')"
   ]
  },
  {
   "cell_type": "markdown",
   "metadata": {},
   "source": [
    "# 1.3 Predefined Arrays"
   ]
  },
  {
   "cell_type": "code",
   "execution_count": 5,
   "metadata": {},
   "outputs": [
    {
     "name": "stdout",
     "output_type": "stream",
     "text": [
      "np.zeros((3, 3)) \n",
      " [[0. 0. 0.]\n",
      " [0. 0. 0.]\n",
      " [0. 0. 0.]]\n"
     ]
    }
   ],
   "source": [
    "# Zeros \n",
    "\n",
    "print(f'np.zeros((3, 3)) \\n {np.zeros((3, 3))}')"
   ]
  },
  {
   "cell_type": "code",
   "execution_count": 6,
   "metadata": {},
   "outputs": [
    {
     "name": "stdout",
     "output_type": "stream",
     "text": [
      "np.ones((3, 3))\n",
      "[[1. 1. 1.]\n",
      " [1. 1. 1.]\n",
      " [1. 1. 1.]]\n"
     ]
    }
   ],
   "source": [
    "# Ones\n",
    "\n",
    "print(f'np.ones((3, 3))\\n{np.ones((3, 3))}')"
   ]
  },
  {
   "cell_type": "code",
   "execution_count": 7,
   "metadata": {},
   "outputs": [
    {
     "name": "stdout",
     "output_type": "stream",
     "text": [
      "np.eye(3)\n",
      "[[1. 0. 0.]\n",
      " [0. 1. 0.]\n",
      " [0. 0. 1.]]\n",
      "\n"
     ]
    }
   ],
   "source": [
    "# Identity / eye\n",
    "\n",
    "print(f'np.eye(3)\\n{np.eye(3)}\\n')"
   ]
  },
  {
   "cell_type": "code",
   "execution_count": 8,
   "metadata": {},
   "outputs": [
    {
     "name": "stdout",
     "output_type": "stream",
     "text": [
      "np.random.rand(3, 3) \n",
      " [[0.56722954 0.2626185  0.22533006]\n",
      " [0.90431408 0.5763805  0.24462867]\n",
      " [0.13388818 0.7272721  0.04227584]]\n"
     ]
    }
   ],
   "source": [
    "# Random \n",
    "\n",
    "print(f'np.random.rand(3, 3) \\n {np.random.rand(3, 3)}')"
   ]
  },
  {
   "cell_type": "markdown",
   "metadata": {},
   "source": [
    "---\n",
    "\n",
    "---\n",
    "\n",
    "#### **2. Array Operations**\n",
    "2.1 Arithmetic Operations  \n",
    "2.2 Broadcasting  \n",
    "2.3 Aggregations  \n",
    "- Sum  \n",
    "- Mean  \n",
    "- Median  \n",
    "- Standard Deviation  \n",
    "- Max/Min  "
   ]
  },
  {
   "cell_type": "markdown",
   "metadata": {},
   "source": [
    "# 2.1 Arithmetic Operations "
   ]
  },
  {
   "cell_type": "code",
   "execution_count": 9,
   "metadata": {},
   "outputs": [
    {
     "name": "stdout",
     "output_type": "stream",
     "text": [
      "sum \n",
      " [[6 6]\n",
      " [6 6]]\n"
     ]
    }
   ],
   "source": [
    "# addition\n",
    "\n",
    "a = np.array([[2, 2],\n",
    "              [4, 4]])\n",
    "\n",
    "b = np.array([[4, 4],\n",
    "              [2, 2]])\n",
    "\n",
    "print(f'sum \\n {a+b}')\n",
    "\n"
   ]
  },
  {
   "cell_type": "code",
   "execution_count": 10,
   "metadata": {},
   "outputs": [
    {
     "name": "stdout",
     "output_type": "stream",
     "text": [
      "sub \n",
      " [[-2 -2]\n",
      " [ 2  2]]\n"
     ]
    }
   ],
   "source": [
    "# substraction\n",
    "\n",
    "a = np.array([[2, 2],\n",
    "              [4, 4]])\n",
    "\n",
    "b = np.array([[4, 4],\n",
    "              [2, 2]])\n",
    "\n",
    "print(f'sub \\n {a-b}')"
   ]
  },
  {
   "cell_type": "code",
   "execution_count": 11,
   "metadata": {},
   "outputs": [
    {
     "name": "stdout",
     "output_type": "stream",
     "text": [
      "div \n",
      " [[0.5 0.5]\n",
      " [2.  2. ]]\n"
     ]
    }
   ],
   "source": [
    "# division\n",
    "\n",
    "a = np.array([[2, 2],\n",
    "              [4, 4]])\n",
    "\n",
    "b = np.array([[4, 4],\n",
    "              [2, 2]])\n",
    "\n",
    "print(f'div \\n {a/b}')"
   ]
  },
  {
   "cell_type": "code",
   "execution_count": 12,
   "metadata": {},
   "outputs": [
    {
     "name": "stdout",
     "output_type": "stream",
     "text": [
      "multi \n",
      " [[8 8]\n",
      " [8 8]]\n"
     ]
    }
   ],
   "source": [
    "# multiplication\n",
    "\n",
    "a = np.array([[2, 2],\n",
    "              [4, 4]])\n",
    "\n",
    "b = np.array([[4, 4],\n",
    "              [2, 2]])\n",
    "\n",
    "print(f'multi \\n {a*b}')"
   ]
  },
  {
   "cell_type": "markdown",
   "metadata": {},
   "source": [
    "# 2.2 Broadcasting "
   ]
  },
  {
   "cell_type": "code",
   "execution_count": 13,
   "metadata": {},
   "outputs": [
    {
     "name": "stdout",
     "output_type": "stream",
     "text": [
      "[6 7 8]\n"
     ]
    }
   ],
   "source": [
    "array = np.array([1, 2, 3])\n",
    "result = array + 5  # Broadcasting adds 5 to each element\n",
    "print(result)  # Output: [6 7 8]"
   ]
  },
  {
   "cell_type": "code",
   "execution_count": 14,
   "metadata": {},
   "outputs": [
    {
     "data": {
      "text/plain": [
       "array([[2, 4],\n",
       "       [6, 8]])"
      ]
     },
     "execution_count": 14,
     "metadata": {},
     "output_type": "execute_result"
    }
   ],
   "source": [
    "a = np.array([[1, 2], [3, 4]])\n",
    "a * 2  # Multiplies each element by 2"
   ]
  },
  {
   "cell_type": "code",
   "execution_count": 15,
   "metadata": {},
   "outputs": [
    {
     "data": {
      "text/plain": [
       "array([[11, 22, 33],\n",
       "       [14, 25, 36]])"
      ]
     },
     "execution_count": 15,
     "metadata": {},
     "output_type": "execute_result"
    }
   ],
   "source": [
    "a = np.array([[1, 2, 3], \n",
    "              [4, 5, 6]])\n",
    "\n",
    "b = np.array([10, 20, 30])  # Shape: (3,)\n",
    "a + b  # Adds b to each row"
   ]
  },
  {
   "cell_type": "code",
   "execution_count": 16,
   "metadata": {},
   "outputs": [
    {
     "data": {
      "text/plain": [
       "array([[11, 21, 31],\n",
       "       [12, 22, 32],\n",
       "       [13, 23, 33]])"
      ]
     },
     "execution_count": 16,
     "metadata": {},
     "output_type": "execute_result"
    }
   ],
   "source": [
    "a = np.array([[1], [2], [3]])  # Shape: (3, 1)\n",
    "\n",
    "b = np.array([10, 20, 30])     # Shape: (3,)\n",
    "\n",
    "a + b"
   ]
  },
  {
   "cell_type": "markdown",
   "metadata": {},
   "source": [
    "# 2.3 Aggregations "
   ]
  },
  {
   "cell_type": "code",
   "execution_count": 17,
   "metadata": {},
   "outputs": [],
   "source": [
    "# main arrary\n",
    "\n",
    "a = np.array([[0.2, 0.2, 0.2, 0.2],\n",
    "              [0.3, 0.3, 0.3, 0.3],\n",
    "              [0.5, 0.5, 0.5, 0.5]])"
   ]
  },
  {
   "cell_type": "code",
   "execution_count": 18,
   "metadata": {},
   "outputs": [
    {
     "name": "stdout",
     "output_type": "stream",
     "text": [
      "a.sum() = 4.0\n",
      "a.sum(axis=0) = [1. 1. 1. 1.]\n",
      "a.sum(axis=1) = [0.8 1.2 2. ]\n"
     ]
    }
   ],
   "source": [
    "# sum\n",
    "\n",
    "print(f'a.sum() = {a.sum()}')\n",
    "\n",
    "# sum of columns\n",
    "\n",
    "print(f'a.sum(axis=0) = {a.sum(axis=0)}')\n",
    "\n",
    "# sum of rows\n",
    "\n",
    "print(f'a.sum(axis=1) = {a.sum(axis=1)}')"
   ]
  },
  {
   "cell_type": "code",
   "execution_count": 19,
   "metadata": {},
   "outputs": [
    {
     "name": "stdout",
     "output_type": "stream",
     "text": [
      "a.mean() = 0.3333333333333333\n"
     ]
    }
   ],
   "source": [
    "# mean\n",
    "\n",
    "print(f'a.mean() = {a.mean()}')"
   ]
  },
  {
   "cell_type": "code",
   "execution_count": 20,
   "metadata": {},
   "outputs": [
    {
     "name": "stdout",
     "output_type": "stream",
     "text": [
      "np.median(a) = 0.3\n"
     ]
    }
   ],
   "source": [
    "# median\n",
    "\n",
    "print(f'np.median(a) = {np.median(a)}')"
   ]
  },
  {
   "cell_type": "code",
   "execution_count": 21,
   "metadata": {},
   "outputs": [
    {
     "name": "stdout",
     "output_type": "stream",
     "text": [
      "a.std() = 0.12472191289246472\n",
      "a.std(axis=1) = [0. 0. 0.]\n",
      "a.std(axis=0) = [0.12472191 0.12472191 0.12472191 0.12472191]\n"
     ]
    }
   ],
   "source": [
    "# standard deviation\n",
    "\n",
    "print(f'a.std() = {a.std()}')\n",
    "\n",
    "# Standard deviation along rows (axis=1)\n",
    "\n",
    "print(f'a.std(axis=1) = {a.std(axis=1)}')\n",
    "\n",
    "# Standard deviation along columns (axis=0)\n",
    "print(f'a.std(axis=0) = {a.std(axis=0)}')"
   ]
  },
  {
   "cell_type": "code",
   "execution_count": 22,
   "metadata": {},
   "outputs": [
    {
     "name": "stdout",
     "output_type": "stream",
     "text": [
      "a.max() = 0.5\n"
     ]
    }
   ],
   "source": [
    "# max\n",
    "\n",
    "print(f'a.max() = {a.max()}')"
   ]
  },
  {
   "cell_type": "code",
   "execution_count": 23,
   "metadata": {},
   "outputs": [
    {
     "name": "stdout",
     "output_type": "stream",
     "text": [
      "a.min() = 0.2\n",
      "\n"
     ]
    }
   ],
   "source": [
    "# min\n",
    "\n",
    "print(f'a.min() = {a.min()}\\n')"
   ]
  },
  {
   "cell_type": "markdown",
   "metadata": {},
   "source": [
    "---\n",
    "\n",
    "---\n",
    "\n",
    "#### **3. Indexing and Slicing**\n",
    "3.1 Accessing Elements  \n",
    "3.2 Slicing Arrays  \n",
    "3.3 Boolean Indexing  "
   ]
  },
  {
   "cell_type": "markdown",
   "metadata": {},
   "source": [
    "# 3.1 Accessing Elements "
   ]
  },
  {
   "cell_type": "code",
   "execution_count": 24,
   "metadata": {},
   "outputs": [
    {
     "name": "stdout",
     "output_type": "stream",
     "text": [
      "arr :\n",
      "[[1 2 3]\n",
      " [4 5 6]]\n",
      "\n"
     ]
    }
   ],
   "source": [
    "# Using Indices: \n",
    "\n",
    "# For 1D arrays: array[index]\n",
    "# For 2D arrays: array[ row , column ]\n",
    "# For higher-dimensional arrays: array[index1, index2, ...]\n",
    "\n",
    "arr = np.array([[1, 2, 3], \n",
    "                [4, 5, 6]])\n",
    "\n",
    "print(f'arr :\\n{arr}\\n')\n",
    "\n",
    "# Access the element at [ row , column ]\n",
    "\n"
   ]
  },
  {
   "cell_type": "code",
   "execution_count": 25,
   "metadata": {},
   "outputs": [
    {
     "name": "stdout",
     "output_type": "stream",
     "text": [
      "main array :\n",
      "[[1 2 3]\n",
      " [4 5 6]]\n",
      "\n",
      "\n",
      "arr[1, 1] = 5\n"
     ]
    }
   ],
   "source": [
    "# indexing positive row index 1 and col index 1\n",
    "\n",
    "print(f'main array :\\n{arr}\\n')\n",
    "print(f'\\narr[1, 1] = {arr[1, 1]}') "
   ]
  },
  {
   "cell_type": "code",
   "execution_count": 26,
   "metadata": {},
   "outputs": [
    {
     "name": "stdout",
     "output_type": "stream",
     "text": [
      "main array :\n",
      "[[1 2 3]\n",
      " [4 5 6]]\n",
      "\n",
      "\n",
      " arr[-1, -2] = 5\n"
     ]
    }
   ],
   "source": [
    "# indexing negative row index -1 and col index -2\n",
    "\n",
    "print(f'main array :\\n{arr}\\n')\n",
    "print(f'\\n arr[-1, -2] = {arr[-1, -2]}')  "
   ]
  },
  {
   "cell_type": "markdown",
   "metadata": {},
   "source": [
    "# 3.2 Slicing Arrays\n",
    "[ row , column ]"
   ]
  },
  {
   "cell_type": "code",
   "execution_count": 27,
   "metadata": {},
   "outputs": [
    {
     "name": "stdout",
     "output_type": "stream",
     "text": [
      "arr \n",
      "[[6 5 4]\n",
      " [3 2 1]] \n",
      " \n",
      "row 0 = arr[0, :] = [6 5 4]\n",
      "\n",
      "row 1 = arr[1, :] = [3 2 1]\n",
      "\n",
      "col = arr[:, 0] = [6 3]\n"
     ]
    }
   ],
   "source": [
    "arr = np.array([[6, 5, 4], \n",
    "                [3, 2, 1]])\n",
    "print(f'arr \\n{arr} \\n ')\n",
    "\n",
    "# Extract a row 0\n",
    "\n",
    "print(f'row 0 = arr[0, :] = {arr[0, :] }\\n') \n",
    "\n",
    "# Extract a row 1\n",
    " \n",
    "print(f'row 1 = arr[1, :] = {arr[1, :]}\\n') \n",
    "\n",
    "# Extract a column 0\n",
    "\n",
    "col = arr[:, 0] \n",
    "print(f'col = arr[:, 0] = {arr[:, 0]}')  "
   ]
  },
  {
   "cell_type": "code",
   "execution_count": 28,
   "metadata": {},
   "outputs": [
    {
     "name": "stdout",
     "output_type": "stream",
     "text": [
      "arr \n",
      " [[ 1  2  3  4]\n",
      " [ 5  6  7  8]\n",
      " [ 9 10 11 12]]\n",
      "\n",
      " subarray arr[0:1, 1:3]  \n",
      " [[2 3]\n",
      " [6 7]]\n"
     ]
    }
   ],
   "source": [
    "# Extract a subarray\n",
    "\n",
    "arr = np.array(\n",
    "    [[1, 2,  3,  4 ],\n",
    "     [5, 6,  7,  8 ],\n",
    "     [9, 10, 11, 12]]\n",
    ")\n",
    "print(f'arr \\n {arr}\\n')\n",
    "\n",
    "print(f' subarray arr[0:1, 1:3]  \\n {arr[0:2, 1:3] }') "
   ]
  },
  {
   "cell_type": "markdown",
   "metadata": {},
   "source": [
    "## 3.3 Boolean Indexing\n",
    "\n",
    "How it Works:\n",
    "\n",
    "1. Create a Boolean Mask:\n",
    "\n",
    "Apply a condition to the array using comparison operators (e.g., >, <, ==, >=, <=, !=).\n",
    "This creates a boolean array where True indicates elements that satisfy the condition, and False indicates those that don't.\n",
    "\n",
    "2. Use the Mask:\n",
    "\n",
    "Pass the boolean array as an index to the original array.\n",
    "NumPy will select only the elements corresponding to True values in the mask.\n",
    "\n",
    "# Advantages:\n",
    "\n",
    "Efficient: Boolean indexing is often more efficient than looping through the array manually.\n",
    "\n",
    "Concise: It provides a clean and concise way to filter data based on conditions.\n",
    "\n",
    "Versatile:  Applicable to various data manipulation tasks, such as:  \n",
    ". Selecting elements based on value ranges  \n",
    ". data based on multiple conditions  \n",
    ". Modifying specific elements in an array"
   ]
  },
  {
   "cell_type": "code",
   "execution_count": 29,
   "metadata": {},
   "outputs": [
    {
     "name": "stdout",
     "output_type": "stream",
     "text": [
      "data \n",
      " [ 1  2  3  4  5  6  7  8  9 10]\n",
      "[ 6  7  8  9 10]\n"
     ]
    }
   ],
   "source": [
    "data = np.array([1, 2, 3, 4, 5, 6, 7, 8, 9, 10])\n",
    "print(f'data \\n {data}')\n",
    "# Create a boolean mask for elements greater than 5\n",
    "\n",
    "mask = data > 5\n",
    "\n",
    "# Select elements using the mask\n",
    "\n",
    "selected_elements = data[mask]\n",
    "\n",
    "print(selected_elements)  "
   ]
  },
  {
   "cell_type": "code",
   "execution_count": 30,
   "metadata": {},
   "outputs": [
    {
     "name": "stdout",
     "output_type": "stream",
     "text": [
      "data \n",
      " [ 1  2  3  4  5  6  7  8  9 10]\n",
      "\n",
      "selected_elements (data >= 3) & (data <= 7) \n",
      "\n",
      "  [3 4 5 6 7]\n"
     ]
    }
   ],
   "source": [
    "# Select elements between 3 and 7 (inclusive)\n",
    "\n",
    "data = np.array([1, 2, 3, 4, 5, 6, 7, 8, 9, 10])\n",
    "print(f'data \\n {data}\\n')\n",
    "\n",
    "mask = (data >= 3) & (data <= 7)\n",
    "\n",
    "selected_elements = data[mask]\n",
    "\n",
    "print(f'selected_elements (data >= 3) & (data <= 7) \\n\\n  {selected_elements}') "
   ]
  },
  {
   "cell_type": "markdown",
   "metadata": {},
   "source": [
    "---\n",
    "\n",
    "---\n",
    "\n",
    "#### **4. Reshaping and Manipulating Arrays**\n",
    "4.1 Reshape  \n",
    "4.2 Transpose  \n",
    "4.3 Flatten  \n",
    "4.4 Concatenation  \n",
    "4.5 Splitting  \n"
   ]
  },
  {
   "cell_type": "markdown",
   "metadata": {},
   "source": [
    "# 4.1 Reshape"
   ]
  },
  {
   "cell_type": "code",
   "execution_count": 31,
   "metadata": {},
   "outputs": [
    {
     "name": "stdout",
     "output_type": "stream",
     "text": [
      "original[ 2 , 3 ] \n",
      "\n",
      " [[6 5 4]\n",
      " [3 2 1]]\n",
      "\n",
      "arr[ 3 , 2 ] \n",
      "\n",
      " [[6 5]\n",
      " [4 3]\n",
      " [2 1]]\n"
     ]
    }
   ],
   "source": [
    "# main array [ 2 , 3 ]\n",
    "arr = np.array([[6, 5, 4], [3, 2, 1]])\n",
    "\n",
    "print(f'original[ 2 , 3 ] \\n\\n {arr}\\n')\n",
    "\n",
    "# main array [ 3 , 2 ]\n",
    "print(f'arr[ 3 , 2 ] \\n\\n {arr.reshape(3, 2)}')"
   ]
  },
  {
   "cell_type": "markdown",
   "metadata": {},
   "source": [
    "# 4.2 Transpose  "
   ]
  },
  {
   "cell_type": "code",
   "execution_count": 32,
   "metadata": {},
   "outputs": [
    {
     "name": "stdout",
     "output_type": "stream",
     "text": [
      "arr \n",
      "\n",
      " [[6 5 4]\n",
      " [3 2 1]]\n",
      "\n",
      "arr.T \n",
      "\n",
      " [[6 3]\n",
      " [5 2]\n",
      " [4 1]]\n"
     ]
    }
   ],
   "source": [
    "arr = np.array([[6, 5, 4],\n",
    "                [3, 2, 1]])\n",
    "\n",
    "print(f'arr \\n\\n {arr}\\n')\n",
    "\n",
    "# transpose \n",
    "print(f'arr.T \\n\\n {arr.T}')"
   ]
  },
  {
   "cell_type": "markdown",
   "metadata": {},
   "source": [
    "# 4.3 Flatten  \n"
   ]
  },
  {
   "cell_type": "code",
   "execution_count": 33,
   "metadata": {},
   "outputs": [
    {
     "name": "stdout",
     "output_type": "stream",
     "text": [
      "arr.flatten() \n",
      "\n",
      " [6 5 4 3 2 1]\n"
     ]
    }
   ],
   "source": [
    "arr = np.array([[6, 5, 4],\n",
    "                [3, 2, 1]])\n",
    "\n",
    "# flatten \n",
    "print(f'arr.flatten() \\n\\n {arr.flatten()}')"
   ]
  },
  {
   "cell_type": "markdown",
   "metadata": {},
   "source": [
    "# 4.4 Concatenation  \n"
   ]
  },
  {
   "cell_type": "code",
   "execution_count": 34,
   "metadata": {},
   "outputs": [
    {
     "data": {
      "text/plain": [
       "array([[4, 4, 4],\n",
       "       [8, 8, 8],\n",
       "       [1, 1, 1],\n",
       "       [2, 2, 2]])"
      ]
     },
     "execution_count": 34,
     "metadata": {},
     "output_type": "execute_result"
    }
   ],
   "source": [
    "arr_1 = np.array( [ [ 4, 4, 4 ] , \n",
    "                    [ 8, 8, 8 ] ] )\n",
    "\n",
    "arr_2 = np.array( [ [ 1, 1, 1 ] , \n",
    "                    [ 2, 2, 2 ] ] )\n",
    "\n",
    "np.concatenate((arr_1, arr_2), axis=0)  # Row-wise"
   ]
  },
  {
   "cell_type": "code",
   "execution_count": 35,
   "metadata": {},
   "outputs": [
    {
     "data": {
      "text/plain": [
       "array([[4, 4, 4, 1, 1, 1],\n",
       "       [8, 8, 8, 2, 2, 2]])"
      ]
     },
     "execution_count": 35,
     "metadata": {},
     "output_type": "execute_result"
    }
   ],
   "source": [
    "arr_1 = np.array( [ [ 4, 4, 4 ] ,\n",
    "                    [ 8, 8, 8 ] ] )\n",
    "\n",
    "arr_2 = np.array( [ [ 1, 1, 1 ] ,\n",
    "                    [ 2, 2, 2 ] ] )\n",
    "\n",
    "np.concatenate((arr_1, arr_2), axis=1)  # Column-wise"
   ]
  },
  {
   "cell_type": "markdown",
   "metadata": {},
   "source": [
    "# 4.5 Splitting  "
   ]
  },
  {
   "cell_type": "code",
   "execution_count": 36,
   "metadata": {},
   "outputs": [
    {
     "data": {
      "text/plain": [
       "[array([[4, 4, 4]]), array([[8, 8, 8]])]"
      ]
     },
     "execution_count": 36,
     "metadata": {},
     "output_type": "execute_result"
    }
   ],
   "source": [
    "arr_1 = np.array( [ [ 4, 4, 4 ] ,\n",
    "                    [ 8, 8, 8 ] ] )\n",
    "\n",
    "np.split(arr_1, 2)"
   ]
  },
  {
   "cell_type": "markdown",
   "metadata": {},
   "source": [
    "---\n",
    "\n",
    "---\n",
    "\n",
    "#### **5. Linear Algebra**\n",
    "5.1 Dot Product  \n",
    "5.2 Matrix Multiplication  \n",
    "5.3 Determinant  \n",
    "5.4 Eigenvalues and Eigenvectors  \n",
    "5.5 Matrix Inversion  \n"
   ]
  },
  {
   "cell_type": "markdown",
   "metadata": {},
   "source": [
    "# 5.1 Dot Product \n",
    "\n",
    "Dot Product:\n",
    "\n",
    "Specifically designed for vectors (1D arrays).   \n",
    "\n",
    "Returns a scalar value (a single number).   \n",
    "\n",
    "Calculated as the sum of the products of corresponding elements in the two vectors."
   ]
  },
  {
   "cell_type": "code",
   "execution_count": 37,
   "metadata": {},
   "outputs": [
    {
     "name": "stdout",
     "output_type": "stream",
     "text": [
      "p[ r0 , c0 ] = (8*4) + (7*2) = 46 \n",
      "\n",
      "p[ r0 , c1 ] = (8*3) + (7*1) = 31 \n",
      "\n",
      "p[ r1 , c0 ] = (6*4) + (5*2) = 34 \n",
      "\n",
      "p[ r1 , c1 ] = (6*3) + (5*1) = 23 \n",
      "\n",
      "np.dot(a, b) \n",
      " [[46 31]\n",
      " [34 23]]\n"
     ]
    }
   ],
   "source": [
    "a = np.array([[8, 7],\n",
    "              [6, 5]])\n",
    "\n",
    "b = np.array([[4, 3],\n",
    "              [2, 1]])\n",
    "\n",
    "print(f'p[ r0 , c0 ] = (8*4) + (7*2) = {(8*4) + (7*2)} \\n')\n",
    "print(f'p[ r0 , c1 ] = (8*3) + (7*1) = {(8*3) + (7*1)} \\n')\n",
    "print(f'p[ r1 , c0 ] = (6*4) + (5*2) = {(6*4) + (5*2)} \\n')\n",
    "print(f'p[ r1 , c1 ] = (6*3) + (5*1) = {(6*3) + (5*1)} \\n')\n",
    "\n",
    "print(f'np.dot(a, b) \\n {np.dot(a, b)}')"
   ]
  },
  {
   "cell_type": "markdown",
   "metadata": {},
   "source": [
    "# 5.2 Matrix Multiplication  \n",
    "\n",
    "Matrix Multiplication:\n",
    "\n",
    "Designed for matrices (2D arrays or higher).\n",
    "\n",
    "   \n",
    "Returns a matrix (unless multiplying by a vector, which can result in a vector). \n",
    "\n",
    "\n",
    "Involves a more complex operation where each element of the resulting matrix is calculated as the dot product of a row from the first matrix and a column from the second matrix."
   ]
  },
  {
   "cell_type": "code",
   "execution_count": 38,
   "metadata": {},
   "outputs": [
    {
     "name": "stdout",
     "output_type": "stream",
     "text": [
      "[[46 31]\n",
      " [34 23]]\n"
     ]
    }
   ],
   "source": [
    "a = np.array([[8, 7],\n",
    "              [6, 5]])\n",
    "\n",
    "b = np.array([[4, 3],\n",
    "              [2, 1]])\n",
    "\n",
    "print(a @ b)"
   ]
  },
  {
   "cell_type": "markdown",
   "metadata": {},
   "source": [
    "# 5.3 Determinant  "
   ]
  },
  {
   "cell_type": "code",
   "execution_count": 39,
   "metadata": {},
   "outputs": [
    {
     "data": {
      "text/plain": [
       "-2.0"
      ]
     },
     "execution_count": 39,
     "metadata": {},
     "output_type": "execute_result"
    }
   ],
   "source": [
    "matrix = [[2,3],\n",
    "          [4,5]]\n",
    "\n",
    "# Determinant = (2 * 5) - (3 * 4) = 10 - 12 = -2\n",
    "\n",
    "np.linalg.det(matrix)"
   ]
  },
  {
   "cell_type": "markdown",
   "metadata": {},
   "source": [
    "# 5.4 Eigenvalues and Eigenvectors  "
   ]
  },
  {
   "cell_type": "code",
   "execution_count": 40,
   "metadata": {},
   "outputs": [
    {
     "data": {
      "text/plain": [
       "EigResult(eigenvalues=array([-0.27491722,  7.27491722]), eigenvectors=array([[-0.79681209, -0.49436913],\n",
       "       [ 0.60422718, -0.86925207]]))"
      ]
     },
     "execution_count": 40,
     "metadata": {},
     "output_type": "execute_result"
    }
   ],
   "source": [
    "matrix = [[2,3],\n",
    "          [4,5]]\n",
    "\n",
    "np.linalg.eig(matrix)"
   ]
  },
  {
   "cell_type": "markdown",
   "metadata": {},
   "source": [
    "# 5.5 Matrix Inversion"
   ]
  },
  {
   "cell_type": "code",
   "execution_count": 41,
   "metadata": {},
   "outputs": [
    {
     "data": {
      "text/plain": [
       "array([[-2.5,  1.5],\n",
       "       [ 2. , -1. ]])"
      ]
     },
     "execution_count": 41,
     "metadata": {},
     "output_type": "execute_result"
    }
   ],
   "source": [
    "matrix = [[2,3],\n",
    "          [4,5]]\n",
    "\n",
    "# A⁻¹ = (1/det(A)) * Adjoint(A) = \n",
    "\n",
    "np.linalg.inv(matrix)"
   ]
  },
  {
   "cell_type": "markdown",
   "metadata": {},
   "source": [
    "---\n",
    "\n",
    "---\n",
    "\n",
    "#### **6. Random Number Generation**\n",
    "6.1 Random Floats  \n",
    "6.2 Random Integers  \n",
    "6.3 Normal Distribution  \n",
    "6.4 Seeding for Reproducibility  "
   ]
  },
  {
   "cell_type": "markdown",
   "metadata": {},
   "source": [
    "# 6.1 Random Floats  "
   ]
  },
  {
   "cell_type": "code",
   "execution_count": 42,
   "metadata": {},
   "outputs": [
    {
     "name": "stdout",
     "output_type": "stream",
     "text": [
      " np.random.rand(3, 3) \n",
      "\n",
      " [[0.20374608 0.85715254 0.93031772]\n",
      " [0.16307035 0.36124829 0.21688242]\n",
      " [0.81439061 0.5549802  0.45638402]]\n"
     ]
    }
   ],
   "source": [
    "print(f' np.random.rand(3, 3) \\n\\n {np.random.rand(3, 3)}')"
   ]
  },
  {
   "cell_type": "markdown",
   "metadata": {},
   "source": [
    "# 6.2 Random Integers  "
   ]
  },
  {
   "cell_type": "code",
   "execution_count": 43,
   "metadata": {},
   "outputs": [
    {
     "name": "stdout",
     "output_type": "stream",
     "text": [
      " np.random.randint(0, 10, (3, 3)) \n",
      "\n",
      " [[7 1 9]\n",
      " [8 9 0]\n",
      " [7 2 6]]\n"
     ]
    }
   ],
   "source": [
    "# random integers form 0 to 10 ------ 10 not included\n",
    "\n",
    "print(f' np.random.randint(0, 10, (3, 3)) \\n\\n {np.random.randint(0, 10, (3, 3))}')"
   ]
  },
  {
   "cell_type": "markdown",
   "metadata": {},
   "source": [
    "# 6.3 Normal Distribution  "
   ]
  },
  {
   "cell_type": "code",
   "execution_count": 44,
   "metadata": {},
   "outputs": [
    {
     "name": "stdout",
     "output_type": "stream",
     "text": [
      " np.random.normal(0, 1, 1000) \n",
      "\n",
      " [-1.27135298 -0.91468315 -3.20436359  0.39111684  2.0533667  -0.56977418\n",
      " -2.02828893 -0.49724887  1.45593333 -0.84561814]\n",
      "median = -0.7076961566791911\n",
      "mean = -0.5430912975709836\n"
     ]
    }
   ],
   "source": [
    "Normal_distribution = np.random.normal(0, 1, 10)\n",
    "\n",
    "print(f' np.random.normal(0, 1, 1000) \\n\\n {Normal_distribution}')\n",
    "\n",
    "print(f'median = {np.median(Normal_distribution)}')\n",
    "print(f'mean = {np.mean(Normal_distribution)}')"
   ]
  },
  {
   "cell_type": "markdown",
   "metadata": {},
   "source": [
    "---\n",
    "\n",
    "---\n",
    "#### **7. Sorting ,Searching**\n",
    "\n",
    "7.1 Exponential  \n",
    "\n",
    "7.2 Logarithm  \n",
    "\n",
    "7.3 Power  \n",
    "\n",
    "7.4 Argmax\n",
    "\n",
    "7.5 Argmin\n",
    "\n",
    "7.6 Argwhere\n",
    "\n",
    "7.7 Argsort and Sort"
   ]
  },
  {
   "cell_type": "markdown",
   "metadata": {},
   "source": [
    "# 7.1 Exponential"
   ]
  },
  {
   "cell_type": "code",
   "execution_count": 45,
   "metadata": {},
   "outputs": [
    {
     "data": {
      "text/plain": [
       "array([ 2.71828183,  7.3890561 , 20.08553692])"
      ]
     },
     "execution_count": 45,
     "metadata": {},
     "output_type": "execute_result"
    }
   ],
   "source": [
    "array = np.array(\n",
    "    [1,2,3]\n",
    ")\n",
    "\n",
    "np.exp(array)"
   ]
  },
  {
   "cell_type": "markdown",
   "metadata": {},
   "source": [
    "# 7.2 Logarithm "
   ]
  },
  {
   "cell_type": "code",
   "execution_count": 46,
   "metadata": {},
   "outputs": [
    {
     "data": {
      "text/plain": [
       "array([2.30258509, 0.69314718, 1.09861229])"
      ]
     },
     "execution_count": 46,
     "metadata": {},
     "output_type": "execute_result"
    }
   ],
   "source": [
    "array = np.array(\n",
    "    [10,2,3]\n",
    ")\n",
    "np.log(array)"
   ]
  },
  {
   "cell_type": "markdown",
   "metadata": {},
   "source": [
    "# 7.3 Power "
   ]
  },
  {
   "cell_type": "code",
   "execution_count": 47,
   "metadata": {},
   "outputs": [
    {
     "data": {
      "text/plain": [
       "array([100,   4,   9], dtype=int32)"
      ]
     },
     "execution_count": 47,
     "metadata": {},
     "output_type": "execute_result"
    }
   ],
   "source": [
    "array = np.array(\n",
    "    [10,2,3]\n",
    ")\n",
    "# power(base , exponent)    ---- base ^ exponent\n",
    "np.power(array,2)"
   ]
  },
  {
   "cell_type": "markdown",
   "metadata": {},
   "source": [
    "# 7.4 Argmax"
   ]
  },
  {
   "cell_type": "code",
   "execution_count": 48,
   "metadata": {},
   "outputs": [
    {
     "data": {
      "text/plain": [
       "0"
      ]
     },
     "execution_count": 48,
     "metadata": {},
     "output_type": "execute_result"
    }
   ],
   "source": [
    "# Returns the indices of the maximum values along an axis.\n",
    "array = np.array(\n",
    "    [10,2,3]\n",
    ")\n",
    "np.argmax(array)"
   ]
  },
  {
   "cell_type": "markdown",
   "metadata": {},
   "source": [
    "# 7.5 Argmin\n"
   ]
  },
  {
   "cell_type": "code",
   "execution_count": 49,
   "metadata": {},
   "outputs": [
    {
     "data": {
      "text/plain": [
       "1"
      ]
     },
     "execution_count": 49,
     "metadata": {},
     "output_type": "execute_result"
    }
   ],
   "source": [
    "# Returns the indices of the minimum values along an axis.\n",
    "array = np.array(\n",
    "    [10,2,3]\n",
    ")\n",
    "np.argmin(array)"
   ]
  },
  {
   "cell_type": "markdown",
   "metadata": {},
   "source": [
    "# 7.6 Argwhere"
   ]
  },
  {
   "cell_type": "code",
   "execution_count": 50,
   "metadata": {},
   "outputs": [
    {
     "name": "stdout",
     "output_type": "stream",
     "text": [
      "Indices of elements greater than 5: (array([5, 7], dtype=int64),)\n"
     ]
    }
   ],
   "source": [
    "arr = np.array([3, 1, 4, 1, 5, 9, 2, 6])\n",
    "\n",
    "# Find the indices of all elements greater than 5\n",
    "indices_greater_than_5 = np.where(arr > 5) \n",
    "print(\"Indices of elements greater than 5:\", indices_greater_than_5)"
   ]
  },
  {
   "cell_type": "markdown",
   "metadata": {},
   "source": [
    "# 7.7 Argsort and Sort"
   ]
  },
  {
   "cell_type": "code",
   "execution_count": 51,
   "metadata": {},
   "outputs": [
    {
     "name": "stdout",
     "output_type": "stream",
     "text": [
      "np.sort(array) \n",
      " [ 2  3 10]\n",
      "\n",
      "argsoft() Returns the indices that would sort an array.\n",
      "original array    = [10  2  3]\n",
      "np.argsort(array) = [1 2 0]\n"
     ]
    }
   ],
   "source": [
    "array = np.array(\n",
    "    [10,2,3]\n",
    ")\n",
    "print(f'np.sort(array) \\n {np.sort(array)}\\n')\n",
    "\n",
    "print('argsoft() Returns the indices that would sort an array.')\n",
    "print(f'original array    = {array}')\n",
    "print(f'np.argsort(array) = {np.argsort(array)}')"
   ]
  },
  {
   "cell_type": "markdown",
   "metadata": {},
   "source": [
    "---\n",
    "---\n",
    "\n",
    "#### **8. Handling Missing Values**\n",
    "8.1 Replacing NaN  \n",
    "8.2 Checking for NaN  \n",
    "8.3 Filtering Out NaN "
   ]
  },
  {
   "cell_type": "markdown",
   "metadata": {},
   "source": [
    "# 8.1 Replacing NaN "
   ]
  },
  {
   "cell_type": "code",
   "execution_count": 52,
   "metadata": {},
   "outputs": [
    {
     "name": "stdout",
     "output_type": "stream",
     "text": [
      "[[0. 3. 5.]]\n"
     ]
    }
   ],
   "source": [
    "arr = [\n",
    "    [ np.nan, 3, 5 ]\n",
    "]\n",
    "\n",
    "print(  np.nan_to_num(arr)  )"
   ]
  },
  {
   "cell_type": "markdown",
   "metadata": {},
   "source": [
    "# 8.2 Checking for NaN  "
   ]
  },
  {
   "cell_type": "code",
   "execution_count": 53,
   "metadata": {},
   "outputs": [
    {
     "name": "stdout",
     "output_type": "stream",
     "text": [
      "[[ True False False]]\n"
     ]
    }
   ],
   "source": [
    "arr = [\n",
    "    [ np.nan, 3, 5 ]\n",
    "]\n",
    "\n",
    "print(  np.isnan(arr)   )"
   ]
  },
  {
   "cell_type": "markdown",
   "metadata": {},
   "source": [
    "# 8.3 Filtering Out NaN "
   ]
  },
  {
   "cell_type": "code",
   "execution_count": 54,
   "metadata": {},
   "outputs": [
    {
     "data": {
      "text/plain": [
       "array([1., 2., 4., 5.])"
      ]
     },
     "execution_count": 54,
     "metadata": {},
     "output_type": "execute_result"
    }
   ],
   "source": [
    "array = np.array([1, 2, np.nan, 4, 5, np.nan])\n",
    "\n",
    "array[~np.isnan(array)]"
   ]
  },
  {
   "cell_type": "code",
   "execution_count": null,
   "metadata": {},
   "outputs": [],
   "source": []
  }
 ],
 "metadata": {
  "kernelspec": {
   "display_name": "base",
   "language": "python",
   "name": "python3"
  },
  "language_info": {
   "codemirror_mode": {
    "name": "ipython",
    "version": 3
   },
   "file_extension": ".py",
   "mimetype": "text/x-python",
   "name": "python",
   "nbconvert_exporter": "python",
   "pygments_lexer": "ipython3",
   "version": "3.12.3"
  }
 },
 "nbformat": 4,
 "nbformat_minor": 2
}
