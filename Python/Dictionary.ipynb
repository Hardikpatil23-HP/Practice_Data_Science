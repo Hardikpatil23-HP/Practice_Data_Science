{
  "nbformat": 4,
  "nbformat_minor": 0,
  "metadata": {
    "colab": {
      "provenance": []
    },
    "kernelspec": {
      "name": "python3",
      "display_name": "Python 3"
    },
    "language_info": {
      "name": "python"
    }
  },
  "cells": [
    {
      "cell_type": "markdown",
      "source": [
        "## **Dictionary Manipulation**"
      ],
      "metadata": {
        "id": "i_PBJIXQ6zPQ"
      }
    },
    {
      "cell_type": "code",
      "source": [
        "dic = {'Roll_no':'16/001',\"Name\":'Harry','Course':'BTech'}\n",
        "print(dic)"
      ],
      "metadata": {
        "colab": {
          "base_uri": "https://localhost:8080/"
        },
        "id": "EZTQw6kz6yqK",
        "outputId": "baa2a396-d0c5-4bc9-cc90-29c2ddcd7b91"
      },
      "execution_count": 1,
      "outputs": [
        {
          "output_type": "stream",
          "name": "stdout",
          "text": [
            "{'Roll_no': '16/001', 'Name': 'Harry', 'Course': 'BTech'}\n"
          ]
        }
      ]
    },
    {
      "cell_type": "code",
      "execution_count": 2,
      "metadata": {
        "colab": {
          "base_uri": "https://localhost:8080/"
        },
        "id": "4TesJxW06uyp",
        "outputId": "8fdb8926-ae46-468d-c2d1-808fde0e2312"
      },
      "outputs": [
        {
          "output_type": "stream",
          "name": "stdout",
          "text": [
            "{1: 2, 2: 4, 3: 6, 4: 8, 5: 10, 6: 12, 7: 14, 8: 16, 9: 18}\n"
          ]
        }
      ],
      "source": [
        "Dict = {x : x*2 for x in range(1,10)}\n",
        "print(Dict)"
      ]
    },
    {
      "cell_type": "markdown",
      "source": [
        "Accessing values"
      ],
      "metadata": {
        "id": "m1JPZZaJPi8W"
      }
    },
    {
      "cell_type": "code",
      "source": [
        "student = {'Roll_no':'16/001',\"Name\":'Harry','Course':'BTech'}\n",
        "print(f'student[\"Roll_no\"] = {student[\"Roll_no\"]}')\n",
        "print(f'student[\"Name\"] = {student[\"Name\"]}')\n",
        "print(f'student[\"Course\"] = {student[\"Course\"]}')"
      ],
      "metadata": {
        "colab": {
          "base_uri": "https://localhost:8080/"
        },
        "id": "pgyuSg0fODUZ",
        "outputId": "14e4f804-0f90-40f3-da28-24fe2866406b"
      },
      "execution_count": 3,
      "outputs": [
        {
          "output_type": "stream",
          "name": "stdout",
          "text": [
            "student[\"Roll_no\"] = 16/001\n",
            "student[\"Name\"] = Harry\n",
            "student[\"Course\"] = BTech\n"
          ]
        }
      ]
    },
    {
      "cell_type": "markdown",
      "source": [
        "Adding and Modifying an item in a dictionary\n"
      ],
      "metadata": {
        "id": "AOoAq1bWPvuN"
      }
    },
    {
      "cell_type": "code",
      "source": [
        "student = {'Roll_no':'16/001',\"Name\":'Harry','Course':'BTech'}\n",
        "print(f'student[\"Roll_no\"] = {student[\"Roll_no\"]}')\n",
        "print(f'student[\"Name\"] = {student[\"Name\"]}')\n",
        "print(f'student[\"Course\"] = {student[\"Course\"]}')\n",
        "student[\"marks\"] = 97\n",
        "print(f'student[\"marks\"] = {student[\"marks\"]}')\n",
        "print(f'student = {student}')"
      ],
      "metadata": {
        "colab": {
          "base_uri": "https://localhost:8080/"
        },
        "id": "UXwOW_6jOhGX",
        "outputId": "569fd0d3-5dff-4402-b0c1-45d11bae9534"
      },
      "execution_count": 4,
      "outputs": [
        {
          "output_type": "stream",
          "name": "stdout",
          "text": [
            "student[\"Roll_no\"] = 16/001\n",
            "student[\"Name\"] = Harry\n",
            "student[\"Course\"] = BTech\n",
            "student[\"marks\"] = 97\n",
            "student = {'Roll_no': '16/001', 'Name': 'Harry', 'Course': 'BTech', 'marks': 97}\n"
          ]
        }
      ]
    },
    {
      "cell_type": "markdown",
      "source": [
        "Deleting items"
      ],
      "metadata": {
        "id": "Sft_ag_QQLUH"
      }
    },
    {
      "cell_type": "code",
      "source": [
        "student = {'Roll_no':'16/001',\"Name\":'Harry','Course':'BTech'}\n",
        "print(f'1  student[\"Roll_no\"] = {student[\"Roll_no\"]}')\n",
        "print(f'2  student[\"Name\"] = {student[\"Name\"]}')\n",
        "print(f'3  student[\"Course\"] = {student[\"Course\"]}')\n",
        "\n",
        "del student[\"Course\"]\n",
        "\n",
        "print(f'4  student = {student}')\n",
        "\n",
        "student.clear()\n",
        "\n",
        "print(f'5  student = {student}')\n",
        "\n",
        "del student\n",
        "\n",
        "print(f'6  student = {student}')"
      ],
      "metadata": {
        "colab": {
          "base_uri": "https://localhost:8080/",
          "height": 263
        },
        "id": "1Mgv6rn3ODXb",
        "outputId": "362dcd38-7814-4b5c-acea-cc095f1bcf5f"
      },
      "execution_count": 5,
      "outputs": [
        {
          "output_type": "stream",
          "name": "stdout",
          "text": [
            "1  student[\"Roll_no\"] = 16/001\n",
            "2  student[\"Name\"] = Harry\n",
            "3  student[\"Course\"] = BTech\n",
            "4  student = {'Roll_no': '16/001', 'Name': 'Harry'}\n",
            "5  student = {}\n"
          ]
        },
        {
          "output_type": "error",
          "ename": "NameError",
          "evalue": "name 'student' is not defined",
          "traceback": [
            "\u001b[0;31m---------------------------------------------------------------------------\u001b[0m",
            "\u001b[0;31mNameError\u001b[0m                                 Traceback (most recent call last)",
            "\u001b[0;32m<ipython-input-5-82a3bbee0a21>\u001b[0m in \u001b[0;36m<cell line: 16>\u001b[0;34m()\u001b[0m\n\u001b[1;32m     14\u001b[0m \u001b[0;32mdel\u001b[0m \u001b[0mstudent\u001b[0m\u001b[0;34m\u001b[0m\u001b[0;34m\u001b[0m\u001b[0m\n\u001b[1;32m     15\u001b[0m \u001b[0;34m\u001b[0m\u001b[0m\n\u001b[0;32m---> 16\u001b[0;31m \u001b[0mprint\u001b[0m\u001b[0;34m(\u001b[0m\u001b[0;34mf'6  student = {student}'\u001b[0m\u001b[0;34m)\u001b[0m\u001b[0;34m\u001b[0m\u001b[0;34m\u001b[0m\u001b[0m\n\u001b[0m",
            "\u001b[0;31mNameError\u001b[0m: name 'student' is not defined"
          ]
        }
      ]
    },
    {
      "cell_type": "code",
      "source": [
        "student = {'Roll_no':'16/001',\"Name\":'Harry','Course':'BTech'}\n",
        "print(f'Student = {student}')\n",
        "print(f\"Name is  : {student.pop('Name')}\")\n",
        "print(f\"Dictionary after popping Name is : {student}\")\n",
        "print(f\"Name is  : {student.pop('Roll_no')}\")\n",
        "print(f\"Dictionary after popping Roll_no is : {student}\")\n",
        "print(f\"Name is  : {student.pop('Course')}\")\n",
        "print(f\"Dictionary after popping Course is : {student}\")"
      ],
      "metadata": {
        "colab": {
          "base_uri": "https://localhost:8080/"
        },
        "id": "IY79Vg2HODZ6",
        "outputId": "399f2c8c-32ed-4abd-ef57-52bf539342dd"
      },
      "execution_count": 6,
      "outputs": [
        {
          "output_type": "stream",
          "name": "stdout",
          "text": [
            "Student = {'Roll_no': '16/001', 'Name': 'Harry', 'Course': 'BTech'}\n",
            "Name is  : Harry\n",
            "Dictionary after popping Name is : {'Roll_no': '16/001', 'Course': 'BTech'}\n",
            "Name is  : 16/001\n",
            "Dictionary after popping Roll_no is : {'Course': 'BTech'}\n",
            "Name is  : BTech\n",
            "Dictionary after popping Course is : {}\n"
          ]
        }
      ]
    },
    {
      "cell_type": "code",
      "source": [
        "Dict = {(1,2),([4,5,6])}\n",
        "print(Dict)"
      ],
      "metadata": {
        "colab": {
          "base_uri": "https://localhost:8080/",
          "height": 159
        },
        "id": "BjSAms_iODc6",
        "outputId": "5b2d64d7-e36d-4266-a14e-a63b99021e53"
      },
      "execution_count": 7,
      "outputs": [
        {
          "output_type": "error",
          "ename": "TypeError",
          "evalue": "unhashable type: 'list'",
          "traceback": [
            "\u001b[0;31m---------------------------------------------------------------------------\u001b[0m",
            "\u001b[0;31mTypeError\u001b[0m                                 Traceback (most recent call last)",
            "\u001b[0;32m<ipython-input-7-9a640ad5f04f>\u001b[0m in \u001b[0;36m<cell line: 1>\u001b[0;34m()\u001b[0m\n\u001b[0;32m----> 1\u001b[0;31m \u001b[0mDict\u001b[0m \u001b[0;34m=\u001b[0m \u001b[0;34m{\u001b[0m\u001b[0;34m(\u001b[0m\u001b[0;36m1\u001b[0m\u001b[0;34m,\u001b[0m\u001b[0;36m2\u001b[0m\u001b[0;34m)\u001b[0m\u001b[0;34m,\u001b[0m\u001b[0;34m(\u001b[0m\u001b[0;34m[\u001b[0m\u001b[0;36m4\u001b[0m\u001b[0;34m,\u001b[0m\u001b[0;36m5\u001b[0m\u001b[0;34m,\u001b[0m\u001b[0;36m6\u001b[0m\u001b[0;34m]\u001b[0m\u001b[0;34m)\u001b[0m\u001b[0;34m}\u001b[0m\u001b[0;34m\u001b[0m\u001b[0;34m\u001b[0m\u001b[0m\n\u001b[0m\u001b[1;32m      2\u001b[0m \u001b[0mprint\u001b[0m\u001b[0;34m(\u001b[0m\u001b[0mDict\u001b[0m\u001b[0;34m)\u001b[0m\u001b[0;34m\u001b[0m\u001b[0;34m\u001b[0m\u001b[0m\n",
            "\u001b[0;31mTypeError\u001b[0m: unhashable type: 'list'"
          ]
        }
      ]
    },
    {
      "cell_type": "markdown",
      "source": [
        "program to check single key in a dictionary"
      ],
      "metadata": {
        "id": "u16eLezKUC8v"
      }
    },
    {
      "cell_type": "code",
      "source": [
        "student = {'Roll_no':'16/001',\"Name\":'Harry','Course':'BTech'}\n",
        "if \"Course\" in student:print(f'Student = {student[\"Course\"]}')"
      ],
      "metadata": {
        "id": "mtDrl-03S5QL"
      },
      "execution_count": null,
      "outputs": []
    },
    {
      "cell_type": "markdown",
      "source": [
        "Sorting Items in a Dictionary"
      ],
      "metadata": {
        "id": "7FrcdBX1UJY3"
      }
    },
    {
      "cell_type": "code",
      "source": [
        "student = {'Roll_no':'16/001',\"Name\":'Harry','Course':'BTech'}\n",
        "print(sorted(student.keys()))"
      ],
      "metadata": {
        "colab": {
          "base_uri": "https://localhost:8080/"
        },
        "id": "3IDCyXUsODfj",
        "outputId": "d9578dab-2374-4f05-96cc-89d03f61deed"
      },
      "execution_count": 8,
      "outputs": [
        {
          "output_type": "stream",
          "name": "stdout",
          "text": [
            "['Course', 'Name', 'Roll_no']\n"
          ]
        }
      ]
    },
    {
      "cell_type": "markdown",
      "source": [
        "Looping over a Dictionary"
      ],
      "metadata": {
        "id": "04BzeqeMUQRA"
      }
    },
    {
      "cell_type": "code",
      "source": [
        "student = {'Roll_no':'16/001',\"Name\":'Harry','Course':'BTech'}\n",
        "print(\"keys\",end=\" \")\n",
        "for key in student:\n",
        "  print(key,end=' ')\n",
        "print(\"\\nvalues\",end=\" \")\n",
        "for val in student.values():\n",
        "  print(val,end=' ')\n",
        "print(\"\\nDictionary\",end=\" \")\n",
        "for i,j in student.items():\n",
        "  print('\\t',i,j,end=' ')"
      ],
      "metadata": {
        "colab": {
          "base_uri": "https://localhost:8080/"
        },
        "id": "asJt2gTYODiE",
        "outputId": "1c12799b-8c97-460e-b4bf-3e43cd21ba36"
      },
      "execution_count": 9,
      "outputs": [
        {
          "output_type": "stream",
          "name": "stdout",
          "text": [
            "keys Roll_no Name Course \n",
            "values 16/001 Harry BTech \n",
            "Dictionary \t Roll_no 16/001 \t Name Harry \t Course BTech "
          ]
        }
      ]
    },
    {
      "cell_type": "markdown",
      "source": [
        "Nested Dictionary"
      ],
      "metadata": {
        "id": "FD3qJnYXV3yc"
      }
    },
    {
      "cell_type": "code",
      "source": [
        "Students = {\n",
        "    'shiv':{'CS':'90','DS':'94','CSA':'86'},\n",
        "    'Krish':{'CS':'67','DS':'85','CSA':'85'},\n",
        "    'Sadhvi':{'CS':'80','DS':'76','CSA':'87'}\n",
        "}\n",
        "\n",
        "for keys,values in Students.items():\n",
        "  print(keys,values)"
      ],
      "metadata": {
        "colab": {
          "base_uri": "https://localhost:8080/"
        },
        "id": "R9R6ht80ODkr",
        "outputId": "ad4ad245-9d31-4bb0-9686-070f02530e93"
      },
      "execution_count": 10,
      "outputs": [
        {
          "output_type": "stream",
          "name": "stdout",
          "text": [
            "shiv {'CS': '90', 'DS': '94', 'CSA': '86'}\n",
            "Krish {'CS': '67', 'DS': '85', 'CSA': '85'}\n",
            "Sadhvi {'CS': '80', 'DS': '76', 'CSA': '87'}\n"
          ]
        }
      ]
    },
    {
      "cell_type": "markdown",
      "source": [
        "Built-in Dictionary funcitons and methods"
      ],
      "metadata": {
        "id": "13PkhRbqWuqE"
      }
    },
    {
      "cell_type": "code",
      "source": [
        "#len(dict)\n",
        "\n",
        "Students = {\n",
        "    'shiv':{'CS':'90','DS':'94','CSA':'86'},\n",
        "    'Krish':{'CS':'67','DS':'85','CSA':'85'},\n",
        "    'Sadhvi':{'CS':'80','DS':'76','CSA':'87'}\n",
        "}\n",
        "len(Students)"
      ],
      "metadata": {
        "colab": {
          "base_uri": "https://localhost:8080/"
        },
        "id": "enwa-TiQODnR",
        "outputId": "c49dadaa-2cc2-4a35-d807-c1515d1fe5f7"
      },
      "execution_count": 11,
      "outputs": [
        {
          "output_type": "execute_result",
          "data": {
            "text/plain": [
              "3"
            ]
          },
          "metadata": {},
          "execution_count": 11
        }
      ]
    },
    {
      "cell_type": "code",
      "source": [
        "#str(dict)\n",
        "\n",
        "Students = {\n",
        "    'shiv':{'CS':'90','DS':'94','CSA':'86'},\n",
        "    'Krish':{'CS':'67','DS':'85','CSA':'85'},\n",
        "    'Sadhvi':{'CS':'80','DS':'76','CSA':'87'}\n",
        "}\n",
        "str(Students)"
      ],
      "metadata": {
        "colab": {
          "base_uri": "https://localhost:8080/",
          "height": 52
        },
        "id": "wF_0CHMiODsR",
        "outputId": "fc9b12e2-e935-468b-d84c-b964e5a445f3"
      },
      "execution_count": 12,
      "outputs": [
        {
          "output_type": "execute_result",
          "data": {
            "text/plain": [
              "\"{'shiv': {'CS': '90', 'DS': '94', 'CSA': '86'}, 'Krish': {'CS': '67', 'DS': '85', 'CSA': '85'}, 'Sadhvi': {'CS': '80', 'DS': '76', 'CSA': '87'}}\""
            ],
            "application/vnd.google.colaboratory.intrinsic+json": {
              "type": "string"
            }
          },
          "metadata": {},
          "execution_count": 12
        }
      ]
    },
    {
      "cell_type": "code",
      "source": [
        "#Dict.clear()\n",
        "\n",
        "Students = {\n",
        "    'shiv':{'CS':'90','DS':'94','CSA':'86'},\n",
        "    'Krish':{'CS':'67','DS':'85','CSA':'85'},\n",
        "    'Sadhvi':{'CS':'80','DS':'76','CSA':'87'}\n",
        "}\n",
        "Students.clear()\n",
        "print(Students)"
      ],
      "metadata": {
        "colab": {
          "base_uri": "https://localhost:8080/"
        },
        "id": "p5993XbYODup",
        "outputId": "4424d219-587e-4a7c-91be-a692909ed1dd"
      },
      "execution_count": 13,
      "outputs": [
        {
          "output_type": "stream",
          "name": "stdout",
          "text": [
            "{}\n"
          ]
        }
      ]
    },
    {
      "cell_type": "code",
      "source": [
        "#Dict.copy()\n",
        "\n",
        "student = {'Roll_no':'16/001',\"Name\":'Harry','Course':'BTech'}\n",
        "Students2 = student.copy()\n",
        "print('Copied dictionary',Students2)\n",
        "student[\"Course\"] = \"Msc\"\n",
        "print('modified dictionary',student)"
      ],
      "metadata": {
        "colab": {
          "base_uri": "https://localhost:8080/"
        },
        "id": "YzNezBlwODxD",
        "outputId": "7ce2af71-b045-4792-a8a1-6435367538f7"
      },
      "execution_count": 14,
      "outputs": [
        {
          "output_type": "stream",
          "name": "stdout",
          "text": [
            "Copied dictionary {'Roll_no': '16/001', 'Name': 'Harry', 'Course': 'BTech'}\n",
            "modified dictionary {'Roll_no': '16/001', 'Name': 'Harry', 'Course': 'Msc'}\n"
          ]
        }
      ]
    },
    {
      "cell_type": "code",
      "source": [
        "#Dict.fromkeys(seq[,val])\n",
        "\n",
        "student = ['CS','DS','CSA']\n",
        "marks = dict.fromkeys(student,-1)\n",
        "print(marks)"
      ],
      "metadata": {
        "colab": {
          "base_uri": "https://localhost:8080/"
        },
        "id": "GMC6BQd9YNwJ",
        "outputId": "02977085-8988-4fb9-dd7b-504eb4f59018"
      },
      "execution_count": 15,
      "outputs": [
        {
          "output_type": "stream",
          "name": "stdout",
          "text": [
            "{'CS': -1, 'DS': -1, 'CSA': -1}\n"
          ]
        }
      ]
    },
    {
      "cell_type": "code",
      "source": [
        "#Dict.git(key)\n",
        "\n",
        "student = {'Roll_no':'16/001',\"Name\":'Harry','Course':'BTech'}\n",
        "print(student.get('Name'))"
      ],
      "metadata": {
        "colab": {
          "base_uri": "https://localhost:8080/"
        },
        "id": "Gd0b3wG2Z1r3",
        "outputId": "c52eeb5f-371d-42d9-e97f-3c1ba41ce879"
      },
      "execution_count": 16,
      "outputs": [
        {
          "output_type": "stream",
          "name": "stdout",
          "text": [
            "Harry\n"
          ]
        }
      ]
    },
    {
      "cell_type": "code",
      "source": [
        "#Dict.has_key(key)\n",
        "\n",
        "student = {'Roll_no':'16/001',\"Name\":'Harry','Course':'BTech'}\n",
        "print(\"Course\" in student)"
      ],
      "metadata": {
        "colab": {
          "base_uri": "https://localhost:8080/"
        },
        "id": "Denwdxk1aW6t",
        "outputId": "175d4efd-ec8c-4c88-abf9-fc0d70a79469"
      },
      "execution_count": 17,
      "outputs": [
        {
          "output_type": "stream",
          "name": "stdout",
          "text": [
            "True\n"
          ]
        }
      ]
    },
    {
      "cell_type": "code",
      "source": [
        "#Dict.items()\n",
        "\n",
        "student = {'Roll_no':'16/001',\"Name\":'Harry','Course':'BTech'}\n",
        "print(student.items())"
      ],
      "metadata": {
        "colab": {
          "base_uri": "https://localhost:8080/"
        },
        "id": "z_RG8NkGafP9",
        "outputId": "7c5d47b6-0262-4731-bb18-dc1d2363f299"
      },
      "execution_count": 18,
      "outputs": [
        {
          "output_type": "stream",
          "name": "stdout",
          "text": [
            "dict_items([('Roll_no', '16/001'), ('Name', 'Harry'), ('Course', 'BTech')])\n"
          ]
        }
      ]
    },
    {
      "cell_type": "code",
      "source": [
        "#Dict.keys()\n",
        "\n",
        "student = {'Roll_no':'16/001',\"Name\":'Harry','Course':'BTech'}\n",
        "print(student.keys())"
      ],
      "metadata": {
        "colab": {
          "base_uri": "https://localhost:8080/"
        },
        "id": "J6grTcAEafTE",
        "outputId": "16695bf4-735f-4ed3-d2b3-28187eccfa75"
      },
      "execution_count": 19,
      "outputs": [
        {
          "output_type": "stream",
          "name": "stdout",
          "text": [
            "dict_keys(['Roll_no', 'Name', 'Course'])\n"
          ]
        }
      ]
    },
    {
      "cell_type": "code",
      "source": [
        "#Dict.setdefault(key,value)\n",
        "\n",
        "student = {'Roll_no':'16/001',\"Name\":'Harry','Course':'BTech'}\n",
        "student.setdefault('marks',0)\n",
        "print(student['Name'],'has got marks =',student.get(\"marks\"))"
      ],
      "metadata": {
        "id": "pOxvFZLMafWT",
        "colab": {
          "base_uri": "https://localhost:8080/"
        },
        "outputId": "a9949dcb-15cc-474f-c5ec-eba76461e71e"
      },
      "execution_count": 20,
      "outputs": [
        {
          "output_type": "stream",
          "name": "stdout",
          "text": [
            "Harry has got marks = 0\n"
          ]
        }
      ]
    },
    {
      "cell_type": "code",
      "source": [
        "#Dict.update(dict2)\n",
        "\n",
        "student = {'Roll_no':'16/001',\"Name\":'Harry','Course':'BTech'}\n",
        "std_update = {'Marks':'90','Grade':'A'}\n",
        "\n",
        "student.update(std_update)\n",
        "print(student)"
      ],
      "metadata": {
        "id": "3m-mCtIzafYw",
        "colab": {
          "base_uri": "https://localhost:8080/"
        },
        "outputId": "919faab8-5380-4c43-908e-b8bd54f9a488"
      },
      "execution_count": 21,
      "outputs": [
        {
          "output_type": "stream",
          "name": "stdout",
          "text": [
            "{'Roll_no': '16/001', 'Name': 'Harry', 'Course': 'BTech', 'Marks': '90', 'Grade': 'A'}\n"
          ]
        }
      ]
    },
    {
      "cell_type": "code",
      "source": [
        "#Dict.values()\n",
        "\n",
        "student = {'Roll_no':'16/001',\"Name\":'Harry','Course':'BTech'}\n",
        "print(student.values())"
      ],
      "metadata": {
        "id": "A_kAlX0kafbJ",
        "colab": {
          "base_uri": "https://localhost:8080/"
        },
        "outputId": "88c50697-c736-49fb-f49c-e04bec70c7e8"
      },
      "execution_count": 22,
      "outputs": [
        {
          "output_type": "stream",
          "name": "stdout",
          "text": [
            "dict_values(['16/001', 'Harry', 'BTech'])\n"
          ]
        }
      ]
    },
    {
      "cell_type": "code",
      "source": [
        "# in and not in\n",
        "\n",
        "student = {'Roll_no':'16/001',\"Name\":'Harry','Course':'BTech'}\n",
        "print('Name' in student)\n",
        "print('Course' not in student)"
      ],
      "metadata": {
        "id": "4tKnraTpafdt",
        "colab": {
          "base_uri": "https://localhost:8080/"
        },
        "outputId": "c14d7b27-eaf0-4b0b-8094-713ec8f44b82"
      },
      "execution_count": 23,
      "outputs": [
        {
          "output_type": "stream",
          "name": "stdout",
          "text": [
            "True\n",
            "False\n"
          ]
        }
      ]
    }
  ]
}