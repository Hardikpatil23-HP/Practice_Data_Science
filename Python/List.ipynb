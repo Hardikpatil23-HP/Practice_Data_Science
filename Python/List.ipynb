{
  "cells": [
    {
      "cell_type": "markdown",
      "id": "3277a726",
      "metadata": {
        "id": "3277a726"
      },
      "source": [
        "# **List Maniputlation:**"
      ]
    },
    {
      "cell_type": "markdown",
      "id": "80cb7cf2",
      "metadata": {
        "id": "80cb7cf2"
      },
      "source": [
        "**List can have elements that belong to different data types:**"
      ]
    },
    {
      "cell_type": "code",
      "execution_count": 1,
      "id": "5bab493a",
      "metadata": {
        "colab": {
          "base_uri": "https://localhost:8080/"
        },
        "id": "5bab493a",
        "outputId": "99bea47c-373a-4bb2-d4c8-0fbb91d7ba01"
      },
      "outputs": [
        {
          "output_type": "stream",
          "name": "stdout",
          "text": [
            "['a', 'b', 'c', 'd', 'e'] \n",
            " ['Good', 'Morning'] \n",
            " [1, 2, 3, 4, 5, 6, 7, 8, 9, 10] \n",
            " [1, 2, 'a', 'b', 'good', 'morning']\n"
          ]
        }
      ],
      "source": [
        "alp_list = ['a','b','c','d','e']\n",
        "word_list  = ['Good','Morning']\n",
        "num_list = [1,2,3,4,5,6,7,8,9,10]\n",
        "mix_list = [1,2,'a','b','good','morning']\n",
        "\n",
        "print(\n",
        "    alp_list,'\\n',\n",
        "    word_list,'\\n',\n",
        "    num_list,'\\n',\n",
        "    mix_list,)"
      ]
    },
    {
      "cell_type": "markdown",
      "id": "9d284ef6",
      "metadata": {
        "id": "9d284ef6"
      },
      "source": [
        "**Accesing the values in list:**"
      ]
    },
    {
      "cell_type": "markdown",
      "id": "a700675e",
      "metadata": {
        "id": "a700675e"
      },
      "source": [
        "*seq = list[start,stop,step]*"
      ]
    },
    {
      "cell_type": "code",
      "execution_count": 2,
      "id": "c482d485",
      "metadata": {
        "colab": {
          "base_uri": "https://localhost:8080/"
        },
        "id": "c482d485",
        "outputId": "a9a04358-4fbb-45bb-c64b-f669e8f8e030"
      },
      "outputs": [
        {
          "output_type": "stream",
          "name": "stdout",
          "text": [
            "num_list = [1, 2, 3, 4, 5, 6, 7, 8, 9, 10]\n",
            "\n",
            "num_list[2:5] = [3, 4, 5]\n",
            "\n",
            "num_list[::2] = [1, 3, 5, 7, 9]\n",
            "\n",
            "num_list[1::2] = [2, 4, 6, 8, 10]\n",
            "\n"
          ]
        }
      ],
      "source": [
        "num_list = [1,2,3,4,5,6,7,8,9,10]\n",
        "\n",
        "print(f'num_list = {num_list}\\n')\n",
        "\n",
        "\n",
        "print(f'num_list[2:5] = {num_list[2:5]}\\n')\n",
        "\n",
        "\n",
        "print(f'num_list[::2] = {num_list[::2]}\\n')\n",
        "\n",
        "\n",
        "print(f'num_list[1::2] = {num_list[1::2]}\\n')"
      ]
    },
    {
      "cell_type": "markdown",
      "id": "91e0c08b",
      "metadata": {
        "id": "91e0c08b"
      },
      "source": [
        "*Updating the values in list*"
      ]
    },
    {
      "cell_type": "code",
      "execution_count": 3,
      "id": "12878f32",
      "metadata": {
        "colab": {
          "base_uri": "https://localhost:8080/"
        },
        "id": "12878f32",
        "outputId": "4bc13612-74eb-4d1b-82d1-c89066aa99c5"
      },
      "outputs": [
        {
          "output_type": "stream",
          "name": "stdout",
          "text": [
            "num_list = [1, 2, 3, 4, 5, 6, 7, 8, 9, 10]\n",
            "\n",
            "num_list after putting 100 at index 5 is \n",
            "[1, 2, 3, 4, 5, 100, 7, 8, 9, 10]\n",
            "\n",
            "num_list after appending 200 in list is \n",
            "[1, 2, 3, 4, 5, 100, 7, 8, 9, 10, 200]\n",
            "\n",
            "num_list after deleting value at index 3 i.e. (4) is \n",
            "[1, 2, 3, 5, 100, 7, 8, 9, 10, 200]\n",
            "\n",
            "num_list after removing value 200 from list is \n",
            "[1, 2, 3, 5, 100, 7, 8, 9, 10]\n",
            "\n"
          ]
        }
      ],
      "source": [
        "num_list = [1,2,3,4,5,6,7,8,9,10]\n",
        "\n",
        "print(f'num_list = {num_list}\\n')\n",
        "num_list[5]=100\n",
        "print(f'num_list after putting 100 at index 5 is \\n{num_list}\\n')\n",
        "\n",
        "num_list.append(200)\n",
        "print(f'num_list after appending 200 in list is \\n{num_list}\\n')\n",
        "\n",
        "del num_list[3]\n",
        "print(f'num_list after deleting value at index 3 i.e. (4) is \\n{num_list}\\n')\n",
        "\n",
        "num_list.remove(200)\n",
        "print(f'num_list after removing value 200 from list is \\n{num_list}\\n')"
      ]
    },
    {
      "cell_type": "markdown",
      "id": "afba9a9b",
      "metadata": {
        "id": "afba9a9b"
      },
      "source": [
        "**Del Statement**"
      ]
    },
    {
      "cell_type": "code",
      "execution_count": 4,
      "id": "a702b158",
      "metadata": {
        "colab": {
          "base_uri": "https://localhost:8080/"
        },
        "id": "a702b158",
        "outputId": "a7f2baed-4b93-4ed8-b808-615e941ba2a9"
      },
      "outputs": [
        {
          "output_type": "stream",
          "name": "stdout",
          "text": [
            "[1, 2, 7, 8, 9, 10]\n"
          ]
        }
      ],
      "source": [
        "num_list = [1, 2, 3, 4, 5, 6, 7, 8, 9, 10]\n",
        "del num_list[2:6]\n",
        "print(num_list)"
      ]
    },
    {
      "cell_type": "code",
      "execution_count": 5,
      "id": "b7a21d60",
      "metadata": {
        "colab": {
          "base_uri": "https://localhost:8080/"
        },
        "id": "b7a21d60",
        "outputId": "d7f1e8f0-0323-4ac7-db1a-5727758a331a"
      },
      "outputs": [
        {
          "output_type": "stream",
          "name": "stdout",
          "text": [
            "[]\n"
          ]
        }
      ],
      "source": [
        "num_list = [1, 2, 3, 4, 5, 6, 7, 8, 9, 10]\n",
        "del num_list[:]\n",
        "print(num_list)"
      ]
    },
    {
      "cell_type": "code",
      "execution_count": 6,
      "id": "0df34c5c",
      "metadata": {
        "colab": {
          "base_uri": "https://localhost:8080/",
          "height": 176
        },
        "id": "0df34c5c",
        "outputId": "ca2b23e6-604b-48e5-c564-e5f28a8f57ce"
      },
      "outputs": [
        {
          "output_type": "error",
          "ename": "NameError",
          "evalue": "name 'num_list' is not defined",
          "traceback": [
            "\u001b[0;31m---------------------------------------------------------------------------\u001b[0m",
            "\u001b[0;31mNameError\u001b[0m                                 Traceback (most recent call last)",
            "\u001b[0;32m<ipython-input-6-5c44de8ee1e5>\u001b[0m in \u001b[0;36m<cell line: 3>\u001b[0;34m()\u001b[0m\n\u001b[1;32m      1\u001b[0m \u001b[0mnum_list\u001b[0m \u001b[0;34m=\u001b[0m \u001b[0;34m[\u001b[0m\u001b[0;36m1\u001b[0m\u001b[0;34m,\u001b[0m \u001b[0;36m2\u001b[0m\u001b[0;34m,\u001b[0m \u001b[0;36m3\u001b[0m\u001b[0;34m,\u001b[0m \u001b[0;36m4\u001b[0m\u001b[0;34m,\u001b[0m \u001b[0;36m5\u001b[0m\u001b[0;34m,\u001b[0m \u001b[0;36m6\u001b[0m\u001b[0;34m,\u001b[0m \u001b[0;36m7\u001b[0m\u001b[0;34m,\u001b[0m \u001b[0;36m8\u001b[0m\u001b[0;34m,\u001b[0m \u001b[0;36m9\u001b[0m\u001b[0;34m,\u001b[0m \u001b[0;36m10\u001b[0m\u001b[0;34m]\u001b[0m\u001b[0;34m\u001b[0m\u001b[0;34m\u001b[0m\u001b[0m\n\u001b[1;32m      2\u001b[0m \u001b[0;32mdel\u001b[0m \u001b[0mnum_list\u001b[0m\u001b[0;34m\u001b[0m\u001b[0;34m\u001b[0m\u001b[0m\n\u001b[0;32m----> 3\u001b[0;31m \u001b[0mprint\u001b[0m\u001b[0;34m(\u001b[0m\u001b[0mnum_list\u001b[0m\u001b[0;34m)\u001b[0m\u001b[0;34m\u001b[0m\u001b[0;34m\u001b[0m\u001b[0m\n\u001b[0m",
            "\u001b[0;31mNameError\u001b[0m: name 'num_list' is not defined"
          ]
        }
      ],
      "source": [
        "num_list = [1, 2, 3, 4, 5, 6, 7, 8, 9, 10]\n",
        "del num_list\n",
        "print(num_list)"
      ]
    },
    {
      "cell_type": "markdown",
      "id": "6a59abcc",
      "metadata": {
        "id": "6a59abcc"
      },
      "source": [
        "**Nested List**"
      ]
    },
    {
      "cell_type": "code",
      "execution_count": 7,
      "id": "289fb707",
      "metadata": {
        "colab": {
          "base_uri": "https://localhost:8080/"
        },
        "id": "289fb707",
        "outputId": "3ff50d8a-c947-483c-91f4-3c71a44c381c"
      },
      "outputs": [
        {
          "output_type": "stream",
          "name": "stdout",
          "text": [
            "Original :  [1, 9, 11, 13, 15]\n",
            "After inserting another list, the updated list is : [1, 9, [3, 5, 7], 13, 15]\n"
          ]
        }
      ],
      "source": [
        "number = [1,9,11,13,15]\n",
        "print('Original : ',number)\n",
        "number[2] = [3,5,7]\n",
        "print('After inserting another list, the updated list is :',number)"
      ]
    },
    {
      "cell_type": "code",
      "execution_count": 8,
      "id": "0287fd97",
      "metadata": {
        "colab": {
          "base_uri": "https://localhost:8080/"
        },
        "id": "0287fd97",
        "outputId": "e7f5717e-12ed-4267-c933-bacd01cb53e5"
      },
      "outputs": [
        {
          "output_type": "stream",
          "name": "stdout",
          "text": [
            "list1[ 0 ] =  1\n",
            "list1[ 1 ] =  a\n",
            "list1[ 2 ] =  abc\n",
            "list1[ 3 ] =  [2, 3, 4, 5]\n",
            "list1[ 4 ] =  8.9\n"
          ]
        }
      ],
      "source": [
        "list1 = [1,'a','abc',[2,3,4,5],8.9]\n",
        "\n",
        "i=0\n",
        "while i<(len(list1)):\n",
        "    print('list1[',i,'] = ' ,list1[i])\n",
        "    i+=1"
      ]
    },
    {
      "cell_type": "markdown",
      "id": "63eb1173",
      "metadata": {
        "id": "63eb1173"
      },
      "source": [
        "**Cloning list**"
      ]
    },
    {
      "cell_type": "code",
      "execution_count": 9,
      "id": "07c3c41d",
      "metadata": {
        "colab": {
          "base_uri": "https://localhost:8080/"
        },
        "id": "07c3c41d",
        "outputId": "9e05737c-0449-43eb-b4d2-9fbb86fe802b"
      },
      "outputs": [
        {
          "output_type": "stream",
          "name": "stdout",
          "text": [
            "List_a =  [1, 2, 3, 4, 5, 6, 7, 8, 9, 10]\n",
            "List_b =  [1, 2, 3, 4, 5, 6, 7, 8, 9, 10]\n",
            "List_c =  [3, 4, 5]\n"
          ]
        }
      ],
      "source": [
        "list_a = [1,2,3,4,5,6,7,8,9,10]\n",
        "list_b = list_a\n",
        "\n",
        "print('List_a = ',list_a)\n",
        "print('List_b = ',list_b)\n",
        "\n",
        "list_c = list_a[2:5]\n",
        "print('List_c = ',list_c)\n"
      ]
    },
    {
      "cell_type": "markdown",
      "id": "e6405aff",
      "metadata": {
        "id": "e6405aff"
      },
      "source": [
        "**Basic List Operations**"
      ]
    },
    {
      "cell_type": "code",
      "execution_count": 10,
      "id": "d4bf3dd2",
      "metadata": {
        "colab": {
          "base_uri": "https://localhost:8080/"
        },
        "id": "d4bf3dd2",
        "outputId": "1af2e6ef-2b0c-44bb-f4ef-7b3ee0f057be"
      },
      "outputs": [
        {
          "output_type": "execute_result",
          "data": {
            "text/plain": [
              "10"
            ]
          },
          "metadata": {},
          "execution_count": 10
        }
      ],
      "source": [
        "#len\n",
        "nlist = [1, 2, 3, 4, 5, 6, 7, 8, 9, 10]\n",
        "\n",
        "len(nlist)"
      ]
    },
    {
      "cell_type": "code",
      "execution_count": 11,
      "id": "87a92fc0",
      "metadata": {
        "colab": {
          "base_uri": "https://localhost:8080/"
        },
        "id": "87a92fc0",
        "outputId": "b7fedf0d-9991-43bb-9eed-353cf73995f0"
      },
      "outputs": [
        {
          "output_type": "execute_result",
          "data": {
            "text/plain": [
              "[0, 1, 2, 3, 4, 5, 6, 7, 8, 9]"
            ]
          },
          "metadata": {},
          "execution_count": 11
        }
      ],
      "source": [
        "#Concatenation\n",
        "\n",
        "list_a = [0,1,2,3,4]\n",
        "list_b = [5,6,7,8,9]\n",
        "\n",
        "list_a+list_b"
      ]
    },
    {
      "cell_type": "code",
      "execution_count": 12,
      "id": "a52154ac",
      "metadata": {
        "colab": {
          "base_uri": "https://localhost:8080/"
        },
        "id": "a52154ac",
        "outputId": "3a98d1f9-2f61-4702-af16-8b947092c430"
      },
      "outputs": [
        {
          "output_type": "execute_result",
          "data": {
            "text/plain": [
              "['hello', 'world', 'hello', 'world']"
            ]
          },
          "metadata": {},
          "execution_count": 12
        }
      ],
      "source": [
        "#Repeation\n",
        "\n",
        "list2=['hello','world']*2\n",
        "list2"
      ]
    },
    {
      "cell_type": "code",
      "execution_count": 13,
      "id": "f3883cff",
      "metadata": {
        "colab": {
          "base_uri": "https://localhost:8080/"
        },
        "id": "f3883cff",
        "outputId": "3977762a-d523-4008-9f70-73e59d161ae8"
      },
      "outputs": [
        {
          "output_type": "execute_result",
          "data": {
            "text/plain": [
              "True"
            ]
          },
          "metadata": {},
          "execution_count": 13
        }
      ],
      "source": [
        "#in\n",
        "\n",
        "'a' in ['a','e','i','o','u']"
      ]
    },
    {
      "cell_type": "code",
      "execution_count": 14,
      "id": "26adf450",
      "metadata": {
        "colab": {
          "base_uri": "https://localhost:8080/"
        },
        "id": "26adf450",
        "outputId": "35ebd5fb-3608-46a4-a9a2-c645715d6754"
      },
      "outputs": [
        {
          "output_type": "execute_result",
          "data": {
            "text/plain": [
              "True"
            ]
          },
          "metadata": {},
          "execution_count": 14
        }
      ],
      "source": [
        "#not in\n",
        "\n",
        "3 not in [0,2,4,6,8]"
      ]
    },
    {
      "cell_type": "code",
      "execution_count": 15,
      "id": "841b11c4",
      "metadata": {
        "colab": {
          "base_uri": "https://localhost:8080/"
        },
        "id": "841b11c4",
        "outputId": "c8602d8f-261b-4bd0-ba88-60f493cf195c"
      },
      "outputs": [
        {
          "output_type": "execute_result",
          "data": {
            "text/plain": [
              "10"
            ]
          },
          "metadata": {},
          "execution_count": 15
        }
      ],
      "source": [
        "#max\n",
        "\n",
        "num_list = [1, 2, 3, 4, 5, 6, 7, 8, 9, 10]\n",
        "max(num_list)\n"
      ]
    },
    {
      "cell_type": "code",
      "execution_count": 16,
      "id": "7a2c3040",
      "metadata": {
        "scrolled": true,
        "colab": {
          "base_uri": "https://localhost:8080/"
        },
        "id": "7a2c3040",
        "outputId": "a25574d3-41bd-4448-e33a-04fad3e26526"
      },
      "outputs": [
        {
          "output_type": "execute_result",
          "data": {
            "text/plain": [
              "1"
            ]
          },
          "metadata": {},
          "execution_count": 16
        }
      ],
      "source": [
        "#min\n",
        "\n",
        "num_list = [1, 2, 3, 4, 5, 6, 7, 8, 9, 10]\n",
        "min(num_list)"
      ]
    },
    {
      "cell_type": "code",
      "execution_count": 17,
      "id": "ca925e6e",
      "metadata": {
        "colab": {
          "base_uri": "https://localhost:8080/"
        },
        "id": "ca925e6e",
        "outputId": "f7bf8b64-43b3-443f-ce1b-4e7332c297de"
      },
      "outputs": [
        {
          "output_type": "execute_result",
          "data": {
            "text/plain": [
              "55"
            ]
          },
          "metadata": {},
          "execution_count": 17
        }
      ],
      "source": [
        "#sum\n",
        "\n",
        "num_list = [1, 2, 3, 4, 5, 6, 7, 8, 9, 10]\n",
        "sum(num_list)"
      ]
    },
    {
      "cell_type": "code",
      "execution_count": 18,
      "id": "49166f31",
      "metadata": {
        "colab": {
          "base_uri": "https://localhost:8080/"
        },
        "id": "49166f31",
        "outputId": "ea640f00-f21a-46db-c2c1-63b0400a2a08"
      },
      "outputs": [
        {
          "output_type": "stream",
          "name": "stdout",
          "text": [
            "all(num_list) is True \n",
            "\n",
            "all(num_list1) is False\n"
          ]
        }
      ],
      "source": [
        "#all\n",
        "\n",
        "num_list = [1, 2, 3, 4]\n",
        "print('all(num_list) is',all(num_list),'\\n') # True if all element are true\n",
        "\n",
        "num_list1 = [0,1,2,3]\n",
        "print('all(num_list1) is',all(num_list1)) # False if any element is 0"
      ]
    },
    {
      "cell_type": "code",
      "execution_count": 19,
      "id": "1b8bfb5a",
      "metadata": {
        "colab": {
          "base_uri": "https://localhost:8080/"
        },
        "id": "1b8bfb5a",
        "outputId": "316e5a3e-58f4-41a8-c3ff-add8b9c8ea3e"
      },
      "outputs": [
        {
          "output_type": "stream",
          "name": "stdout",
          "text": [
            "True\n",
            "False\n"
          ]
        }
      ],
      "source": [
        "#any\n",
        "\n",
        "num_list = [1, 2, 3, 4, 5] # True if any element is true\n",
        "\n",
        "print(any(num_list))\n",
        "\n",
        "num_list1 = [0] # False if no element is true\n",
        "print(any(num_list1))"
      ]
    },
    {
      "cell_type": "code",
      "source": [
        "del list"
      ],
      "metadata": {
        "colab": {
          "base_uri": "https://localhost:8080/",
          "height": 141
        },
        "id": "iF3TnMBKyBs1",
        "outputId": "202c75d0-53c5-4076-9ea9-91cef789e170"
      },
      "id": "iF3TnMBKyBs1",
      "execution_count": 20,
      "outputs": [
        {
          "output_type": "error",
          "ename": "NameError",
          "evalue": "name 'list' is not defined",
          "traceback": [
            "\u001b[0;31m---------------------------------------------------------------------------\u001b[0m",
            "\u001b[0;31mNameError\u001b[0m                                 Traceback (most recent call last)",
            "\u001b[0;32m<ipython-input-20-604ec154886e>\u001b[0m in \u001b[0;36m<cell line: 1>\u001b[0;34m()\u001b[0m\n\u001b[0;32m----> 1\u001b[0;31m \u001b[0;32mdel\u001b[0m \u001b[0mlist\u001b[0m\u001b[0;34m\u001b[0m\u001b[0;34m\u001b[0m\u001b[0m\n\u001b[0m",
            "\u001b[0;31mNameError\u001b[0m: name 'list' is not defined"
          ]
        }
      ]
    },
    {
      "cell_type": "code",
      "execution_count": 21,
      "id": "768f0a12",
      "metadata": {
        "colab": {
          "base_uri": "https://localhost:8080/"
        },
        "id": "768f0a12",
        "outputId": "67ff6989-076f-474f-a7da-37b5fd17b5fb"
      },
      "outputs": [
        {
          "output_type": "stream",
          "name": "stdout",
          "text": [
            "['H', 'e', 'l', 'l', 'o']\n"
          ]
        }
      ],
      "source": [
        "list1=list(\"Hello\")\n",
        "print(list1)"
      ]
    },
    {
      "cell_type": "code",
      "execution_count": 22,
      "id": "3cd2ffc8",
      "metadata": {
        "colab": {
          "base_uri": "https://localhost:8080/"
        },
        "id": "3cd2ffc8",
        "outputId": "95983522-e027-483d-fffb-84d9a247d367"
      },
      "outputs": [
        {
          "output_type": "stream",
          "name": "stdout",
          "text": [
            "[1, 2, 3, 4, 7, 8]\n"
          ]
        }
      ],
      "source": [
        "list1 = [3,4,1,2,7,8]\n",
        "list2 = sorted(list1)\n",
        "print(list2)"
      ]
    },
    {
      "cell_type": "markdown",
      "id": "f9b030a8",
      "metadata": {
        "id": "f9b030a8"
      },
      "source": [
        "**list Methods**"
      ]
    },
    {
      "cell_type": "code",
      "execution_count": 23,
      "id": "6042c3a0",
      "metadata": {
        "colab": {
          "base_uri": "https://localhost:8080/"
        },
        "id": "6042c3a0",
        "outputId": "4f7d19b1-e0f2-4d3b-c6bd-5e4ba7c1c4c0"
      },
      "outputs": [
        {
          "output_type": "execute_result",
          "data": {
            "text/plain": [
              "[0, 1, 2, 3, 4, 5]"
            ]
          },
          "metadata": {},
          "execution_count": 23
        }
      ],
      "source": [
        "# append(obj)\n",
        "\n",
        "list1 = [0,1,2,3,4]\n",
        "list1.append(5)\n",
        "list1"
      ]
    },
    {
      "cell_type": "code",
      "execution_count": 24,
      "id": "6332b961",
      "metadata": {
        "colab": {
          "base_uri": "https://localhost:8080/"
        },
        "id": "6332b961",
        "outputId": "a21cd471-8819-4177-f684-77d8d6b0de49"
      },
      "outputs": [
        {
          "output_type": "execute_result",
          "data": {
            "text/plain": [
              "2"
            ]
          },
          "metadata": {},
          "execution_count": 24
        }
      ],
      "source": [
        "#count(obj)\n",
        "\n",
        "list1 = [0,1,1,2,3,4]\n",
        "list1.count(1)"
      ]
    },
    {
      "cell_type": "code",
      "execution_count": 25,
      "id": "b038aa39",
      "metadata": {
        "colab": {
          "base_uri": "https://localhost:8080/"
        },
        "id": "b038aa39",
        "outputId": "60d0370a-278f-4d5b-a3b1-25350fcab1ea"
      },
      "outputs": [
        {
          "output_type": "execute_result",
          "data": {
            "text/plain": [
              "1"
            ]
          },
          "metadata": {},
          "execution_count": 25
        }
      ],
      "source": [
        "#index(obj)\n",
        "\n",
        "list1 = [4,3,2,1,0]\n",
        "list1.index(3)"
      ]
    },
    {
      "cell_type": "code",
      "execution_count": 26,
      "id": "11448e3f",
      "metadata": {
        "colab": {
          "base_uri": "https://localhost:8080/"
        },
        "id": "11448e3f",
        "outputId": "d5b0e23a-9f83-4d53-d0c7-0fdabc3f84ca"
      },
      "outputs": [
        {
          "output_type": "execute_result",
          "data": {
            "text/plain": [
              "[1, 2, 3, 4, 5]"
            ]
          },
          "metadata": {},
          "execution_count": 26
        }
      ],
      "source": [
        "#insert(index,obj)\n",
        "\n",
        "list1=[1,2,3,4]\n",
        "list1.insert(4,5)\n",
        "list1"
      ]
    },
    {
      "cell_type": "code",
      "execution_count": 27,
      "id": "c57593a2",
      "metadata": {
        "colab": {
          "base_uri": "https://localhost:8080/"
        },
        "id": "c57593a2",
        "outputId": "3a149719-1d7f-4077-d730-5c584a218fc1"
      },
      "outputs": [
        {
          "output_type": "execute_result",
          "data": {
            "text/plain": [
              "[1, 3, 4]"
            ]
          },
          "metadata": {},
          "execution_count": 27
        }
      ],
      "source": [
        "#pop(index)\n",
        "\n",
        "list1=[1,2,3,4]\n",
        "list1.pop(1)\n",
        "list1"
      ]
    },
    {
      "cell_type": "code",
      "execution_count": 28,
      "id": "130be524",
      "metadata": {
        "colab": {
          "base_uri": "https://localhost:8080/"
        },
        "id": "130be524",
        "outputId": "d4cfbed6-1625-4a42-adb4-72e122d1d858"
      },
      "outputs": [
        {
          "output_type": "execute_result",
          "data": {
            "text/plain": [
              "[1, 2, 3, 4, 5]"
            ]
          },
          "metadata": {},
          "execution_count": 28
        }
      ],
      "source": [
        "#remove(obj)\n",
        "\n",
        "list1 = [1,2,3,4,5,6]\n",
        "list1.remove(6)\n",
        "list1"
      ]
    },
    {
      "cell_type": "code",
      "execution_count": 29,
      "id": "8e73c0dd",
      "metadata": {
        "colab": {
          "base_uri": "https://localhost:8080/"
        },
        "id": "8e73c0dd",
        "outputId": "8f5a00ae-3423-4c3b-8036-73f3bd746900"
      },
      "outputs": [
        {
          "output_type": "execute_result",
          "data": {
            "text/plain": [
              "[1, 2, 3, 3, 5, 6]"
            ]
          },
          "metadata": {},
          "execution_count": 29
        }
      ],
      "source": [
        "#sort()\n",
        "\n",
        "list1 = [1,3,5,2,3,6]\n",
        "list1.sort()\n",
        "list1"
      ]
    },
    {
      "cell_type": "code",
      "execution_count": 30,
      "id": "1a359fcf",
      "metadata": {
        "colab": {
          "base_uri": "https://localhost:8080/"
        },
        "id": "1a359fcf",
        "outputId": "d6f93b0b-429b-4b28-e1a2-5ba64e793819"
      },
      "outputs": [
        {
          "output_type": "execute_result",
          "data": {
            "text/plain": [
              "[1, 2, 3, 4, 5, 6]"
            ]
          },
          "metadata": {},
          "execution_count": 30
        }
      ],
      "source": [
        "#list1.extend(list2)\n",
        "\n",
        "list1 = [1,2,3]\n",
        "list2 = [4,5,6]\n",
        "list1.extend(list2)\n",
        "list1"
      ]
    },
    {
      "cell_type": "markdown",
      "id": "f5b885ea",
      "metadata": {
        "id": "f5b885ea"
      },
      "source": [
        "# Function Programming"
      ]
    },
    {
      "cell_type": "markdown",
      "id": "c7da98f9",
      "metadata": {
        "id": "c7da98f9"
      },
      "source": [
        "**filter Function**"
      ]
    },
    {
      "cell_type": "code",
      "execution_count": 31,
      "id": "a8168300",
      "metadata": {
        "colab": {
          "base_uri": "https://localhost:8080/"
        },
        "id": "a8168300",
        "outputId": "93fdf45e-7389-4162-9187-7b6cd58a4892"
      },
      "outputs": [
        {
          "output_type": "stream",
          "name": "stdout",
          "text": [
            "[2, 4, 6, 8, 10, 12, 14, 16, 18, 20]\n"
          ]
        }
      ],
      "source": [
        "#filter(function,sequence)\n",
        "\n",
        "def even(num):\n",
        "\n",
        "    if (num % 2 == 0 or num % 4 ==0):\n",
        "        return 1\n",
        "\n",
        "evens = list(filter(even,range(2,22)))\n",
        "\n",
        "print(evens)"
      ]
    },
    {
      "cell_type": "code",
      "execution_count": 32,
      "id": "e64e5a36",
      "metadata": {
        "colab": {
          "base_uri": "https://localhost:8080/"
        },
        "id": "e64e5a36",
        "outputId": "cc88d88b-4328-4149-e6d6-866914866938"
      },
      "outputs": [
        {
          "output_type": "execute_result",
          "data": {
            "text/plain": [
              "[5, 10, 15, 20, 25, 30, 35, 40, 45, 50, 55, 60, 65, 70, 75, 80, 85, 90, 95]"
            ]
          },
          "metadata": {},
          "execution_count": 32
        }
      ],
      "source": [
        "def divisible_5(num):\n",
        "\n",
        "    if(num%5==0 or num%10==0):\n",
        "        return 1\n",
        "\n",
        "digit_5 = list(filter(divisible_5,range(1,100)))\n",
        "digit_5"
      ]
    },
    {
      "cell_type": "markdown",
      "id": "db3afeb8",
      "metadata": {
        "id": "db3afeb8"
      },
      "source": [
        "**map Function**"
      ]
    },
    {
      "cell_type": "code",
      "execution_count": 33,
      "id": "e93538a1",
      "metadata": {
        "colab": {
          "base_uri": "https://localhost:8080/"
        },
        "id": "e93538a1",
        "outputId": "e3e6b42a-9db9-4026-95e8-a3cafb1a6676"
      },
      "outputs": [
        {
          "output_type": "stream",
          "name": "stdout",
          "text": [
            "Original list :  [1, 2, 3, 4, 5, 6]\n",
            "Modified list :  [3, 4, 5, 6, 7, 8]\n"
          ]
        }
      ],
      "source": [
        "#map(function,sequence)\n",
        "\n",
        "def add_2(x):\n",
        "    x+=2\n",
        "    return x\n",
        "\n",
        "num_list = [1,2,3,4,5,6]\n",
        "\n",
        "print('Original list : ',num_list)\n",
        "\n",
        "new_list = list(map(add_2,num_list))\n",
        "\n",
        "print('Modified list : ',new_list)"
      ]
    },
    {
      "cell_type": "code",
      "execution_count": 34,
      "id": "39f8f988",
      "metadata": {
        "colab": {
          "base_uri": "https://localhost:8080/"
        },
        "id": "39f8f988",
        "outputId": "47098b92-9d63-45b5-f800-874af8f1b5b5"
      },
      "outputs": [
        {
          "output_type": "stream",
          "name": "stdout",
          "text": [
            "list1 : [1, 2, 3, 4] \n",
            "list2 : [5, 6, 7, 8] \n",
            "new_list : [6, 8, 10, 12]\n"
          ]
        }
      ],
      "source": [
        "def add(x,y):\n",
        "    return x+y\n",
        "\n",
        "list1 = [1,2,3,4]\n",
        "list2 = [5,6,7,8]\n",
        "new_list = list(map(add,list1,list2))\n",
        "print('list1 :',list1,\"\\nlist2 :\",list2,'\\nnew_list :',new_list)"
      ]
    },
    {
      "cell_type": "markdown",
      "id": "84dcb4a7",
      "metadata": {
        "id": "84dcb4a7"
      },
      "source": [
        "**reduce Fuction**"
      ]
    },
    {
      "cell_type": "code",
      "execution_count": 35,
      "id": "f588d5d6",
      "metadata": {
        "colab": {
          "base_uri": "https://localhost:8080/"
        },
        "id": "f588d5d6",
        "outputId": "ffe321f3-ca65-4714-f92f-f7fe16fc0ecc"
      },
      "outputs": [
        {
          "output_type": "stream",
          "name": "stdout",
          "text": [
            "Sum of values in list =  15\n"
          ]
        }
      ],
      "source": [
        "import functools #it contains reduce function i.e reduce()\n",
        "\n",
        "def add(x,y):\n",
        "    return x+y\n",
        "\n",
        "num_list = [1,2,3,4,5]\n",
        "print(\"Sum of values in list = \",functools.reduce(add,num_list))"
      ]
    },
    {
      "cell_type": "code",
      "source": [],
      "metadata": {
        "id": "B63b0vEJyYte"
      },
      "id": "B63b0vEJyYte",
      "execution_count": 35,
      "outputs": []
    }
  ],
  "metadata": {
    "kernelspec": {
      "display_name": "Python 3 (ipykernel)",
      "language": "python",
      "name": "python3"
    },
    "language_info": {
      "codemirror_mode": {
        "name": "ipython",
        "version": 3
      },
      "file_extension": ".py",
      "mimetype": "text/x-python",
      "name": "python",
      "nbconvert_exporter": "python",
      "pygments_lexer": "ipython3",
      "version": "3.9.18"
    },
    "colab": {
      "provenance": []
    }
  },
  "nbformat": 4,
  "nbformat_minor": 5
}