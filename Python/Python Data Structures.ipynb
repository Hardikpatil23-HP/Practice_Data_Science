{
 "cells": [
  {
   "cell_type": "markdown",
   "id": "3277a726",
   "metadata": {},
   "source": [
    "# **List Maniputlation:**"
   ]
  },
  {
   "cell_type": "markdown",
   "id": "80cb7cf2",
   "metadata": {},
   "source": [
    "**List can have elements that belong to different data types:**"
   ]
  },
  {
   "cell_type": "code",
   "execution_count": 1,
   "id": "5bab493a",
   "metadata": {},
   "outputs": [
    {
     "name": "stdout",
     "output_type": "stream",
     "text": [
      "['a', 'b', 'c', 'd', 'e'] \n",
      " ['Good', 'Morning'] \n",
      " [1, 2, 3, 4, 5, 6, 7, 8, 9, 10] \n",
      " [1, 2, 'a', 'b', 'good', 'morning']\n"
     ]
    }
   ],
   "source": [
    "alp_list = ['a','b','c','d','e']\n",
    "word_list  = ['Good','Morning']\n",
    "num_list = [1,2,3,4,5,6,7,8,9,10]\n",
    "mix_list = [1,2,'a','b','good','morning']\n",
    "\n",
    "print(\n",
    "    alp_list,'\\n',\n",
    "    word_list,'\\n',\n",
    "    num_list,'\\n',\n",
    "    mix_list,)"
   ]
  },
  {
   "cell_type": "markdown",
   "id": "9d284ef6",
   "metadata": {},
   "source": [
    "**Accesing the values in list:**"
   ]
  },
  {
   "cell_type": "markdown",
   "id": "a700675e",
   "metadata": {},
   "source": [
    "*seq = list[start,stop,step]* "
   ]
  },
  {
   "cell_type": "code",
   "execution_count": 2,
   "id": "c482d485",
   "metadata": {},
   "outputs": [
    {
     "name": "stdout",
     "output_type": "stream",
     "text": [
      "num_list = [1, 2, 3, 4, 5, 6, 7, 8, 9, 10]\n",
      "\n",
      "num_list[2:5] = [3, 4, 5]\n",
      "\n",
      "num_list[::2] = [1, 3, 5, 7, 9]\n",
      "\n",
      "num_list[1::2] = [2, 4, 6, 8, 10]\n",
      "\n"
     ]
    }
   ],
   "source": [
    "num_list = [1,2,3,4,5,6,7,8,9,10]\n",
    "\n",
    "print(f'num_list = {num_list}\\n')\n",
    "\n",
    "\n",
    "print(f'num_list[2:5] = {num_list[2:5]}\\n')\n",
    "\n",
    "\n",
    "print(f'num_list[::2] = {num_list[::2]}\\n')\n",
    "\n",
    "\n",
    "print(f'num_list[1::2] = {num_list[1::2]}\\n')"
   ]
  },
  {
   "cell_type": "markdown",
   "id": "91e0c08b",
   "metadata": {},
   "source": [
    "*Updating the values in list*"
   ]
  },
  {
   "cell_type": "code",
   "execution_count": 3,
   "id": "12878f32",
   "metadata": {},
   "outputs": [
    {
     "name": "stdout",
     "output_type": "stream",
     "text": [
      "num_list = [1, 2, 3, 4, 5, 6, 7, 8, 9, 10]\n",
      "\n",
      "num_list after putting 100 at index 5 is \n",
      "[1, 2, 3, 4, 5, 100, 7, 8, 9, 10]\n",
      "\n",
      "num_list after appending 200 in list is \n",
      "[1, 2, 3, 4, 5, 100, 7, 8, 9, 10, 200]\n",
      "\n",
      "num_list after deleting value at index 3 i.e. (4) is \n",
      "[1, 2, 3, 5, 100, 7, 8, 9, 10, 200]\n",
      "\n",
      "num_list after removing value 200 from list is \n",
      "[1, 2, 3, 5, 100, 7, 8, 9, 10]\n",
      "\n"
     ]
    }
   ],
   "source": [
    "num_list = [1,2,3,4,5,6,7,8,9,10]\n",
    "\n",
    "print(f'num_list = {num_list}\\n')\n",
    "num_list[5]=100\n",
    "print(f'num_list after putting 100 at index 5 is \\n{num_list}\\n')\n",
    "\n",
    "num_list.append(200)\n",
    "print(f'num_list after appending 200 in list is \\n{num_list}\\n')\n",
    "\n",
    "del num_list[3]\n",
    "print(f'num_list after deleting value at index 3 i.e. (4) is \\n{num_list}\\n')\n",
    "\n",
    "num_list.remove(200)\n",
    "print(f'num_list after removing value 200 from list is \\n{num_list}\\n')"
   ]
  },
  {
   "cell_type": "markdown",
   "id": "afba9a9b",
   "metadata": {},
   "source": [
    "**Del Statement**"
   ]
  },
  {
   "cell_type": "code",
   "execution_count": 4,
   "id": "a702b158",
   "metadata": {},
   "outputs": [
    {
     "name": "stdout",
     "output_type": "stream",
     "text": [
      "[1, 2, 7, 8, 9, 10]\n"
     ]
    }
   ],
   "source": [
    "num_list = [1, 2, 3, 4, 5, 6, 7, 8, 9, 10]\n",
    "del num_list[2:6]\n",
    "print(num_list)"
   ]
  },
  {
   "cell_type": "code",
   "execution_count": 5,
   "id": "b7a21d60",
   "metadata": {},
   "outputs": [
    {
     "name": "stdout",
     "output_type": "stream",
     "text": [
      "[]\n"
     ]
    }
   ],
   "source": [
    "num_list = [1, 2, 3, 4, 5, 6, 7, 8, 9, 10]\n",
    "del num_list[:]\n",
    "print(num_list)"
   ]
  },
  {
   "cell_type": "code",
   "execution_count": 6,
   "id": "0df34c5c",
   "metadata": {},
   "outputs": [
    {
     "ename": "NameError",
     "evalue": "name 'num_list' is not defined",
     "output_type": "error",
     "traceback": [
      "\u001b[1;31m---------------------------------------------------------------------------\u001b[0m",
      "\u001b[1;31mNameError\u001b[0m                                 Traceback (most recent call last)",
      "Cell \u001b[1;32mIn[6], line 3\u001b[0m\n\u001b[0;32m      1\u001b[0m num_list \u001b[38;5;241m=\u001b[39m [\u001b[38;5;241m1\u001b[39m, \u001b[38;5;241m2\u001b[39m, \u001b[38;5;241m3\u001b[39m, \u001b[38;5;241m4\u001b[39m, \u001b[38;5;241m5\u001b[39m, \u001b[38;5;241m6\u001b[39m, \u001b[38;5;241m7\u001b[39m, \u001b[38;5;241m8\u001b[39m, \u001b[38;5;241m9\u001b[39m, \u001b[38;5;241m10\u001b[39m]\n\u001b[0;32m      2\u001b[0m \u001b[38;5;28;01mdel\u001b[39;00m num_list\n\u001b[1;32m----> 3\u001b[0m \u001b[38;5;28mprint\u001b[39m(\u001b[43mnum_list\u001b[49m)\n",
      "\u001b[1;31mNameError\u001b[0m: name 'num_list' is not defined"
     ]
    }
   ],
   "source": [
    "num_list = [1, 2, 3, 4, 5, 6, 7, 8, 9, 10]\n",
    "del num_list\n",
    "print(num_list)"
   ]
  },
  {
   "cell_type": "markdown",
   "id": "6a59abcc",
   "metadata": {},
   "source": [
    "**Nested List**"
   ]
  },
  {
   "cell_type": "code",
   "execution_count": null,
   "id": "289fb707",
   "metadata": {},
   "outputs": [],
   "source": [
    "number = [1,9,11,13,15]\n",
    "print('Original : ',number)\n",
    "number[2] = [3,5,7]\n",
    "print('After inserting another list, the updated list is :',number)"
   ]
  },
  {
   "cell_type": "code",
   "execution_count": null,
   "id": "0287fd97",
   "metadata": {},
   "outputs": [],
   "source": [
    "list1 = [1,'a','abc',[2,3,4,5],8.9] \n",
    "\n",
    "i=0\n",
    "while i<(len(list1)):\n",
    "    print('list1[',i,'] = ' ,list1[i])\n",
    "    i+=1"
   ]
  },
  {
   "cell_type": "markdown",
   "id": "63eb1173",
   "metadata": {},
   "source": [
    "**Cloning list**"
   ]
  },
  {
   "cell_type": "code",
   "execution_count": 7,
   "id": "07c3c41d",
   "metadata": {},
   "outputs": [
    {
     "name": "stdout",
     "output_type": "stream",
     "text": [
      "List_a =  [1, 2, 3, 4, 5, 6, 7, 8, 9, 10]\n",
      "List_b =  [1, 2, 3, 4, 5, 6, 7, 8, 9, 10]\n",
      "List_c =  [3, 4, 5]\n"
     ]
    }
   ],
   "source": [
    "list_a = [1,2,3,4,5,6,7,8,9,10]\n",
    "list_b = list_a\n",
    "\n",
    "print('List_a = ',list_a)\n",
    "print('List_b = ',list_b)\n",
    "\n",
    "list_c = list_a[2:5]\n",
    "print('List_c = ',list_c)\n"
   ]
  },
  {
   "cell_type": "markdown",
   "id": "e6405aff",
   "metadata": {},
   "source": [
    "**Basic List Operations**"
   ]
  },
  {
   "cell_type": "code",
   "execution_count": 8,
   "id": "d4bf3dd2",
   "metadata": {},
   "outputs": [
    {
     "data": {
      "text/plain": [
       "10"
      ]
     },
     "execution_count": 8,
     "metadata": {},
     "output_type": "execute_result"
    }
   ],
   "source": [
    "#len \n",
    "nlist = [1, 2, 3, 4, 5, 6, 7, 8, 9, 10]\n",
    "\n",
    "len(nlist)"
   ]
  },
  {
   "cell_type": "code",
   "execution_count": 9,
   "id": "87a92fc0",
   "metadata": {},
   "outputs": [
    {
     "data": {
      "text/plain": [
       "[0, 1, 2, 3, 4, 5, 6, 7, 8, 9]"
      ]
     },
     "execution_count": 9,
     "metadata": {},
     "output_type": "execute_result"
    }
   ],
   "source": [
    "#Concatenation\n",
    "\n",
    "list_a = [0,1,2,3,4]\n",
    "list_b = [5,6,7,8,9]\n",
    "\n",
    "list_a+list_b"
   ]
  },
  {
   "cell_type": "code",
   "execution_count": 10,
   "id": "a52154ac",
   "metadata": {},
   "outputs": [
    {
     "data": {
      "text/plain": [
       "['hello', 'world', 'hello', 'world']"
      ]
     },
     "execution_count": 10,
     "metadata": {},
     "output_type": "execute_result"
    }
   ],
   "source": [
    "#Repeation\n",
    "\n",
    "list=['hello','world']*2\n",
    "list"
   ]
  },
  {
   "cell_type": "code",
   "execution_count": 11,
   "id": "f3883cff",
   "metadata": {},
   "outputs": [
    {
     "data": {
      "text/plain": [
       "True"
      ]
     },
     "execution_count": 11,
     "metadata": {},
     "output_type": "execute_result"
    }
   ],
   "source": [
    "#in\n",
    "\n",
    "'a' in ['a','e','i','o','u']"
   ]
  },
  {
   "cell_type": "code",
   "execution_count": 12,
   "id": "26adf450",
   "metadata": {},
   "outputs": [
    {
     "data": {
      "text/plain": [
       "True"
      ]
     },
     "execution_count": 12,
     "metadata": {},
     "output_type": "execute_result"
    }
   ],
   "source": [
    "#not in\n",
    "\n",
    "3 not in [0,2,4,6,8]"
   ]
  },
  {
   "cell_type": "code",
   "execution_count": 13,
   "id": "841b11c4",
   "metadata": {},
   "outputs": [
    {
     "data": {
      "text/plain": [
       "10"
      ]
     },
     "execution_count": 13,
     "metadata": {},
     "output_type": "execute_result"
    }
   ],
   "source": [
    "#max\n",
    "\n",
    "num_list = [1, 2, 3, 4, 5, 6, 7, 8, 9, 10]\n",
    "max(num_list)"
   ]
  },
  {
   "cell_type": "code",
   "execution_count": 14,
   "id": "7a2c3040",
   "metadata": {
    "scrolled": true
   },
   "outputs": [
    {
     "data": {
      "text/plain": [
       "1"
      ]
     },
     "execution_count": 14,
     "metadata": {},
     "output_type": "execute_result"
    }
   ],
   "source": [
    "#min\n",
    "\n",
    "num_list = [1, 2, 3, 4, 5, 6, 7, 8, 9, 10]\n",
    "min(num_list)"
   ]
  },
  {
   "cell_type": "code",
   "execution_count": 15,
   "id": "ca925e6e",
   "metadata": {},
   "outputs": [
    {
     "data": {
      "text/plain": [
       "55"
      ]
     },
     "execution_count": 15,
     "metadata": {},
     "output_type": "execute_result"
    }
   ],
   "source": [
    "#sum\n",
    "\n",
    "num_list = [1, 2, 3, 4, 5, 6, 7, 8, 9, 10]\n",
    "sum(num_list)"
   ]
  },
  {
   "cell_type": "code",
   "execution_count": 16,
   "id": "49166f31",
   "metadata": {},
   "outputs": [
    {
     "name": "stdout",
     "output_type": "stream",
     "text": [
      "all(num_list) is True \n",
      "\n",
      "all(num_list1) is False\n"
     ]
    }
   ],
   "source": [
    "#all\n",
    "\n",
    "num_list = [1, 2, 3, 4]\n",
    "print('all(num_list) is',all(num_list),'\\n') # True if all element are true\n",
    "\n",
    "num_list1 = [0,1,2,3]\n",
    "print('all(num_list1) is',all(num_list1)) # False if any element is 0"
   ]
  },
  {
   "cell_type": "code",
   "execution_count": 17,
   "id": "1b8bfb5a",
   "metadata": {},
   "outputs": [
    {
     "name": "stdout",
     "output_type": "stream",
     "text": [
      "True\n",
      "False\n"
     ]
    }
   ],
   "source": [
    "#any \n",
    "\n",
    "num_list = [1, 2, 3, 4, 5] # True if any element is true\n",
    "\n",
    "print(any(num_list))\n",
    "\n",
    "num_list1 = [0] # False if no element is true\n",
    "print(any(num_list1))"
   ]
  },
  {
   "cell_type": "code",
   "execution_count": 18,
   "id": "768f0a12",
   "metadata": {},
   "outputs": [
    {
     "ename": "TypeError",
     "evalue": "'list' object is not callable",
     "output_type": "error",
     "traceback": [
      "\u001b[1;31m---------------------------------------------------------------------------\u001b[0m",
      "\u001b[1;31mTypeError\u001b[0m                                 Traceback (most recent call last)",
      "Cell \u001b[1;32mIn[18], line 1\u001b[0m\n\u001b[1;32m----> 1\u001b[0m list1\u001b[38;5;241m=\u001b[39m\u001b[38;5;28;43mlist\u001b[39;49m\u001b[43m(\u001b[49m\u001b[38;5;124;43m\"\u001b[39;49m\u001b[38;5;124;43mHello\u001b[39;49m\u001b[38;5;124;43m\"\u001b[39;49m\u001b[43m)\u001b[49m\n\u001b[0;32m      2\u001b[0m \u001b[38;5;28mprint\u001b[39m(list1)\n",
      "\u001b[1;31mTypeError\u001b[0m: 'list' object is not callable"
     ]
    }
   ],
   "source": [
    "list1=list(\"Hello\")\n",
    "print(list1)"
   ]
  },
  {
   "cell_type": "code",
   "execution_count": 19,
   "id": "3cd2ffc8",
   "metadata": {},
   "outputs": [
    {
     "name": "stdout",
     "output_type": "stream",
     "text": [
      "[1, 2, 3, 4, 7, 8]\n"
     ]
    }
   ],
   "source": [
    "list1 = [3,4,1,2,7,8]\n",
    "list2 = sorted(list1)\n",
    "print(list2)"
   ]
  },
  {
   "cell_type": "markdown",
   "id": "f9b030a8",
   "metadata": {},
   "source": [
    "**list Methods**"
   ]
  },
  {
   "cell_type": "code",
   "execution_count": 20,
   "id": "6042c3a0",
   "metadata": {},
   "outputs": [
    {
     "data": {
      "text/plain": [
       "[0, 1, 2, 3, 4, 5]"
      ]
     },
     "execution_count": 20,
     "metadata": {},
     "output_type": "execute_result"
    }
   ],
   "source": [
    "# append(obj)\n",
    "\n",
    "list1 = [0,1,2,3,4]\n",
    "list1.append(5)\n",
    "list1"
   ]
  },
  {
   "cell_type": "code",
   "execution_count": 21,
   "id": "6332b961",
   "metadata": {},
   "outputs": [
    {
     "data": {
      "text/plain": [
       "2"
      ]
     },
     "execution_count": 21,
     "metadata": {},
     "output_type": "execute_result"
    }
   ],
   "source": [
    "#count(obj)\n",
    "\n",
    "list1 = [0,1,1,2,3,4]\n",
    "list1.count(1)"
   ]
  },
  {
   "cell_type": "code",
   "execution_count": 22,
   "id": "b038aa39",
   "metadata": {},
   "outputs": [
    {
     "data": {
      "text/plain": [
       "1"
      ]
     },
     "execution_count": 22,
     "metadata": {},
     "output_type": "execute_result"
    }
   ],
   "source": [
    "#index(obj)\n",
    "\n",
    "list1 = [4,3,2,1,0]\n",
    "list1.index(3)"
   ]
  },
  {
   "cell_type": "code",
   "execution_count": 23,
   "id": "11448e3f",
   "metadata": {},
   "outputs": [
    {
     "data": {
      "text/plain": [
       "[1, 2, 3, 4, 5]"
      ]
     },
     "execution_count": 23,
     "metadata": {},
     "output_type": "execute_result"
    }
   ],
   "source": [
    "#insert(index,obj)\n",
    "\n",
    "list1=[1,2,3,4]\n",
    "list1.insert(4,5)\n",
    "list1"
   ]
  },
  {
   "cell_type": "code",
   "execution_count": 24,
   "id": "c57593a2",
   "metadata": {},
   "outputs": [
    {
     "data": {
      "text/plain": [
       "[1, 3, 4]"
      ]
     },
     "execution_count": 24,
     "metadata": {},
     "output_type": "execute_result"
    }
   ],
   "source": [
    "#pop(index)\n",
    "\n",
    "list1=[1,2,3,4]\n",
    "list1.pop(1)\n",
    "list1"
   ]
  },
  {
   "cell_type": "code",
   "execution_count": 25,
   "id": "130be524",
   "metadata": {},
   "outputs": [
    {
     "data": {
      "text/plain": [
       "[1, 2, 3, 4, 5]"
      ]
     },
     "execution_count": 25,
     "metadata": {},
     "output_type": "execute_result"
    }
   ],
   "source": [
    "#remove(obj)\n",
    "\n",
    "list1 = [1,2,3,4,5,6]\n",
    "list1.remove(6)\n",
    "list1"
   ]
  },
  {
   "cell_type": "code",
   "execution_count": 26,
   "id": "8e73c0dd",
   "metadata": {},
   "outputs": [
    {
     "data": {
      "text/plain": [
       "[1, 2, 3, 3, 5, 6]"
      ]
     },
     "execution_count": 26,
     "metadata": {},
     "output_type": "execute_result"
    }
   ],
   "source": [
    "#sort()\n",
    "\n",
    "list1 = [1,3,5,2,3,6]\n",
    "list1.sort()\n",
    "list1"
   ]
  },
  {
   "cell_type": "code",
   "execution_count": 27,
   "id": "1a359fcf",
   "metadata": {},
   "outputs": [
    {
     "data": {
      "text/plain": [
       "[1, 2, 3, 4, 5, 6]"
      ]
     },
     "execution_count": 27,
     "metadata": {},
     "output_type": "execute_result"
    }
   ],
   "source": [
    "#list1.extend(list2)\n",
    "\n",
    "list1 = [1,2,3]\n",
    "list2 = [4,5,6]\n",
    "list1.extend(list2)\n",
    "list1"
   ]
  },
  {
   "cell_type": "markdown",
   "id": "f5b885ea",
   "metadata": {},
   "source": [
    "# Function Programming"
   ]
  },
  {
   "cell_type": "markdown",
   "id": "c7da98f9",
   "metadata": {},
   "source": [
    "**filter Function**"
   ]
  },
  {
   "cell_type": "code",
   "execution_count": 24,
   "id": "a8168300",
   "metadata": {},
   "outputs": [
    {
     "name": "stdout",
     "output_type": "stream",
     "text": [
      "[2, 4, 6, 8, 10, 12, 14, 16, 18, 20]\n"
     ]
    }
   ],
   "source": [
    "#filter(function,sequence)\n",
    "\n",
    "def even(num):\n",
    "    \n",
    "    if (num % 2 == 0 or num % 4 ==0):\n",
    "        return 1\n",
    "\n",
    "evens = list(filter(even,range(2,22)))\n",
    "\n",
    "print(evens)"
   ]
  },
  {
   "cell_type": "code",
   "execution_count": 34,
   "id": "e64e5a36",
   "metadata": {},
   "outputs": [
    {
     "data": {
      "text/plain": [
       "[5, 10, 15, 20, 25, 30, 35, 40, 45, 50, 55, 60, 65, 70, 75, 80, 85, 90, 95]"
      ]
     },
     "execution_count": 34,
     "metadata": {},
     "output_type": "execute_result"
    }
   ],
   "source": [
    "def divisible_5(num):\n",
    "    \n",
    "    if(num%5==0 or num%10==0):\n",
    "        return 1\n",
    "\n",
    "digit_5 = list(filter(divisible_5,range(1,100)))\n",
    "digit_5"
   ]
  },
  {
   "cell_type": "markdown",
   "id": "db3afeb8",
   "metadata": {},
   "source": [
    "**map Function**"
   ]
  },
  {
   "cell_type": "code",
   "execution_count": 36,
   "id": "e93538a1",
   "metadata": {},
   "outputs": [
    {
     "name": "stdout",
     "output_type": "stream",
     "text": [
      "Original list :  [1, 2, 3, 4, 5, 6]\n",
      "Modified list :  [3, 4, 5, 6, 7, 8]\n"
     ]
    }
   ],
   "source": [
    "#map(function,sequence)\n",
    "\n",
    "def add_2(x):\n",
    "    x+=2\n",
    "    return x\n",
    "\n",
    "num_list = [1,2,3,4,5,6]\n",
    "\n",
    "print('Original list : ',num_list)\n",
    "\n",
    "new_list = list(map(add_2,num_list))\n",
    "\n",
    "print('Modified list : ',new_list)"
   ]
  },
  {
   "cell_type": "code",
   "execution_count": 39,
   "id": "39f8f988",
   "metadata": {},
   "outputs": [
    {
     "name": "stdout",
     "output_type": "stream",
     "text": [
      "list1 : [1, 2, 3, 4] \n",
      "list2 : [5, 6, 7, 8] \n",
      "new_list : [6, 8, 10, 12]\n"
     ]
    }
   ],
   "source": [
    "def add(x,y):\n",
    "    return x+y\n",
    "\n",
    "list1 = [1,2,3,4]\n",
    "list2 = [5,6,7,8]\n",
    "new_list = list(map(add,list1,list2))\n",
    "print('list1 :',list1,\"\\nlist2 :\",list2,'\\nnew_list :',new_list)"
   ]
  },
  {
   "cell_type": "markdown",
   "id": "84dcb4a7",
   "metadata": {},
   "source": [
    "**reduce Fuction**"
   ]
  },
  {
   "cell_type": "code",
   "execution_count": 43,
   "id": "f588d5d6",
   "metadata": {},
   "outputs": [
    {
     "name": "stdout",
     "output_type": "stream",
     "text": [
      "Sum of values in list =  15\n"
     ]
    }
   ],
   "source": [
    "import functools #it contains reduce function i.e reduce()\n",
    "\n",
    "def add(x,y):\n",
    "    return x+y\n",
    "\n",
    "num_list = [1,2,3,4,5]\n",
    "print(\"Sum of values in list = \",functools.reduce(add,num_list))"
   ]
  },
  {
   "cell_type": "markdown",
   "id": "af018e6e",
   "metadata": {},
   "source": [
    "# **Tuple Manipulation**"
   ]
  },
  {
   "cell_type": "code",
   "execution_count": 1,
   "id": "c4e377a5",
   "metadata": {},
   "outputs": [
    {
     "name": "stdout",
     "output_type": "stream",
     "text": [
      "()\n"
     ]
    }
   ],
   "source": [
    "tup1=()\n",
    "print(tup1)"
   ]
  },
  {
   "cell_type": "code",
   "execution_count": 33,
   "id": "9826cfec",
   "metadata": {},
   "outputs": [
    {
     "name": "stdout",
     "output_type": "stream",
     "text": [
      "<class 'int'>\n"
     ]
    }
   ],
   "source": [
    "# tuple of single element\n",
    "\n",
    "tup1 = (5)\n",
    "print(tup1)"
   ]
  },
  {
   "cell_type": "code",
   "execution_count": 3,
   "id": "f54d041d",
   "metadata": {},
   "outputs": [
    {
     "name": "stdout",
     "output_type": "stream",
     "text": [
      "(1, 2, 3, 4)\n"
     ]
    }
   ],
   "source": [
    "# tuple of integers\n",
    "\n",
    "tup1=(1,2,3,4)\n",
    "print(tup1)"
   ]
  },
  {
   "cell_type": "code",
   "execution_count": 4,
   "id": "c05c7d15",
   "metadata": {},
   "outputs": [
    {
     "name": "stdout",
     "output_type": "stream",
     "text": [
      "('a', 'b', 'c', 'd')\n"
     ]
    }
   ],
   "source": [
    "# tuple of characters\n",
    "\n",
    "tup1=('a','b','c','d')\n",
    "print(tup1)"
   ]
  },
  {
   "cell_type": "code",
   "execution_count": 5,
   "id": "b4a0f38a",
   "metadata": {},
   "outputs": [
    {
     "name": "stdout",
     "output_type": "stream",
     "text": [
      "('abc', 'def', 'ghi')\n"
     ]
    }
   ],
   "source": [
    "# tuple of words\n",
    "\n",
    "tup1=('abc','def','ghi')\n",
    "print(tup1)"
   ]
  },
  {
   "cell_type": "code",
   "execution_count": 6,
   "id": "b2a00ef8",
   "metadata": {},
   "outputs": [
    {
     "name": "stdout",
     "output_type": "stream",
     "text": [
      "(1.2, 2.3, 3.4, 4.5)\n"
     ]
    }
   ],
   "source": [
    "# tuple of floats\n",
    "\n",
    "tup1=(1.2,2.3,3.4,4.5)\n",
    "print(tup1)"
   ]
  },
  {
   "cell_type": "code",
   "execution_count": 7,
   "id": "5b6752b7",
   "metadata": {},
   "outputs": [
    {
     "name": "stdout",
     "output_type": "stream",
     "text": [
      "(1, 'a', 'abc', 2.3)\n"
     ]
    }
   ],
   "source": [
    "# tuple of mix values\n",
    "\n",
    "tup1=(1,'a','abc',2.3)\n",
    "print(tup1)"
   ]
  },
  {
   "cell_type": "code",
   "execution_count": 12,
   "id": "9981c713",
   "metadata": {},
   "outputs": [
    {
     "name": "stdout",
     "output_type": "stream",
     "text": [
      "<class 'str'>\n"
     ]
    }
   ],
   "source": [
    "# tuple of \n",
    "\n",
    "tup=('a')\n",
    "print(type(tup))"
   ]
  },
  {
   "cell_type": "code",
   "execution_count": 15,
   "id": "9479fbfb",
   "metadata": {},
   "outputs": [
    {
     "name": "stdout",
     "output_type": "stream",
     "text": [
      "<class 'tuple'>\n"
     ]
    }
   ],
   "source": [
    "# we can make single element tuple with comma\n",
    "\n",
    "tup=('a',)\n",
    "print(type(tup))"
   ]
  },
  {
   "cell_type": "markdown",
   "id": "561b9c15",
   "metadata": {},
   "source": [
    "**Accessing values in tuple**"
   ]
  },
  {
   "cell_type": "code",
   "execution_count": 17,
   "id": "a5382876",
   "metadata": {},
   "outputs": [
    {
     "name": "stdout",
     "output_type": "stream",
     "text": [
      "tuple_1[3:6] = (4, 5, 6)\n",
      "tuple_1[:6] = (1, 2, 3, 4, 5, 6)\n",
      "tuple_1[4:] = (5, 6, 7, 8, 9, 10)\n",
      "tuple_1[:] = (1, 2, 3, 4, 5, 6, 7, 8, 9, 10)\n"
     ]
    }
   ],
   "source": [
    "\n",
    "\n",
    "tuple_1 = (1,2,3,4,5,6,7,8,9,10)\n",
    "\n",
    "print(f'tuple_1[3:6] = {tuple_1[3:6]}')\n",
    "print(f'tuple_1[:6] = {tuple_1[:6]}')\n",
    "print(f'tuple_1[4:] = {tuple_1[4:]}')\n",
    "print(f'tuple_1[:] = {tuple_1[:]}')"
   ]
  },
  {
   "cell_type": "markdown",
   "id": "67f932fc",
   "metadata": {},
   "source": [
    "**Updating tuple**"
   ]
  },
  {
   "cell_type": "code",
   "execution_count": 18,
   "id": "f7f5f4fc",
   "metadata": {},
   "outputs": [
    {
     "name": "stdout",
     "output_type": "stream",
     "text": [
      "(1, 2, 3, 4, 5, 6, 7, 8)\n"
     ]
    }
   ],
   "source": [
    "tup1 = (1,2,3,4)\n",
    "tup2 = (5,6,7,8)\n",
    "print(tup1+tup2)"
   ]
  },
  {
   "cell_type": "code",
   "execution_count": 19,
   "id": "6f4cb62f",
   "metadata": {},
   "outputs": [
    {
     "ename": "TypeError",
     "evalue": "'tuple' object doesn't support item deletion",
     "output_type": "error",
     "traceback": [
      "\u001b[1;31m---------------------------------------------------------------------------\u001b[0m",
      "\u001b[1;31mTypeError\u001b[0m                                 Traceback (most recent call last)",
      "Cell \u001b[1;32mIn[19], line 2\u001b[0m\n\u001b[0;32m      1\u001b[0m tup1 \u001b[38;5;241m=\u001b[39m (\u001b[38;5;241m1\u001b[39m,\u001b[38;5;241m2\u001b[39m,\u001b[38;5;241m3\u001b[39m,\u001b[38;5;241m4\u001b[39m)\n\u001b[1;32m----> 2\u001b[0m \u001b[38;5;28;01mdel\u001b[39;00m tup1[\u001b[38;5;241m2\u001b[39m]\n\u001b[0;32m      3\u001b[0m \u001b[38;5;28mprint\u001b[39m(tup1)\n",
      "\u001b[1;31mTypeError\u001b[0m: 'tuple' object doesn't support item deletion"
     ]
    }
   ],
   "source": [
    "# items in tuple is immutable\n",
    "\n",
    "tup1 = (1,2,3,4)\n",
    "del tup1[2]\n",
    "print(tup1)"
   ]
  },
  {
   "cell_type": "code",
   "execution_count": 20,
   "id": "4050c6f6",
   "metadata": {},
   "outputs": [
    {
     "ename": "NameError",
     "evalue": "name 'tup1' is not defined",
     "output_type": "error",
     "traceback": [
      "\u001b[1;31m---------------------------------------------------------------------------\u001b[0m",
      "\u001b[1;31mNameError\u001b[0m                                 Traceback (most recent call last)",
      "Cell \u001b[1;32mIn[20], line 5\u001b[0m\n\u001b[0;32m      3\u001b[0m tup1 \u001b[38;5;241m=\u001b[39m (\u001b[38;5;241m1\u001b[39m,\u001b[38;5;241m2\u001b[39m,\u001b[38;5;241m3\u001b[39m,\u001b[38;5;241m4\u001b[39m)\n\u001b[0;32m      4\u001b[0m \u001b[38;5;28;01mdel\u001b[39;00m tup1\n\u001b[1;32m----> 5\u001b[0m \u001b[38;5;28mprint\u001b[39m(\u001b[43mtup1\u001b[49m)\n",
      "\u001b[1;31mNameError\u001b[0m: name 'tup1' is not defined"
     ]
    }
   ],
   "source": [
    "# an entire tuple can be deleted\n",
    "\n",
    "tup1 = (1,2,3,4)\n",
    "del tup1\n",
    "print(tup1)"
   ]
  },
  {
   "cell_type": "markdown",
   "id": "031d727e",
   "metadata": {},
   "source": [
    "**Basic Tuple Operations**"
   ]
  },
  {
   "cell_type": "code",
   "execution_count": 22,
   "id": "dcdd2c2f",
   "metadata": {},
   "outputs": [
    {
     "data": {
      "text/plain": [
       "6"
      ]
     },
     "execution_count": 22,
     "metadata": {},
     "output_type": "execute_result"
    }
   ],
   "source": [
    "# Length\n",
    "\n",
    "a=(1,2,3,4,5,6)\n",
    "len(a)"
   ]
  },
  {
   "cell_type": "code",
   "execution_count": 23,
   "id": "caf0e374",
   "metadata": {},
   "outputs": [
    {
     "data": {
      "text/plain": [
       "(1, 2, 3, 4)"
      ]
     },
     "execution_count": 23,
     "metadata": {},
     "output_type": "execute_result"
    }
   ],
   "source": [
    "# Concatenation\n",
    "\n",
    "(1,2)+(3,4)"
   ]
  },
  {
   "cell_type": "code",
   "execution_count": 25,
   "id": "602fd1c7",
   "metadata": {},
   "outputs": [
    {
     "data": {
      "text/plain": [
       "'repeatition..repeatition..'"
      ]
     },
     "execution_count": 25,
     "metadata": {},
     "output_type": "execute_result"
    }
   ],
   "source": [
    "# Repetition\n",
    "\n",
    "('repetition..'*2)"
   ]
  },
  {
   "cell_type": "code",
   "execution_count": 26,
   "id": "9139b227",
   "metadata": {},
   "outputs": [
    {
     "data": {
      "text/plain": [
       "True"
      ]
     },
     "execution_count": 26,
     "metadata": {},
     "output_type": "execute_result"
    }
   ],
   "source": [
    "# membership\n",
    "\n",
    "5 in (1,2,3,4,5,6)"
   ]
  },
  {
   "cell_type": "code",
   "execution_count": 29,
   "id": "7d887f70",
   "metadata": {},
   "outputs": [
    {
     "name": "stdout",
     "output_type": "stream",
     "text": [
      "1 2 3 4 5 6 7 8 9 "
     ]
    }
   ],
   "source": [
    "# iteration\n",
    "\n",
    "for i in (1,2,3,4,5,6,7,8,9):\n",
    "    print(i,end=' ')"
   ]
  },
  {
   "cell_type": "code",
   "execution_count": 30,
   "id": "1dd3e61e",
   "metadata": {},
   "outputs": [
    {
     "name": "stdout",
     "output_type": "stream",
     "text": [
      "True\n"
     ]
    }
   ],
   "source": [
    "# comparision\n",
    "\n",
    "tup1 = (1,2)\n",
    "tup2 = (3,4)\n",
    "print(tup1<tup2)"
   ]
  },
  {
   "cell_type": "code",
   "execution_count": 31,
   "id": "e723f7fe",
   "metadata": {},
   "outputs": [
    {
     "data": {
      "text/plain": [
       "8"
      ]
     },
     "execution_count": 31,
     "metadata": {},
     "output_type": "execute_result"
    }
   ],
   "source": [
    "# maximum\n",
    "\n",
    "a = (8,6,4,5,3,7,2,1)\n",
    "max(a)"
   ]
  },
  {
   "cell_type": "code",
   "execution_count": 34,
   "id": "bab70615",
   "metadata": {},
   "outputs": [
    {
     "data": {
      "text/plain": [
       "1"
      ]
     },
     "execution_count": 34,
     "metadata": {},
     "output_type": "execute_result"
    }
   ],
   "source": [
    "# minimum\n",
    "\n",
    "a = (8,6,4,5,3,7,2,1)\n",
    "min(a)"
   ]
  },
  {
   "cell_type": "code",
   "execution_count": 2,
   "id": "fd2c36f6",
   "metadata": {
    "scrolled": true
   },
   "outputs": [
    {
     "name": "stdout",
     "output_type": "stream",
     "text": [
      "('H', 'e', 'l', 'l', 'o')\n",
      "(1, 2, 3, 4, 5, 6)\n"
     ]
    }
   ],
   "source": [
    "# convert a sequence to tuple\n",
    "\n",
    "hello = tuple('Hello')\n",
    "print(hello)\n",
    "\n",
    "num = tuple([1,2,3,4,5,6])\n",
    "print(num)"
   ]
  },
  {
   "cell_type": "code",
   "execution_count": null,
   "id": "d24b3999",
   "metadata": {},
   "outputs": [],
   "source": [
    "# "
   ]
  },
  {
   "cell_type": "code",
   "execution_count": null,
   "id": "33cbfdc7",
   "metadata": {},
   "outputs": [],
   "source": []
  },
  {
   "cell_type": "code",
   "execution_count": null,
   "id": "0763c52b",
   "metadata": {},
   "outputs": [],
   "source": []
  }
 ],
 "metadata": {
  "kernelspec": {
   "display_name": "Python 3 (ipykernel)",
   "language": "python",
   "name": "python3"
  },
  "language_info": {
   "codemirror_mode": {
    "name": "ipython",
    "version": 3
   },
   "file_extension": ".py",
   "mimetype": "text/x-python",
   "name": "python",
   "nbconvert_exporter": "python",
   "pygments_lexer": "ipython3",
   "version": "3.9.18"
  }
 },
 "nbformat": 4,
 "nbformat_minor": 5
}
