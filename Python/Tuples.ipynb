{
  "nbformat": 4,
  "nbformat_minor": 0,
  "metadata": {
    "colab": {
      "provenance": []
    },
    "kernelspec": {
      "name": "python3",
      "display_name": "Python 3"
    },
    "language_info": {
      "name": "python"
    }
  },
  "cells": [
    {
      "cell_type": "markdown",
      "metadata": {
        "id": "af018e6e"
      },
      "source": [
        "# **Tuple Manipulation**"
      ]
    },
    {
      "cell_type": "code",
      "execution_count": 1,
      "metadata": {
        "id": "c4e377a5",
        "outputId": "494d4777-e1ad-4ba1-a992-ec5235d26a69",
        "colab": {
          "base_uri": "https://localhost:8080/"
        }
      },
      "outputs": [
        {
          "output_type": "stream",
          "name": "stdout",
          "text": [
            "()\n"
          ]
        }
      ],
      "source": [
        "tup1=()\n",
        "print(tup1)"
      ]
    },
    {
      "cell_type": "code",
      "execution_count": 2,
      "metadata": {
        "id": "9826cfec",
        "outputId": "685896fd-fd96-4391-f87e-3843b0a2d11e",
        "colab": {
          "base_uri": "https://localhost:8080/"
        }
      },
      "outputs": [
        {
          "output_type": "stream",
          "name": "stdout",
          "text": [
            "5\n"
          ]
        }
      ],
      "source": [
        "# tuple of single element\n",
        "\n",
        "tup1 = (5)\n",
        "print(tup1)"
      ]
    },
    {
      "cell_type": "code",
      "execution_count": 3,
      "metadata": {
        "id": "f54d041d",
        "outputId": "0f8c512a-2103-4873-dd75-d4bfb5350275",
        "colab": {
          "base_uri": "https://localhost:8080/"
        }
      },
      "outputs": [
        {
          "output_type": "stream",
          "name": "stdout",
          "text": [
            "(1, 2, 3, 4)\n"
          ]
        }
      ],
      "source": [
        "# tuple of integers\n",
        "\n",
        "tup1=(1,2,3,4)\n",
        "print(tup1)"
      ]
    },
    {
      "cell_type": "code",
      "execution_count": 4,
      "metadata": {
        "id": "c05c7d15",
        "outputId": "fad5fcf4-6b7e-4234-b1b6-f51c9d699e3b",
        "colab": {
          "base_uri": "https://localhost:8080/"
        }
      },
      "outputs": [
        {
          "output_type": "stream",
          "name": "stdout",
          "text": [
            "('a', 'b', 'c', 'd')\n"
          ]
        }
      ],
      "source": [
        "# tuple of characters\n",
        "\n",
        "tup1=('a','b','c','d')\n",
        "print(tup1)"
      ]
    },
    {
      "cell_type": "code",
      "execution_count": 5,
      "metadata": {
        "id": "b4a0f38a",
        "outputId": "115a1194-76b1-46e0-9d9b-be946b563490",
        "colab": {
          "base_uri": "https://localhost:8080/"
        }
      },
      "outputs": [
        {
          "output_type": "stream",
          "name": "stdout",
          "text": [
            "('abc', 'def', 'ghi')\n"
          ]
        }
      ],
      "source": [
        "# tuple of words\n",
        "\n",
        "tup1=('abc','def','ghi')\n",
        "print(tup1)"
      ]
    },
    {
      "cell_type": "code",
      "execution_count": 6,
      "metadata": {
        "id": "b2a00ef8",
        "outputId": "bd425065-176b-4c42-b65a-0af16fc2dc3e",
        "colab": {
          "base_uri": "https://localhost:8080/"
        }
      },
      "outputs": [
        {
          "output_type": "stream",
          "name": "stdout",
          "text": [
            "(1.2, 2.3, 3.4, 4.5)\n"
          ]
        }
      ],
      "source": [
        "# tuple of floats\n",
        "\n",
        "tup1=(1.2,2.3,3.4,4.5)\n",
        "print(tup1)"
      ]
    },
    {
      "cell_type": "code",
      "execution_count": 7,
      "metadata": {
        "id": "5b6752b7",
        "outputId": "7051aa02-248d-43d6-f40a-8673b44ce6af",
        "colab": {
          "base_uri": "https://localhost:8080/"
        }
      },
      "outputs": [
        {
          "output_type": "stream",
          "name": "stdout",
          "text": [
            "(1, 'a', 'abc', 2.3)\n"
          ]
        }
      ],
      "source": [
        "# tuple of mix values\n",
        "\n",
        "tup1=(1,'a','abc',2.3)\n",
        "print(tup1)"
      ]
    },
    {
      "cell_type": "code",
      "execution_count": 8,
      "metadata": {
        "id": "9981c713",
        "outputId": "ec97d605-5e4f-4b63-a11e-3d9cc6cd862f",
        "colab": {
          "base_uri": "https://localhost:8080/"
        }
      },
      "outputs": [
        {
          "output_type": "stream",
          "name": "stdout",
          "text": [
            "<class 'str'>\n"
          ]
        }
      ],
      "source": [
        "# tuple of\n",
        "\n",
        "tup=('a')\n",
        "print(type(tup))"
      ]
    },
    {
      "cell_type": "code",
      "execution_count": 9,
      "metadata": {
        "id": "9479fbfb",
        "outputId": "d0ae59ca-42fd-4ade-af44-a7677ee9db64",
        "colab": {
          "base_uri": "https://localhost:8080/"
        }
      },
      "outputs": [
        {
          "output_type": "stream",
          "name": "stdout",
          "text": [
            "<class 'tuple'>\n"
          ]
        }
      ],
      "source": [
        "# we can make single element tuple with comma\n",
        "\n",
        "tup=('a',)\n",
        "print(type(tup))"
      ]
    },
    {
      "cell_type": "markdown",
      "metadata": {
        "id": "561b9c15"
      },
      "source": [
        "**Accessing values in tuple**"
      ]
    },
    {
      "cell_type": "code",
      "execution_count": 10,
      "metadata": {
        "id": "a5382876",
        "outputId": "1f63379f-2756-4e8b-cbe7-8709abcca22f",
        "colab": {
          "base_uri": "https://localhost:8080/"
        }
      },
      "outputs": [
        {
          "output_type": "stream",
          "name": "stdout",
          "text": [
            "tuple_1[3:6] = (4, 5, 6)\n",
            "tuple_1[:6] = (1, 2, 3, 4, 5, 6)\n",
            "tuple_1[4:] = (5, 6, 7, 8, 9, 10)\n",
            "tuple_1[:] = (1, 2, 3, 4, 5, 6, 7, 8, 9, 10)\n"
          ]
        }
      ],
      "source": [
        "\n",
        "\n",
        "tuple_1 = (1,2,3,4,5,6,7,8,9,10)\n",
        "\n",
        "print(f'tuple_1[3:6] = {tuple_1[3:6]}')\n",
        "print(f'tuple_1[:6] = {tuple_1[:6]}')\n",
        "print(f'tuple_1[4:] = {tuple_1[4:]}')\n",
        "print(f'tuple_1[:] = {tuple_1[:]}')"
      ]
    },
    {
      "cell_type": "markdown",
      "metadata": {
        "id": "67f932fc"
      },
      "source": [
        "**Updating tuple**"
      ]
    },
    {
      "cell_type": "code",
      "execution_count": 11,
      "metadata": {
        "id": "f7f5f4fc",
        "outputId": "d8117fd5-43de-4694-80bb-62f2ce1a4a42",
        "colab": {
          "base_uri": "https://localhost:8080/"
        }
      },
      "outputs": [
        {
          "output_type": "stream",
          "name": "stdout",
          "text": [
            "(1, 2, 3, 4, 5, 6, 7, 8)\n"
          ]
        }
      ],
      "source": [
        "tup1 = (1,2,3,4)\n",
        "tup2 = (5,6,7,8)\n",
        "print(tup1+tup2)"
      ]
    },
    {
      "cell_type": "code",
      "execution_count": 12,
      "metadata": {
        "id": "6f4cb62f",
        "outputId": "3f8d279e-0208-453f-f877-df8950bfea41",
        "colab": {
          "base_uri": "https://localhost:8080/",
          "height": 193
        }
      },
      "outputs": [
        {
          "output_type": "error",
          "ename": "TypeError",
          "evalue": "'tuple' object doesn't support item deletion",
          "traceback": [
            "\u001b[0;31m---------------------------------------------------------------------------\u001b[0m",
            "\u001b[0;31mTypeError\u001b[0m                                 Traceback (most recent call last)",
            "\u001b[0;32m<ipython-input-12-7dcc5a91790c>\u001b[0m in \u001b[0;36m<cell line: 4>\u001b[0;34m()\u001b[0m\n\u001b[1;32m      2\u001b[0m \u001b[0;34m\u001b[0m\u001b[0m\n\u001b[1;32m      3\u001b[0m \u001b[0mtup1\u001b[0m \u001b[0;34m=\u001b[0m \u001b[0;34m(\u001b[0m\u001b[0;36m1\u001b[0m\u001b[0;34m,\u001b[0m\u001b[0;36m2\u001b[0m\u001b[0;34m,\u001b[0m\u001b[0;36m3\u001b[0m\u001b[0;34m,\u001b[0m\u001b[0;36m4\u001b[0m\u001b[0;34m)\u001b[0m\u001b[0;34m\u001b[0m\u001b[0;34m\u001b[0m\u001b[0m\n\u001b[0;32m----> 4\u001b[0;31m \u001b[0;32mdel\u001b[0m \u001b[0mtup1\u001b[0m\u001b[0;34m[\u001b[0m\u001b[0;36m2\u001b[0m\u001b[0;34m]\u001b[0m\u001b[0;34m\u001b[0m\u001b[0;34m\u001b[0m\u001b[0m\n\u001b[0m\u001b[1;32m      5\u001b[0m \u001b[0mprint\u001b[0m\u001b[0;34m(\u001b[0m\u001b[0mtup1\u001b[0m\u001b[0;34m)\u001b[0m\u001b[0;34m\u001b[0m\u001b[0;34m\u001b[0m\u001b[0m\n",
            "\u001b[0;31mTypeError\u001b[0m: 'tuple' object doesn't support item deletion"
          ]
        }
      ],
      "source": [
        "# items in tuple is immutable\n",
        "\n",
        "tup1 = (1,2,3,4)\n",
        "del tup1[2]\n",
        "print(tup1)"
      ]
    },
    {
      "cell_type": "code",
      "execution_count": null,
      "metadata": {
        "id": "4050c6f6"
      },
      "outputs": [],
      "source": [
        "# an entire tuple can be deleted\n",
        "\n",
        "tup1 = (1,2,3,4)\n",
        "del tup1\n",
        "print(tup1)"
      ]
    },
    {
      "cell_type": "markdown",
      "metadata": {
        "id": "031d727e"
      },
      "source": [
        "**Basic Tuple Operations**"
      ]
    },
    {
      "cell_type": "code",
      "execution_count": 13,
      "metadata": {
        "id": "dcdd2c2f",
        "outputId": "f0d171bb-2789-4fe7-83e9-1d95dc0d0a36",
        "colab": {
          "base_uri": "https://localhost:8080/"
        }
      },
      "outputs": [
        {
          "output_type": "execute_result",
          "data": {
            "text/plain": [
              "6"
            ]
          },
          "metadata": {},
          "execution_count": 13
        }
      ],
      "source": [
        "# Length\n",
        "\n",
        "a=(1,2,3,4,5,6)\n",
        "len(a)"
      ]
    },
    {
      "cell_type": "code",
      "execution_count": 14,
      "metadata": {
        "id": "caf0e374",
        "outputId": "f439765f-0703-4de1-f4b5-1f79c7ad99fd",
        "colab": {
          "base_uri": "https://localhost:8080/"
        }
      },
      "outputs": [
        {
          "output_type": "execute_result",
          "data": {
            "text/plain": [
              "(1, 2, 3, 4)"
            ]
          },
          "metadata": {},
          "execution_count": 14
        }
      ],
      "source": [
        "# Concatenation\n",
        "\n",
        "(1,2)+(3,4)"
      ]
    },
    {
      "cell_type": "code",
      "execution_count": 15,
      "metadata": {
        "id": "602fd1c7",
        "outputId": "6a782804-dfc1-48ea-f780-0371c2f3e409",
        "colab": {
          "base_uri": "https://localhost:8080/",
          "height": 35
        }
      },
      "outputs": [
        {
          "output_type": "execute_result",
          "data": {
            "text/plain": [
              "'repetition..repetition..'"
            ],
            "application/vnd.google.colaboratory.intrinsic+json": {
              "type": "string"
            }
          },
          "metadata": {},
          "execution_count": 15
        }
      ],
      "source": [
        "# Repetition\n",
        "\n",
        "('repetition..'*2)"
      ]
    },
    {
      "cell_type": "code",
      "execution_count": 16,
      "metadata": {
        "id": "9139b227",
        "outputId": "08757e2b-5160-4fd5-b673-611b3f84232e",
        "colab": {
          "base_uri": "https://localhost:8080/"
        }
      },
      "outputs": [
        {
          "output_type": "execute_result",
          "data": {
            "text/plain": [
              "True"
            ]
          },
          "metadata": {},
          "execution_count": 16
        }
      ],
      "source": [
        "# membership\n",
        "\n",
        "5 in (1,2,3,4,5,6)"
      ]
    },
    {
      "cell_type": "code",
      "execution_count": 17,
      "metadata": {
        "id": "7d887f70",
        "outputId": "3afce30b-ef26-4219-eaef-e795cae14731",
        "colab": {
          "base_uri": "https://localhost:8080/"
        }
      },
      "outputs": [
        {
          "output_type": "stream",
          "name": "stdout",
          "text": [
            "1 2 3 4 5 6 7 8 9 "
          ]
        }
      ],
      "source": [
        "# iteration\n",
        "\n",
        "for i in (1,2,3,4,5,6,7,8,9):\n",
        "    print(i,end=' ')"
      ]
    },
    {
      "cell_type": "code",
      "execution_count": 18,
      "metadata": {
        "id": "1dd3e61e",
        "outputId": "7380ec79-02fd-4ba7-d440-bf7f1aa0cda6",
        "colab": {
          "base_uri": "https://localhost:8080/"
        }
      },
      "outputs": [
        {
          "output_type": "stream",
          "name": "stdout",
          "text": [
            "True\n"
          ]
        }
      ],
      "source": [
        "# comparision\n",
        "\n",
        "tup1 = (1,2)\n",
        "tup2 = (3,4)\n",
        "print(tup1<tup2)"
      ]
    },
    {
      "cell_type": "code",
      "execution_count": 19,
      "metadata": {
        "id": "e723f7fe",
        "outputId": "d21798ca-cc3a-423c-d74c-02c3f1ea1885",
        "colab": {
          "base_uri": "https://localhost:8080/"
        }
      },
      "outputs": [
        {
          "output_type": "execute_result",
          "data": {
            "text/plain": [
              "8"
            ]
          },
          "metadata": {},
          "execution_count": 19
        }
      ],
      "source": [
        "# maximum\n",
        "\n",
        "a = (8,6,4,5,3,7,2,1)\n",
        "max(a)"
      ]
    },
    {
      "cell_type": "code",
      "execution_count": 20,
      "metadata": {
        "id": "bab70615",
        "outputId": "9c3c6947-6b3e-417e-f116-90e2a3d995a8",
        "colab": {
          "base_uri": "https://localhost:8080/"
        }
      },
      "outputs": [
        {
          "output_type": "execute_result",
          "data": {
            "text/plain": [
              "1"
            ]
          },
          "metadata": {},
          "execution_count": 20
        }
      ],
      "source": [
        "# minimum\n",
        "\n",
        "a = (8,6,4,5,3,7,2,1)\n",
        "min(a)"
      ]
    },
    {
      "cell_type": "code",
      "execution_count": 21,
      "metadata": {
        "scrolled": true,
        "id": "fd2c36f6",
        "outputId": "07510752-8317-4a1b-cf95-270310e285f9",
        "colab": {
          "base_uri": "https://localhost:8080/"
        }
      },
      "outputs": [
        {
          "output_type": "stream",
          "name": "stdout",
          "text": [
            "('H', 'e', 'l', 'l', 'o')\n",
            "(1, 2, 3, 4, 5, 6)\n"
          ]
        }
      ],
      "source": [
        "# convert a sequence to tuple\n",
        "\n",
        "hello = tuple('Hello')\n",
        "print(hello)\n",
        "\n",
        "num = tuple([1,2,3,4,5,6])\n",
        "print(num)"
      ]
    },
    {
      "cell_type": "markdown",
      "source": [
        "index() method"
      ],
      "metadata": {
        "id": "lmqCR7U11ysd"
      }
    },
    {
      "cell_type": "code",
      "source": [
        "Tup = (1,2,3,4,5,6,7,8)\n",
        "print(Tup.index(3))"
      ],
      "metadata": {
        "colab": {
          "base_uri": "https://localhost:8080/"
        },
        "id": "KFsjt11cwmrG",
        "outputId": "e0afc889-d30e-44af-f017-499207303610"
      },
      "execution_count": 22,
      "outputs": [
        {
          "output_type": "stream",
          "name": "stdout",
          "text": [
            "2\n"
          ]
        }
      ]
    },
    {
      "cell_type": "markdown",
      "source": [
        "count() method"
      ],
      "metadata": {
        "id": "perz1DqB12z9"
      }
    },
    {
      "cell_type": "code",
      "source": [
        "tup = 'ajkdhfhadskfhkadhf'\n",
        "\n",
        "print(f'a appears {tup.count(\"a\")} times in {tup}')"
      ],
      "metadata": {
        "colab": {
          "base_uri": "https://localhost:8080/"
        },
        "id": "oMH8nbfOwnh9",
        "outputId": "465b1ae2-d4fc-4033-e4e4-f6db33bdf1a4"
      },
      "execution_count": 23,
      "outputs": [
        {
          "output_type": "stream",
          "name": "stdout",
          "text": [
            "a appears 3 times in ajkdhfhadskfhkadhf\n"
          ]
        }
      ]
    },
    {
      "cell_type": "markdown",
      "source": [
        "zip() function"
      ],
      "metadata": {
        "id": "qXSUv-201qcm"
      }
    },
    {
      "cell_type": "code",
      "source": [
        "Tup = (1,2,3)\n",
        "list1 = ['a','b','c']\n",
        "print(list(zip(Tup,list1)))"
      ],
      "metadata": {
        "colab": {
          "base_uri": "https://localhost:8080/"
        },
        "id": "tc-Vh0wXwnoP",
        "outputId": "ff00f404-ff39-4ba1-ba92-4bab29c34ffd"
      },
      "execution_count": 24,
      "outputs": [
        {
          "output_type": "stream",
          "name": "stdout",
          "text": [
            "[(1, 'a'), (2, 'b'), (3, 'c')]\n"
          ]
        }
      ]
    },
    {
      "cell_type": "code",
      "source": [
        "Tup = (9,7,8,5,1,4,6,2,3,10)\n",
        "print(sorted(Tup))"
      ],
      "metadata": {
        "colab": {
          "base_uri": "https://localhost:8080/"
        },
        "id": "CfgRlLW0wntl",
        "outputId": "45fd44c7-b611-4194-ce5f-dfc581a1e9f8"
      },
      "execution_count": 25,
      "outputs": [
        {
          "output_type": "stream",
          "name": "stdout",
          "text": [
            "[1, 2, 3, 4, 5, 6, 7, 8, 9, 10]\n"
          ]
        }
      ]
    }
  ]
}