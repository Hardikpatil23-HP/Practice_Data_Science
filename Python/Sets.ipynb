{
  "nbformat": 4,
  "nbformat_minor": 0,
  "metadata": {
    "colab": {
      "provenance": []
    },
    "kernelspec": {
      "name": "python3",
      "display_name": "Python 3"
    },
    "language_info": {
      "name": "python"
    }
  },
  "cells": [
    {
      "cell_type": "markdown",
      "source": [
        "#**Sets Manipulation**"
      ],
      "metadata": {
        "id": "krnW10TJ8G5c"
      }
    },
    {
      "cell_type": "markdown",
      "source": [
        "set is a mutable and unordered collection of items with no duplicate entries."
      ],
      "metadata": {
        "id": "4zM7-Edu8elC"
      }
    },
    {
      "cell_type": "code",
      "source": [
        "s = {1,2.0,\"var\"}\n",
        "print(s)\n",
        "print(type(s))"
      ],
      "metadata": {
        "colab": {
          "base_uri": "https://localhost:8080/"
        },
        "id": "k2rH-cVj8eYT",
        "outputId": "32828ce8-5137-4098-97c7-b856c8b49573"
      },
      "execution_count": 1,
      "outputs": [
        {
          "output_type": "stream",
          "name": "stdout",
          "text": [
            "{1, 2.0, 'var'}\n",
            "<class 'set'>\n"
          ]
        }
      ]
    },
    {
      "cell_type": "code",
      "execution_count": 2,
      "metadata": {
        "colab": {
          "base_uri": "https://localhost:8080/"
        },
        "id": "3vas_7sy8EgG",
        "outputId": "74dc2577-18d0-4fa2-b37d-fb829a4ad978"
      },
      "outputs": [
        {
          "output_type": "stream",
          "name": "stdout",
          "text": [
            "{1, 2, 2.1, 'abc'}\n"
          ]
        }
      ],
      "source": [
        "# here set removes similar values\n",
        "\n",
        "s={1,2,2.0,2.1,'abc'}\n",
        "print(s)"
      ]
    },
    {
      "cell_type": "code",
      "source": [
        "# list to set conversion\n",
        "list1=[1,2,'abc']\n",
        "s=set(list1)\n",
        "print(s)"
      ],
      "metadata": {
        "colab": {
          "base_uri": "https://localhost:8080/"
        },
        "id": "uQZjbApo99-5",
        "outputId": "3de9e17c-2aca-4df1-a83d-99066c3f9b48"
      },
      "execution_count": 3,
      "outputs": [
        {
          "output_type": "stream",
          "name": "stdout",
          "text": [
            "{1, 2, 'abc'}\n"
          ]
        }
      ]
    },
    {
      "cell_type": "code",
      "source": [
        "# tuple to set conversion\n",
        "\n",
        "tup = (1,2,3,'xyz')\n",
        "s=set(tup)\n",
        "print(s)"
      ],
      "metadata": {
        "colab": {
          "base_uri": "https://localhost:8080/"
        },
        "id": "NFUuVDL8-LMv",
        "outputId": "37371678-43dd-4e9e-bab5-6b0043898185"
      },
      "execution_count": 4,
      "outputs": [
        {
          "output_type": "stream",
          "name": "stdout",
          "text": [
            "{1, 2, 3, 'xyz'}\n"
          ]
        }
      ]
    },
    {
      "cell_type": "markdown",
      "source": [
        "**Set operations**"
      ],
      "metadata": {
        "id": "8_x6IdJA_2IE"
      }
    },
    {
      "cell_type": "code",
      "source": [
        "# s.update(t)\n",
        "s = {1,2,3,4,5}\n",
        "t = {6,7,8}\n",
        "s.update(t)\n",
        "print(s)"
      ],
      "metadata": {
        "colab": {
          "base_uri": "https://localhost:8080/"
        },
        "id": "g07QAO2e-LUv",
        "outputId": "e6d504fe-ed16-43ba-e151-b86e7f059075"
      },
      "execution_count": 5,
      "outputs": [
        {
          "output_type": "stream",
          "name": "stdout",
          "text": [
            "{1, 2, 3, 4, 5, 6, 7, 8}\n"
          ]
        }
      ]
    },
    {
      "cell_type": "code",
      "source": [
        "# s.add(x)\n",
        "s = {1,2,3,4,5}\n",
        "s.add(6)\n",
        "print(s)"
      ],
      "metadata": {
        "colab": {
          "base_uri": "https://localhost:8080/"
        },
        "id": "WA5Tg9C9-LY_",
        "outputId": "d65df135-fc5d-427b-d3a5-ca319087f9fe"
      },
      "execution_count": 6,
      "outputs": [
        {
          "output_type": "stream",
          "name": "stdout",
          "text": [
            "{1, 2, 3, 4, 5, 6}\n"
          ]
        }
      ]
    },
    {
      "cell_type": "code",
      "source": [
        "# s.remove(x) .... if item is not present in set gives keyerror\n",
        "s = {1,2,3,4,5}\n",
        "s.remove(5)\n",
        "print(s)"
      ],
      "metadata": {
        "colab": {
          "base_uri": "https://localhost:8080/"
        },
        "id": "msLBcn52-LcW",
        "outputId": "4d2fc29e-37cb-4e01-a776-d8b78347a87d"
      },
      "execution_count": 7,
      "outputs": [
        {
          "output_type": "stream",
          "name": "stdout",
          "text": [
            "{1, 2, 3, 4}\n"
          ]
        }
      ]
    },
    {
      "cell_type": "code",
      "source": [
        "# discard(x) .... if item is not present in set gives no errors\n",
        "s = {1,2,3,4,5}\n",
        "s.discard(5)\n",
        "print(s)"
      ],
      "metadata": {
        "colab": {
          "base_uri": "https://localhost:8080/"
        },
        "id": "VEi9XQdU-LhC",
        "outputId": "45117d8b-2ca9-45ac-e877-cb7663daa5a3"
      },
      "execution_count": 8,
      "outputs": [
        {
          "output_type": "stream",
          "name": "stdout",
          "text": [
            "{1, 2, 3, 4}\n"
          ]
        }
      ]
    },
    {
      "cell_type": "code",
      "source": [
        "# pop() .... if set is empty gives error , set.pop() takes no arguments\n",
        "s = {1,2,3,4,5}\n",
        "s.pop()\n",
        "print(s)"
      ],
      "metadata": {
        "colab": {
          "base_uri": "https://localhost:8080/"
        },
        "id": "5KaEWd_M-Ln7",
        "outputId": "f272f43c-b0a4-4409-8c1b-5eb48a2d1866"
      },
      "execution_count": 9,
      "outputs": [
        {
          "output_type": "stream",
          "name": "stdout",
          "text": [
            "{2, 3, 4, 5}\n"
          ]
        }
      ]
    },
    {
      "cell_type": "code",
      "source": [
        "# s.clear()\n",
        "s = {1,2,3,4,5}\n",
        "s.clear()\n",
        "print(s)"
      ],
      "metadata": {
        "colab": {
          "base_uri": "https://localhost:8080/"
        },
        "id": "fHxU_Yd0-Lqz",
        "outputId": "fd521dbc-cd3e-4791-c5d3-6ce9ee885316"
      },
      "execution_count": 10,
      "outputs": [
        {
          "output_type": "stream",
          "name": "stdout",
          "text": [
            "set()\n"
          ]
        }
      ]
    },
    {
      "cell_type": "code",
      "source": [
        "# len(s)\n",
        "s = {1,2,3,4,5}\n",
        "len(s)"
      ],
      "metadata": {
        "colab": {
          "base_uri": "https://localhost:8080/"
        },
        "id": "tRU3lxdc-Lwo",
        "outputId": "734ae26c-74ab-4513-82ec-e62224d39f0b"
      },
      "execution_count": 11,
      "outputs": [
        {
          "output_type": "execute_result",
          "data": {
            "text/plain": [
              "5"
            ]
          },
          "metadata": {},
          "execution_count": 11
        }
      ]
    },
    {
      "cell_type": "code",
      "source": [
        "# x in s\n",
        "s = {1,2,3,4,5}\n",
        "print(3 in s)"
      ],
      "metadata": {
        "id": "9fGq5bFYB9Wa",
        "colab": {
          "base_uri": "https://localhost:8080/"
        },
        "outputId": "672e42d5-de32-4db7-dd65-d7a9f9989b60"
      },
      "execution_count": 12,
      "outputs": [
        {
          "output_type": "stream",
          "name": "stdout",
          "text": [
            "True\n"
          ]
        }
      ]
    },
    {
      "cell_type": "code",
      "source": [
        "# # x not in s\n",
        "s = {1,2,3,4,5}\n",
        "print(6 not in s)"
      ],
      "metadata": {
        "colab": {
          "base_uri": "https://localhost:8080/"
        },
        "id": "XG_igtgawuGM",
        "outputId": "011cdc07-d685-47e2-a7d6-c267b474d2c1"
      },
      "execution_count": 13,
      "outputs": [
        {
          "output_type": "stream",
          "name": "stdout",
          "text": [
            "True\n"
          ]
        }
      ]
    },
    {
      "cell_type": "code",
      "source": [
        "# s.issubset(t) or s<=t\n",
        "s = {1,2,3,4,5}\n",
        "t = {1,2,3,4,5,6,7,8,9}\n",
        "print(s<=t)"
      ],
      "metadata": {
        "colab": {
          "base_uri": "https://localhost:8080/"
        },
        "id": "GpcZHZEmw0Lj",
        "outputId": "e76a4095-77ac-4f5b-bde3-6f9ae241d0ff"
      },
      "execution_count": 14,
      "outputs": [
        {
          "output_type": "stream",
          "name": "stdout",
          "text": [
            "True\n"
          ]
        }
      ]
    },
    {
      "cell_type": "code",
      "source": [
        "# s.issuperset(t) or s>=t\n",
        "s = {1,2,3,4,5,6,7,8,9}\n",
        "t = {1,2,3,4,5}\n",
        "print(s>=t)"
      ],
      "metadata": {
        "colab": {
          "base_uri": "https://localhost:8080/"
        },
        "id": "9m2SreV_xJva",
        "outputId": "bcb05c4a-8b39-4402-97b5-fbd8777ed2a4"
      },
      "execution_count": 15,
      "outputs": [
        {
          "output_type": "stream",
          "name": "stdout",
          "text": [
            "True\n"
          ]
        }
      ]
    },
    {
      "cell_type": "code",
      "source": [
        "# s.union(t) or s|t\n",
        "s = {1,2,3,4,5}\n",
        "t = {1,2,3,4,5,6,7,8,9}\n",
        "print(s|t)"
      ],
      "metadata": {
        "colab": {
          "base_uri": "https://localhost:8080/"
        },
        "id": "GGGAWb_yxSki",
        "outputId": "9af1553a-58cd-465b-e5ce-563ebb54702e"
      },
      "execution_count": 16,
      "outputs": [
        {
          "output_type": "stream",
          "name": "stdout",
          "text": [
            "{1, 2, 3, 4, 5, 6, 7, 8, 9}\n"
          ]
        }
      ]
    },
    {
      "cell_type": "code",
      "source": [
        "# s.intersection(t) or s&t\n",
        "s = {1,2,3,4,5}\n",
        "t = {1,2,3,4,5,6,7,8,9}\n",
        "print(s&t)"
      ],
      "metadata": {
        "colab": {
          "base_uri": "https://localhost:8080/"
        },
        "id": "f2Km_ZX8xmLK",
        "outputId": "eb57230b-ec6f-4fe2-a2a5-52fc44806143"
      },
      "execution_count": 17,
      "outputs": [
        {
          "output_type": "stream",
          "name": "stdout",
          "text": [
            "{1, 2, 3, 4, 5}\n"
          ]
        }
      ]
    },
    {
      "cell_type": "code",
      "source": [
        "# s.intersection(t) or s&t\n",
        "s = {2,4,6,8,10}\n",
        "t = {1,2,3,4,5,6,7,8,9,10}\n",
        "s.intersection_update(t)\n",
        "print(s)"
      ],
      "metadata": {
        "colab": {
          "base_uri": "https://localhost:8080/"
        },
        "id": "sHPyM8oLxurY",
        "outputId": "ac5215b0-093c-4772-fbb0-ea808404fc1d"
      },
      "execution_count": 18,
      "outputs": [
        {
          "output_type": "stream",
          "name": "stdout",
          "text": [
            "{2, 4, 6, 8, 10}\n"
          ]
        }
      ]
    },
    {
      "cell_type": "code",
      "source": [
        "# s.difference(t) or s-t\n",
        "\n",
        "s = {2,4,6,8,10,12,14}\n",
        "t = {1,2,3,4,5,6,7,8,9,10}\n",
        "z=s-t\n",
        "print(z)"
      ],
      "metadata": {
        "colab": {
          "base_uri": "https://localhost:8080/"
        },
        "id": "0lYGSEv-x_mR",
        "outputId": "98f249cb-611a-44db-f6e1-8be3ba31242c"
      },
      "execution_count": 19,
      "outputs": [
        {
          "output_type": "stream",
          "name": "stdout",
          "text": [
            "{12, 14}\n"
          ]
        }
      ]
    },
    {
      "cell_type": "code",
      "source": [
        "# s.symmetric_difference(t) or s^t\n",
        "\n",
        "s = {2,4,6,8,10,12,14}\n",
        "t = {1,2,3,4,5,6,7,8,9,10}\n",
        "z=s^t\n",
        "print(z)"
      ],
      "metadata": {
        "colab": {
          "base_uri": "https://localhost:8080/"
        },
        "id": "aN23tGfIyKhg",
        "outputId": "e3174cf3-26f6-4801-a55a-b36f5d86619a"
      },
      "execution_count": 20,
      "outputs": [
        {
          "output_type": "stream",
          "name": "stdout",
          "text": [
            "{1, 3, 5, 7, 9, 12, 14}\n"
          ]
        }
      ]
    },
    {
      "cell_type": "code",
      "source": [
        "# s.copy()\n",
        "\n",
        "s = {2,4,6,8,10,12,14}\n",
        "t = {1,2,3,4,5,6,7,8,9,10}\n",
        "\n",
        "print(s.copy())"
      ],
      "metadata": {
        "colab": {
          "base_uri": "https://localhost:8080/"
        },
        "id": "8SH3iNrrylFg",
        "outputId": "10c2a0ac-29fb-4a16-d2db-28cc963968b7"
      },
      "execution_count": 21,
      "outputs": [
        {
          "output_type": "stream",
          "name": "stdout",
          "text": [
            "{2, 4, 6, 8, 10, 12, 14}\n"
          ]
        }
      ]
    },
    {
      "cell_type": "code",
      "source": [
        "# s.isdisjoint(t)\n",
        "\n",
        "s = {1,2,3}\n",
        "t = {4,5,6}\n",
        "\n",
        "print(s.isdisjoint(t))"
      ],
      "metadata": {
        "colab": {
          "base_uri": "https://localhost:8080/"
        },
        "id": "QwtikCAnywrP",
        "outputId": "6f441899-4b77-484f-dd45-e8e2d788c669"
      },
      "execution_count": 22,
      "outputs": [
        {
          "output_type": "stream",
          "name": "stdout",
          "text": [
            "True\n"
          ]
        }
      ]
    },
    {
      "cell_type": "code",
      "source": [
        "# all(s)\n",
        "\n",
        "s = {0,1,2,3,4}\n",
        "print(all(s))"
      ],
      "metadata": {
        "colab": {
          "base_uri": "https://localhost:8080/"
        },
        "id": "ftOnLUSYzEVn",
        "outputId": "614a4816-3f9e-4923-bcad-ea4fd0750458"
      },
      "execution_count": 23,
      "outputs": [
        {
          "output_type": "stream",
          "name": "stdout",
          "text": [
            "False\n"
          ]
        }
      ]
    },
    {
      "cell_type": "code",
      "source": [
        "# any(s)\n",
        "\n",
        "s = {0,1,2,3,4}\n",
        "print(any(s))"
      ],
      "metadata": {
        "colab": {
          "base_uri": "https://localhost:8080/"
        },
        "id": "qPAoab1fzQD3",
        "outputId": "60f266b9-63f7-43bc-f8aa-2065ca447501"
      },
      "execution_count": 24,
      "outputs": [
        {
          "output_type": "stream",
          "name": "stdout",
          "text": [
            "True\n"
          ]
        }
      ]
    },
    {
      "cell_type": "code",
      "source": [
        "# enumerate(s)\n",
        "\n",
        "s = {'a','b','c','d','e','f'}\n",
        "for i in enumerate(s):\n",
        "  print(i,end='')"
      ],
      "metadata": {
        "colab": {
          "base_uri": "https://localhost:8080/"
        },
        "id": "BaTZXOxUzW2m",
        "outputId": "3cf4b8fe-c240-496d-dd00-8312bdf59c6e"
      },
      "execution_count": 25,
      "outputs": [
        {
          "output_type": "stream",
          "name": "stdout",
          "text": [
            "(0, 'a')(1, 'f')(2, 'e')(3, 'b')(4, 'd')(5, 'c')"
          ]
        }
      ]
    },
    {
      "cell_type": "code",
      "source": [
        "# max(s)\n",
        "\n",
        "s = {0,1,2,3,4}\n",
        "print(max(s))"
      ],
      "metadata": {
        "colab": {
          "base_uri": "https://localhost:8080/"
        },
        "id": "-tPkfna5zqpW",
        "outputId": "de7dfa48-14c2-4ce2-814c-203cc814dd5d"
      },
      "execution_count": 26,
      "outputs": [
        {
          "output_type": "stream",
          "name": "stdout",
          "text": [
            "4\n"
          ]
        }
      ]
    },
    {
      "cell_type": "code",
      "source": [
        "# min(s)\n",
        "\n",
        "s = {0,1,2,3,4}\n",
        "print(min(s))"
      ],
      "metadata": {
        "colab": {
          "base_uri": "https://localhost:8080/"
        },
        "id": "_pRS6NI4z0Wl",
        "outputId": "32591bdb-c2fe-4879-8dc8-1c6d79652e56"
      },
      "execution_count": 27,
      "outputs": [
        {
          "output_type": "stream",
          "name": "stdout",
          "text": [
            "0\n"
          ]
        }
      ]
    },
    {
      "cell_type": "code",
      "source": [
        "# sum(s)\n",
        "\n",
        "s = {0,1,2,3,4}\n",
        "print(sum(s))"
      ],
      "metadata": {
        "colab": {
          "base_uri": "https://localhost:8080/"
        },
        "id": "keOlqs7Kz0c1",
        "outputId": "0fc8a2b7-e877-45e7-e4e9-d520043d16bb"
      },
      "execution_count": 28,
      "outputs": [
        {
          "output_type": "stream",
          "name": "stdout",
          "text": [
            "10\n"
          ]
        }
      ]
    },
    {
      "cell_type": "code",
      "source": [
        "# sorted(s)\n",
        "\n",
        "s = {0,1,2,3,4}\n",
        "print(sorted(s))"
      ],
      "metadata": {
        "colab": {
          "base_uri": "https://localhost:8080/"
        },
        "id": "sKJ76PQrz0iN",
        "outputId": "7bb453d2-e55d-4a1b-c72c-987db66cc681"
      },
      "execution_count": 29,
      "outputs": [
        {
          "output_type": "stream",
          "name": "stdout",
          "text": [
            "[0, 1, 2, 3, 4]\n"
          ]
        }
      ]
    },
    {
      "cell_type": "code",
      "source": [
        "# s==t or s!=t\n",
        "\n",
        "s = {1,2,3}\n",
        "t = {4,5,6}\n",
        "\n",
        "print(f's==t is {s==t}')\n",
        "print(f's!=t is {s!=t}')"
      ],
      "metadata": {
        "colab": {
          "base_uri": "https://localhost:8080/"
        },
        "id": "ApPpqO64z0nM",
        "outputId": "223a02be-9db4-4740-e145-d5a7648453b8"
      },
      "execution_count": 30,
      "outputs": [
        {
          "output_type": "stream",
          "name": "stdout",
          "text": [
            "s==t is False\n",
            "s!=t is True\n"
          ]
        }
      ]
    },
    {
      "cell_type": "code",
      "source": [],
      "metadata": {
        "id": "kbSP5FTM0mOk"
      },
      "execution_count": 30,
      "outputs": []
    }
  ]
}