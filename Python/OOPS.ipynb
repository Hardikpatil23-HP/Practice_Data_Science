{
 "cells": [
  {
   "cell_type": "markdown",
   "metadata": {},
   "source": [
    "# OOPS  \n",
    "\n",
    "---\n",
    "\n",
    "Major principles of object-oriented programming system are given below:  \n",
    "- \n",
    "*    Encapsulation    \n",
    "*    Inheritance\n",
    "*    Polymorphism\n",
    "*    Data Abstraction  \n",
    "  \n",
    "By combining these principles, OOP provides a modular, flexible, and maintainable way of building software.\n",
    "\n",
    "---"
   ]
  },
  {
   "cell_type": "markdown",
   "metadata": {},
   "source": [
    "* **Encapsulation**  \n",
    "Encapsulation refers to bundling data (attributes) and methods (functions) that operate on the data into a single unit,  \n",
    "called an object. It also restricts direct access to some components, which helps protect the object's integrity."
   ]
  },
  {
   "cell_type": "markdown",
   "metadata": {},
   "source": [
    "---"
   ]
  },
  {
   "cell_type": "code",
   "execution_count": 1,
   "metadata": {},
   "outputs": [
    {
     "name": "stdout",
     "output_type": "stream",
     "text": [
      "$500 deposited. New balance: $1500\n",
      "$300 withdrawn. Remaining balance: $1200\n",
      "1200\n"
     ]
    }
   ],
   "source": [
    "class BankAccount:\n",
    "\n",
    "    def __init__(self, owner, balance):\n",
    "        self.owner = owner  # Public attribute\n",
    "        self.__balance = balance  # Private attribute (denoted by __)\n",
    "\n",
    "    def deposit(self, amount):\n",
    "        if amount > 0:\n",
    "            self.__balance += amount\n",
    "            print(f\"${amount} deposited. New balance: ${self.__balance}\")\n",
    "\n",
    "    def withdraw(self, amount):\n",
    "        if 0 < amount <= self.__balance:\n",
    "            self.__balance -= amount\n",
    "            print(f\"${amount} withdrawn. Remaining balance: ${self.__balance}\")\n",
    "        else:\n",
    "            print(\"Insufficient balance or invalid amount\")\n",
    "\n",
    "    def get_balance(self):\n",
    "        return self.__balance  # Access to private attribute through a method\n",
    "\n",
    "# Example usage\n",
    "\n",
    "account = BankAccount(\"Alice\", 1000)    # class instance \n",
    "\n",
    "account.deposit(500)\n",
    "account.withdraw(300)\n",
    "print(account.get_balance())  # 1200\n",
    "\n",
    "# account.__balance  # Error: AttributeError (private attribute)\n"
   ]
  },
  {
   "cell_type": "markdown",
   "metadata": {},
   "source": [
    "---"
   ]
  },
  {
   "cell_type": "markdown",
   "metadata": {},
   "source": [
    "*  **Inheritance**  \n",
    "Inheritance allows a class (child) to inherit properties and behaviors from another class (parent).  \n",
    "This promotes code reuse and establishes a hierarchy.  "
   ]
  },
  {
   "cell_type": "markdown",
   "metadata": {},
   "source": [
    "---"
   ]
  },
  {
   "cell_type": "code",
   "execution_count": 5,
   "metadata": {},
   "outputs": [
    {
     "name": "stdout",
     "output_type": "stream",
     "text": [
      "Dog barks\n",
      "Cat meows\n",
      "Animal speaks\n"
     ]
    }
   ],
   "source": [
    "class Animal:\n",
    "    \n",
    "    def speak(self):\n",
    "        print(\"Animal speaks\")\n",
    "\n",
    "class Dog(Animal):  # Dog inherits from Animal\n",
    "    def speak(self):\n",
    "        print(\"Dog barks\")\n",
    "\n",
    "class Cat(Animal):  # Cat inherits from Animal\n",
    "    def speak(self):\n",
    "        print(\"Cat meows\")\n",
    "\n",
    "# Example usage\n",
    "animals = [Dog(), Cat(), Animal()]\n",
    "for animal in animals:\n",
    "    animal.speak()\n",
    "\n",
    "# Output:\n",
    "# Dog barks\n",
    "# Cat meows\n",
    "# Animal speaks\n"
   ]
  },
  {
   "cell_type": "markdown",
   "metadata": {},
   "source": [
    "---"
   ]
  },
  {
   "cell_type": "markdown",
   "metadata": {},
   "source": [
    "* **Polymorphism**  \n",
    "Polymorphism means \"many forms\" and allows objects of different classes to be treated as objects of a common parent class.  \n",
    "It enables the same method to behave differently based on the object calling it. "
   ]
  },
  {
   "cell_type": "markdown",
   "metadata": {},
   "source": [
    "---"
   ]
  },
  {
   "cell_type": "code",
   "execution_count": 3,
   "metadata": {},
   "outputs": [
    {
     "name": "stdout",
     "output_type": "stream",
     "text": [
      "Area: 20\n",
      "Area: 28.26\n"
     ]
    }
   ],
   "source": [
    "class Shape:\n",
    "    def area(self):\n",
    "        pass  # Abstract method\n",
    "\n",
    "class Rectangle(Shape):\n",
    "    def __init__(self, width, height):\n",
    "        self.width = width\n",
    "        self.height = height\n",
    "\n",
    "    def area(self):\n",
    "        return self.width * self.height\n",
    "\n",
    "class Circle(Shape):\n",
    "    def __init__(self, radius):\n",
    "        self.radius = radius\n",
    "\n",
    "    def area(self):\n",
    "        return 3.14 * self.radius ** 2\n",
    "\n",
    "# Example usage\n",
    "shapes = [Rectangle(4, 5), Circle(3)]\n",
    "for shape in shapes:\n",
    "    print(f\"Area: {shape.area()}\")\n",
    "\n",
    "# Output:\n",
    "# Area: 20\n",
    "# Area: 28.26"
   ]
  },
  {
   "cell_type": "markdown",
   "metadata": {},
   "source": [
    "*   **Abstraction**  \n",
    "Abstraction hides implementation details and exposes only essential features of an object.  \n",
    "It is implemented using abstract classes or interfaces."
   ]
  },
  {
   "cell_type": "code",
   "execution_count": 4,
   "metadata": {},
   "outputs": [
    {
     "name": "stdout",
     "output_type": "stream",
     "text": [
      "Car engine started\n",
      "Bike engine started\n"
     ]
    }
   ],
   "source": [
    "from abc import ABC, abstractmethod\n",
    "\n",
    "class Vehicle(ABC):  # Abstract base class\n",
    "    @abstractmethod\n",
    "    def start_engine(self):\n",
    "        pass\n",
    "\n",
    "class Car(Vehicle):\n",
    "    def start_engine(self):\n",
    "        print(\"Car engine started\")\n",
    "\n",
    "class Bike(Vehicle):\n",
    "    def start_engine(self):\n",
    "        print(\"Bike engine started\")\n",
    "\n",
    "# Example usage\n",
    "vehicles = [Car(), Bike()]\n",
    "for vehicle in vehicles:\n",
    "    vehicle.start_engine()\n",
    "\n",
    "# Output:\n",
    "# Car engine started\n",
    "# Bike engine started\n"
   ]
  },
  {
   "cell_type": "markdown",
   "metadata": {},
   "source": [
    "\n",
    "---\n",
    "\n",
    "#    # STATIC METHOD\n",
    "\n",
    "---"
   ]
  },
  {
   "cell_type": "markdown",
   "metadata": {},
   "source": [
    "**Static Method**  \n",
    "  \n",
    "A static method is a method in a class that does not depend on the instance (object) of the class.  \n",
    "It operates independently of class attributes or instance-specific data.  \n",
    "Static methods are defined using the **@staticmethod** decorator.  \n",
    "  \n",
    "**Key Features:**  \n",
    "  \n",
    "No self or cls: Static methods do not take self (instance) or cls (class) as their first parameter.  \n",
    "Utility-focused: Often used for utility or helper functions that don't need access to instance or class-level data.  \n",
    "Called directly on the class or instance: You can call a static method using the class name or an object of the class.  "
   ]
  },
  {
   "cell_type": "code",
   "execution_count": 9,
   "metadata": {},
   "outputs": [
    {
     "name": "stdout",
     "output_type": "stream",
     "text": [
      "8\n",
      "24\n"
     ]
    }
   ],
   "source": [
    "class MathUtils:\n",
    "    @staticmethod\n",
    "    def add(a, b):\n",
    "        return a + b\n",
    "\n",
    "    @staticmethod\n",
    "    def multiply(a, b):\n",
    "        return a * b\n",
    "\n",
    "# Example usage\n",
    "print(MathUtils.add(3, 5))       # Output: 8  \n",
    "print(MathUtils.multiply(4, 6)) # Output: 24  \n"
   ]
  }
 ],
 "metadata": {
  "kernelspec": {
   "display_name": "base",
   "language": "python",
   "name": "python3"
  },
  "language_info": {
   "codemirror_mode": {
    "name": "ipython",
    "version": 3
   },
   "file_extension": ".py",
   "mimetype": "text/x-python",
   "name": "python",
   "nbconvert_exporter": "python",
   "pygments_lexer": "ipython3",
   "version": "3.12.3"
  }
 },
 "nbformat": 4,
 "nbformat_minor": 2
}
